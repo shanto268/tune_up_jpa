{
 "cells": [
  {
   "cell_type": "markdown",
   "metadata": {
    "toc": true
   },
   "source": [
    "<h1>Table of Contents<span class=\"tocSkip\"></span></h1>\n",
    "<div class=\"toc\"><ul class=\"toc-item\"><li><span><a href=\"#the-_data-is-for-flux-pumping-the-JPA-and-_data2-and-_data3-are-from-signal-pumping-of-the-JPA\" data-toc-modified-id=\"the-_data-is-for-flux-pumping-the-JPA-and-_data2-and-_data3-are-from-signal-pumping-of-the-JPA-1\"><span class=\"toc-item-num\">1&nbsp;&nbsp;</span>the _data is for flux pumping the JPA and _data2 and _data3 are from signal pumping of the JPA</a></span></li><li><span><a href=\"#There-is-only-one-step-channel,-so-we-don't-need-to-reshape-data\" data-toc-modified-id=\"There-is-only-one-step-channel,-so-we-don't-need-to-reshape-data-2\"><span class=\"toc-item-num\">2&nbsp;&nbsp;</span>There is only one step channel, so we don't need to reshape data</a></span><ul class=\"toc-item\"><li><ul class=\"toc-item\"><li><span><a href=\"#Linearize-the-spectrum-analyzer-data\" data-toc-modified-id=\"Linearize-the-spectrum-analyzer-data-2.0.1\"><span class=\"toc-item-num\">2.0.1&nbsp;&nbsp;</span>Linearize the spectrum analyzer data</a></span></li></ul></li></ul></li><li><span><a href=\"#Get-the-frequency-data-for-spectrum-analyzer-and-VNA-traces\" data-toc-modified-id=\"Get-the-frequency-data-for-spectrum-analyzer-and-VNA-traces-3\"><span class=\"toc-item-num\">3&nbsp;&nbsp;</span>Get the frequency data for spectrum analyzer and VNA traces</a></span></li><li><span><a href=\"#Get-the-flux-data\" data-toc-modified-id=\"Get-the-flux-data-4\"><span class=\"toc-item-num\">4&nbsp;&nbsp;</span>Get the flux data</a></span></li><li><span><a href=\"#Get-the-SNR,-LO-power,-and-noise-power-as-function-of-flux\" data-toc-modified-id=\"Get-the-SNR,-LO-power,-and-noise-power-as-function-of-flux-5\"><span class=\"toc-item-num\">5&nbsp;&nbsp;</span>Get the SNR, LO power, and noise power as function of flux</a></span></li><li><span><a href=\"#OK,-now-we-set-the-flux-to-4.41-mA-and-sweep-power\" data-toc-modified-id=\"OK,-now-we-set-the-flux-to-4.41-mA-and-sweep-power-6\"><span class=\"toc-item-num\">6&nbsp;&nbsp;</span>OK, now we set the flux to 4.41 mA and sweep power</a></span><ul class=\"toc-item\"><li><ul class=\"toc-item\"><li><span><a href=\"#get-power-data\" data-toc-modified-id=\"get-power-data-6.0.1\"><span class=\"toc-item-num\">6.0.1&nbsp;&nbsp;</span>get power data</a></span></li></ul></li></ul></li><li><span><a href=\"#Now-sweep-pump-frequency,-keeping-Fp/2-withing-7-9-MHz-detuned-from-Fs\" data-toc-modified-id=\"Now-sweep-pump-frequency,-keeping-Fp/2-withing-7-9-MHz-detuned-from-Fs-7\"><span class=\"toc-item-num\">7&nbsp;&nbsp;</span>Now sweep pump frequency, keeping Fp/2 withing 7-9 MHz detuned from Fs</a></span></li><li><span><a href=\"#repeating-the-section-in-red-marks-with-SA-averaging\" data-toc-modified-id=\"repeating-the-section-in-red-marks-with-SA-averaging-8\"><span class=\"toc-item-num\">8&nbsp;&nbsp;</span>repeating the section in red marks with SA averaging</a></span></li><li><span><a href=\"#Now-let's-check-SNR-improvement-of-JPA-with-pump-off-and-on\" data-toc-modified-id=\"Now-let's-check-SNR-improvement-of-JPA-with-pump-off-and-on-9\"><span class=\"toc-item-num\">9&nbsp;&nbsp;</span>Now let's check SNR improvement of JPA with pump off and on</a></span><ul class=\"toc-item\"><li><ul class=\"toc-item\"><li><span><a href=\"#Above-is-with-pump-off\" data-toc-modified-id=\"Above-is-with-pump-off-9.0.1\"><span class=\"toc-item-num\">9.0.1&nbsp;&nbsp;</span>Above is with pump off</a></span></li><li><span><a href=\"#Now-let's-get-pump-on\" data-toc-modified-id=\"Now-let's-get-pump-on-9.0.2\"><span class=\"toc-item-num\">9.0.2&nbsp;&nbsp;</span>Now let's get pump on</a></span></li></ul></li></ul></li><li><span><a href=\"#The-JPA-pump-seemed-to-be-saturating-TWPA-as-we-were-not-able-to-get-any-gain-from-TWPA-while-having-JPA-ON\" data-toc-modified-id=\"The-JPA-pump-seemed-to-be-saturating-TWPA-as-we-were-not-able-to-get-any-gain-from-TWPA-while-having-JPA-ON-10\"><span class=\"toc-item-num\">10&nbsp;&nbsp;</span>The JPA pump seemed to be saturating TWPA as we were not able to get any gain from TWPA while having JPA ON</a></span><ul class=\"toc-item\"><li><span><a href=\"#Having-JPA-OFF-now\" data-toc-modified-id=\"Having-JPA-OFF-now-10.1\"><span class=\"toc-item-num\">10.1&nbsp;&nbsp;</span>Having JPA OFF now</a></span></li><li><span><a href=\"#Checking-SNR-from-TWPA-Frequency-sweep-having-its-power-at-4-dBm\" data-toc-modified-id=\"Checking-SNR-from-TWPA-Frequency-sweep-having-its-power-at-4-dBm-10.2\"><span class=\"toc-item-num\">10.2&nbsp;&nbsp;</span>Checking SNR from TWPA Frequency sweep having its power at 4 dBm</a></span></li><li><span><a href=\"#Checking-SNR-from-TWPA-power-sweep-having-its-power-at-8.04-GHz\" data-toc-modified-id=\"Checking-SNR-from-TWPA-power-sweep-having-its-power-at-8.04-GHz-10.3\"><span class=\"toc-item-num\">10.3&nbsp;&nbsp;</span>Checking SNR from TWPA power sweep having its power at 8.04 GHz</a></span></li><li><span><a href=\"#Now-let's-check-SNR-improvement-of-TWPA-with-pump-off-and-on\" data-toc-modified-id=\"Now-let's-check-SNR-improvement-of-TWPA-with-pump-off-and-on-10.4\"><span class=\"toc-item-num\">10.4&nbsp;&nbsp;</span>Now let's check SNR improvement of TWPA with pump off and on</a></span><ul class=\"toc-item\"><li><span><a href=\"#Above-is-with-pump-off\" data-toc-modified-id=\"Above-is-with-pump-off-10.4.1\"><span class=\"toc-item-num\">10.4.1&nbsp;&nbsp;</span>Above is with pump off</a></span></li><li><span><a href=\"#Now-let's-get-pump-on\" data-toc-modified-id=\"Now-let's-get-pump-on-10.4.2\"><span class=\"toc-item-num\">10.4.2&nbsp;&nbsp;</span>Now let's get pump on</a></span></li></ul></li><li><span><a href=\"#Checking-SNR-from-TWPA-Frequency-sweep-having-its-power-at-4-dBm-and-JPA-ON-with-signal-pumping\" data-toc-modified-id=\"Checking-SNR-from-TWPA-Frequency-sweep-having-its-power-at-4-dBm-and-JPA-ON-with-signal-pumping-10.5\"><span class=\"toc-item-num\">10.5&nbsp;&nbsp;</span>Checking SNR from TWPA Frequency sweep having its power at 4 dBm and JPA ON with signal pumping</a></span></li><li><span><a href=\"#Checking-SNR-from-TWPA-power-sweep-having-its-power-at-8.04-GHz\" data-toc-modified-id=\"Checking-SNR-from-TWPA-power-sweep-having-its-power-at-8.04-GHz-10.6\"><span class=\"toc-item-num\">10.6&nbsp;&nbsp;</span>Checking SNR from TWPA power sweep having its power at 8.04 GHz</a></span></li><li><span><a href=\"#Checking-SNR-from-TWPA-power-sweep-having-its-power-at-7.93-GHz\" data-toc-modified-id=\"Checking-SNR-from-TWPA-power-sweep-having-its-power-at-7.93-GHz-10.7\"><span class=\"toc-item-num\">10.7&nbsp;&nbsp;</span>Checking SNR from TWPA power sweep having its power at 7.93 GHz</a></span></li><li><span><a href=\"#Now-let's-check-SNR-improvement-of-TWPA-with-pump-off-and-on\" data-toc-modified-id=\"Now-let's-check-SNR-improvement-of-TWPA-with-pump-off-and-on-10.8\"><span class=\"toc-item-num\">10.8&nbsp;&nbsp;</span>Now let's check SNR improvement of TWPA with pump off and on</a></span><ul class=\"toc-item\"><li><span><a href=\"#Above-is-with-pump-off\" data-toc-modified-id=\"Above-is-with-pump-off-10.8.1\"><span class=\"toc-item-num\">10.8.1&nbsp;&nbsp;</span>Above is with pump off</a></span></li><li><span><a href=\"#Now-let's-get-pump-on\" data-toc-modified-id=\"Now-let's-get-pump-on-10.8.2\"><span class=\"toc-item-num\">10.8.2&nbsp;&nbsp;</span>Now let's get pump on</a></span></li></ul></li></ul></li><li><span><a href=\"#SNR-check-both-OFF\" data-toc-modified-id=\"SNR-check-both-OFF-11\"><span class=\"toc-item-num\">11&nbsp;&nbsp;</span>SNR check both OFF</a></span></li><li><span><a href=\"#SNR-check-TWPA-ON-and-JPA-OFF\" data-toc-modified-id=\"SNR-check-TWPA-ON-and-JPA-OFF-12\"><span class=\"toc-item-num\">12&nbsp;&nbsp;</span>SNR check TWPA ON and JPA OFF</a></span></li><li><span><a href=\"#SNR-check-TWPA-OFF-and-JPA-ON\" data-toc-modified-id=\"SNR-check-TWPA-OFF-and-JPA-ON-13\"><span class=\"toc-item-num\">13&nbsp;&nbsp;</span>SNR check TWPA OFF and JPA ON</a></span></li><li><span><a href=\"#SNR-check-both-ON\" data-toc-modified-id=\"SNR-check-both-ON-14\"><span class=\"toc-item-num\">14&nbsp;&nbsp;</span>SNR check both ON</a></span></li><li><span><a href=\"#JPA-tuneup-for-signal-pumping-and-moved-away-in-flux\" data-toc-modified-id=\"JPA-tuneup-for-signal-pumping-and-moved-away-in-flux-15\"><span class=\"toc-item-num\">15&nbsp;&nbsp;</span>JPA tuneup for signal pumping and moved away in flux</a></span></li><li><span><a href=\"#TWPA-tuneup-for-JPA-moved-away-in-flux\" data-toc-modified-id=\"TWPA-tuneup-for-JPA-moved-away-in-flux-16\"><span class=\"toc-item-num\">16&nbsp;&nbsp;</span>TWPA tuneup for JPA moved away in flux</a></span></li></ul></div>"
   ]
  },
  {
   "cell_type": "code",
   "execution_count": 2,
   "metadata": {},
   "outputs": [],
   "source": [
    "import Labber\n",
    "import numpy as np\n",
    "import matplotlib.pyplot as plt\n",
    "import os\n",
    "from fitTools.utilities import Watt2dBm, dBm2Watt, VNA2dBm"
   ]
  },
  {
   "cell_type": "markdown",
   "metadata": {},
   "source": [
    "# the _data is for flux pumping the JPA and _data2 and _data3 are from signal pumping of the JPA"
   ]
  },
  {
   "cell_type": "code",
   "execution_count": 230,
   "metadata": {},
   "outputs": [],
   "source": [
    "fluxdata = r\"G:\\Shared drives\\LFL\\Labber\\Data\\2022\\01\\Data_0119\\NBR07-7_JPA_fluxtuneup.hdf5\"\n",
    "fluxdata2 = r\"G:\\Shared drives\\LFL\\Labber\\Data\\2022\\01\\Data_0121\\NBR07-7_JPA_fluxsweep_directpumping_2.hdf5\" #TWPA was left ON\n",
    "fluxdata3 = r\"G:\\Shared drives\\LFL\\Labber\\Data\\2022\\01\\Data_0121\\NBR07-7_JPA_fluxsweep_directpumping_3.hdf5\"\n",
    "#after tuning TWPA a bit\n",
    "fluxdata4 = r\"G:\\Shared drives\\LFL\\Labber\\Data\\2022\\01\\Data_0121\\NBR07-7_JPA_fluxsweep_signalpumping.hdf5\" \n",
    "#tuning JPA farther away from resonator\n",
    "fluxdata5 = r\"G:\\Shared drives\\LFL\\Labber\\Data\\2022\\01\\Data_0127\\NBR07-7_SNR_JPA_fluxsweep_signalpumping.hdf5\"\n",
    "#twpa on 7.95 Ghz and 4.5 dBm\n",
    "fluxdata6 = R\"G:\\Shared drives\\LFL\\Labber\\Data\\2022\\01\\Data_0128\\NBR07-7_SNR_JPA_fluxsweep_2.hdf5\""
   ]
  },
  {
   "cell_type": "code",
   "execution_count": 231,
   "metadata": {},
   "outputs": [],
   "source": [
    "lf = Labber.LogFile(fluxdata6)\n",
    "sig = lf.getData(name = 'SA - Signal')\n",
    "# s21 = lf.getData(name = 'VNA - S21')"
   ]
  },
  {
   "cell_type": "markdown",
   "metadata": {},
   "source": [
    "# There is only one step channel, so we don't need to reshape data"
   ]
  },
  {
   "cell_type": "markdown",
   "metadata": {},
   "source": [
    "### Linearize the spectrum analyzer data"
   ]
  },
  {
   "cell_type": "code",
   "execution_count": 232,
   "metadata": {},
   "outputs": [],
   "source": [
    "linsig = dBm2Watt(sig)\n",
    "# linsig.shape\n",
    "linsig = np.mean(linsig.reshape(21,4,401),axis = 1)"
   ]
  },
  {
   "cell_type": "markdown",
   "metadata": {},
   "source": [
    "# Get the frequency data for spectrum analyzer and VNA traces"
   ]
  },
  {
   "cell_type": "code",
   "execution_count": 233,
   "metadata": {},
   "outputs": [],
   "source": [
    "SAxdata,SAydata = lf.getTraceXY(y_channel='SA - Signal')\n",
    "# VNAxdata,VNAydata = lf.getTraceXY(y_channel='VNA - S21')"
   ]
  },
  {
   "cell_type": "markdown",
   "metadata": {},
   "source": [
    "# Get the flux data"
   ]
  },
  {
   "cell_type": "code",
   "execution_count": 234,
   "metadata": {},
   "outputs": [
    {
     "name": "stdout",
     "output_type": "stream",
     "text": [
      "(21, 4)\n"
     ]
    }
   ],
   "source": [
    "flux = lf.getData(name = 'JPA flux - Source current')\n",
    "print(flux.shape)"
   ]
  },
  {
   "cell_type": "code",
   "execution_count": 235,
   "metadata": {},
   "outputs": [],
   "source": [
    "flux = np.squeeze(flux)\n",
    "flux = flux[:,0]"
   ]
  },
  {
   "cell_type": "markdown",
   "metadata": {},
   "source": [
    "# Get the SNR, LO power, and noise power as function of flux"
   ]
  },
  {
   "cell_type": "code",
   "execution_count": 236,
   "metadata": {},
   "outputs": [],
   "source": [
    "SNR = []\n",
    "MAX = []\n",
    "NOISE = []\n",
    "for i in range(len(flux)):\n",
    "    max_ind=np.argmax(linsig[i])\n",
    "    max_val=np.max(linsig[i])\n",
    "    mask = np.logical_or(SAxdata < SAxdata[max_ind]-10e3, SAxdata > SAxdata[max_ind]+10e3)\n",
    "    noise=linsig[i][mask]\n",
    "    avg_noise=np.mean(noise)\n",
    "    snr = Watt2dBm(max_val)-Watt2dBm(avg_noise)\n",
    "    SNR.append(snr)\n",
    "    MAX.append(Watt2dBm(max_val))\n",
    "    NOISE.append(Watt2dBm(avg_noise))"
   ]
  },
  {
   "cell_type": "code",
   "execution_count": 239,
   "metadata": {},
   "outputs": [
    {
     "data": {
      "text/plain": [
       "<matplotlib.lines.Line2D at 0x29cd8c7e970>"
      ]
     },
     "execution_count": 239,
     "metadata": {},
     "output_type": "execute_result"
    },
    {
     "data": {
      "image/png": "[encoded data removed]",
      "text/plain": [
       "<Figure size 432x288 with 1 Axes>"
      ]
     },
     "metadata": {
      "needs_background": "light"
     },
     "output_type": "display_data"
    }
   ],
   "source": [
    "plt.plot(flux,SNR)\n",
    "plt.title('SNR')\n",
    "plt.axvline(5.275e-3)"
   ]
  },
  {
   "cell_type": "code",
   "execution_count": 229,
   "metadata": {},
   "outputs": [
    {
     "data": {
      "text/plain": [
       "Text(0.5, 1.0, 'SNR')"
      ]
     },
     "execution_count": 229,
     "metadata": {},
     "output_type": "execute_result"
    },
    {
     "data": {
      "image/png": "[encoded data removed]",
      "text/plain": [
       "<Figure size 432x288 with 1 Axes>"
      ]
     },
     "metadata": {
      "needs_background": "light"
     },
     "output_type": "display_data"
    }
   ],
   "source": [
    "plt.plot(flux,SNR)\n",
    "plt.title('SNR')\n",
    "# plt.axvline(4.88e-3)"
   ]
  },
  {
   "cell_type": "code",
   "execution_count": 293,
   "metadata": {},
   "outputs": [
    {
     "data": {
      "text/plain": [
       "<matplotlib.lines.Line2D at 0x1fcf4792820>"
      ]
     },
     "execution_count": 293,
     "metadata": {},
     "output_type": "execute_result"
    },
    {
     "data": {
      "image/png": "[encoded data removed]",
      "text/plain": [
       "<Figure size 432x288 with 1 Axes>"
      ]
     },
     "metadata": {
      "needs_background": "light"
     },
     "output_type": "display_data"
    }
   ],
   "source": [
    "plt.plot(flux,MAX)\n",
    "plt.title('LO power')\n",
    "plt.axvline(4.88e-3)"
   ]
  },
  {
   "cell_type": "code",
   "execution_count": 294,
   "metadata": {},
   "outputs": [
    {
     "data": {
      "text/plain": [
       "<matplotlib.lines.Line2D at 0x1fcf47ebbe0>"
      ]
     },
     "execution_count": 294,
     "metadata": {},
     "output_type": "execute_result"
    },
    {
     "data": {
      "image/png": "[encoded data removed]",
      "text/plain": [
       "<Figure size 432x288 with 1 Axes>"
      ]
     },
     "metadata": {
      "needs_background": "light"
     },
     "output_type": "display_data"
    }
   ],
   "source": [
    "plt.plot(flux,NOISE)\n",
    "plt.title('noise')\n",
    "plt.axvline(4.88e-3)"
   ]
  },
  {
   "cell_type": "markdown",
   "metadata": {},
   "source": [
    "# OK, now we set the flux to 4.41 mA and sweep power"
   ]
  },
  {
   "cell_type": "code",
   "execution_count": 249,
   "metadata": {},
   "outputs": [],
   "source": [
    "powerdata = r\"G:\\Shared drives\\LFL\\Labber\\Data\\2022\\01\\Data_0119\\NBR07-7_JPA_powertuneup.hdf5\"\n",
    "powerdata2 = r\"G:\\Shared drives\\LFL\\Labber\\Data\\2022\\01\\Data_0121\\NBR07-7_JPA_powersweep_directpumping_2.hdf5\"\n",
    "#after tuning TWPA a bit\n",
    "powerdata3 = r\"G:\\Shared drives\\LFL\\Labber\\Data\\2022\\01\\Data_0121\\NBR07-7_JPA_powersweep_signalpumping.hdf5\" \n",
    "#tuning JPA farther away from resonator 5.28 mA\n",
    "powerdata4 = r\"G:\\Shared drives\\LFL\\Labber\\Data\\2022\\01\\Data_0127\\NBR07-7_SNR_JPA_powersweep_signalpumping.hdf5\"\n",
    "#twpa on 7.95 Ghz and 4.5 dBm JPA curr 5.275 mA\n",
    "powerdata5 = r\"G:\\Shared drives\\LFL\\Labber\\Data\\2022\\01\\Data_0128\\NBR07-7_SNR_JPA_powersweep_2.hdf5\""
   ]
  },
  {
   "cell_type": "code",
   "execution_count": 250,
   "metadata": {},
   "outputs": [],
   "source": [
    "lf = Labber.LogFile(powerdata5)\n",
    "sig = lf.getData(name = 'SA - Signal')\n",
    "# s21 = lf.getData(name = 'VNA - S21')\n",
    "linsig = dBm2Watt(sig)"
   ]
  },
  {
   "cell_type": "code",
   "execution_count": 252,
   "metadata": {},
   "outputs": [],
   "source": [
    "linsig = np.mean(linsig.reshape(16,4,401),axis = 1)"
   ]
  },
  {
   "cell_type": "code",
   "execution_count": 253,
   "metadata": {},
   "outputs": [],
   "source": [
    "SAxdata,SAydata = lf.getTraceXY(y_channel='SA - Signal')"
   ]
  },
  {
   "cell_type": "markdown",
   "metadata": {},
   "source": [
    "### get power data"
   ]
  },
  {
   "cell_type": "code",
   "execution_count": 254,
   "metadata": {},
   "outputs": [
    {
     "name": "stdout",
     "output_type": "stream",
     "text": [
      "(16, 4)\n"
     ]
    }
   ],
   "source": [
    "power = lf.getData(name = 'JPA pump - Power')\n",
    "print(power.shape)\n",
    "power = np.squeeze(power)"
   ]
  },
  {
   "cell_type": "code",
   "execution_count": 255,
   "metadata": {},
   "outputs": [],
   "source": [
    "SNR = []\n",
    "MAX = []\n",
    "NOISE = []\n",
    "for i in range(len(power)):\n",
    "    max_ind=np.argmax(linsig[i])\n",
    "    max_val=np.max(linsig[i])\n",
    "    mask = np.logical_or(SAxdata < SAxdata[max_ind]-10e3, SAxdata > SAxdata[max_ind]+10e3)\n",
    "    noise=linsig[i][mask]\n",
    "    avg_noise=np.mean(noise)\n",
    "    snr = Watt2dBm(max_val)-Watt2dBm(avg_noise)\n",
    "    SNR.append(snr)\n",
    "    MAX.append(Watt2dBm(max_val))\n",
    "    NOISE.append(Watt2dBm(avg_noise))"
   ]
  },
  {
   "cell_type": "code",
   "execution_count": 73,
   "metadata": {},
   "outputs": [
    {
     "data": {
      "text/plain": [
       "<matplotlib.lines.Line2D at 0x29cdbe3f580>"
      ]
     },
     "execution_count": 73,
     "metadata": {},
     "output_type": "execute_result"
    },
    {
     "data": {
      "image/png": "[encoded data removed]",
      "text/plain": [
       "<Figure size 432x288 with 1 Axes>"
      ]
     },
     "metadata": {
      "needs_background": "light"
     },
     "output_type": "display_data"
    }
   ],
   "source": [
    "plt.plot(power,SNR)\n",
    "plt.title('SNR')\n",
    "plt.axvline(-3)"
   ]
  },
  {
   "cell_type": "code",
   "execution_count": 259,
   "metadata": {},
   "outputs": [
    {
     "data": {
      "text/plain": [
       "<matplotlib.lines.Line2D at 0x29cdc18ff40>"
      ]
     },
     "execution_count": 259,
     "metadata": {},
     "output_type": "execute_result"
    },
    {
     "data": {
      "image/png": "[encoded data removed]",
      "text/plain": [
       "<Figure size 432x288 with 1 Axes>"
      ]
     },
     "metadata": {
      "needs_background": "light"
     },
     "output_type": "display_data"
    }
   ],
   "source": [
    "plt.plot(power,SNR)\n",
    "plt.title('SNR')\n",
    "plt.axvline(-2.8)"
   ]
  },
  {
   "cell_type": "code",
   "execution_count": 303,
   "metadata": {},
   "outputs": [
    {
     "data": {
      "text/plain": [
       "<matplotlib.lines.Line2D at 0x1fcf33ab940>"
      ]
     },
     "execution_count": 303,
     "metadata": {},
     "output_type": "execute_result"
    },
    {
     "data": {
      "image/png": "[encoded data removed]",
      "text/plain": [
       "<Figure size 432x288 with 1 Axes>"
      ]
     },
     "metadata": {
      "needs_background": "light"
     },
     "output_type": "display_data"
    }
   ],
   "source": [
    "plt.plot(power,MAX)\n",
    "plt.title('LO power')\n",
    "plt.axvline(-7.5)"
   ]
  },
  {
   "cell_type": "code",
   "execution_count": 304,
   "metadata": {},
   "outputs": [
    {
     "data": {
      "text/plain": [
       "<matplotlib.lines.Line2D at 0x1fcf49c8b50>"
      ]
     },
     "execution_count": 304,
     "metadata": {},
     "output_type": "execute_result"
    },
    {
     "data": {
      "image/png": "[encoded data removed]",
      "text/plain": [
       "<Figure size 432x288 with 1 Axes>"
      ]
     },
     "metadata": {
      "needs_background": "light"
     },
     "output_type": "display_data"
    }
   ],
   "source": [
    "plt.plot(power,NOISE)\n",
    "plt.title('noise')\n",
    "plt.axvline(-7.5)"
   ]
  },
  {
   "cell_type": "markdown",
   "metadata": {},
   "source": [
    "# Now sweep pump frequency, keeping Fp/2 withing 7-9 MHz detuned from Fs"
   ]
  },
  {
   "cell_type": "code",
   "execution_count": 260,
   "metadata": {},
   "outputs": [],
   "source": [
    "freqdata = r\"G:\\Shared drives\\LFL\\Labber\\Data\\2022\\01\\Data_0119\\NBR07-7_JPA_freqtuneup.hdf5\"\n",
    "freqdata2 = r\"G:\\Shared drives\\LFL\\Labber\\Data\\2022\\01\\Data_0121\\NBR07-7_JPA_freqsweep_directpumping.hdf5\"\n",
    "#after TWPA tuning\n",
    "freqdata3 = r\"G:\\Shared drives\\LFL\\Labber\\Data\\2022\\01\\Data_0121\\NBR07-7_JPA_freqsweep_signalpumping.hdf5\"  \n",
    "#tuning JPA farther away from resonator\n",
    "freqdata4 = r\"G:\\Shared drives\\LFL\\Labber\\Data\\2022\\01\\Data_0127\\NBR07-7_SNR_JPA_freqsweep_signalpumping.hdf5\"\n",
    "#twpa on 7.95 Ghz and 4.5 dBm JPA curr 5.275 mA power -2.8 dBm\n",
    "freqdata5 = r\"G:\\Shared drives\\LFL\\Labber\\Data\\2022\\01\\Data_0128\\NBR07-7_SNR_JPA_freqsweep.hdf5\""
   ]
  },
  {
   "cell_type": "code",
   "execution_count": 261,
   "metadata": {},
   "outputs": [],
   "source": [
    "lf = Labber.LogFile(freqdata5)\n",
    "sig = lf.getData(name = 'SA - Signal')\n",
    "# s21 = lf.getData(name = 'VNA - S21')\n",
    "linsig = dBm2Watt(sig)"
   ]
  },
  {
   "cell_type": "code",
   "execution_count": 262,
   "metadata": {},
   "outputs": [],
   "source": [
    "linsig = np.mean(linsig.reshape(16,4,401),axis = 1)"
   ]
  },
  {
   "cell_type": "code",
   "execution_count": 263,
   "metadata": {},
   "outputs": [
    {
     "name": "stdout",
     "output_type": "stream",
     "text": [
      "(16, 4)\n"
     ]
    }
   ],
   "source": [
    "freq = lf.getData(name = 'JPA pump - Frequency')\n",
    "print(freq.shape)\n",
    "freq = np.squeeze(freq)"
   ]
  },
  {
   "cell_type": "code",
   "execution_count": 264,
   "metadata": {},
   "outputs": [],
   "source": [
    "SNR = []\n",
    "MAX = []\n",
    "NOISE = []\n",
    "for i in range(len(freq)):\n",
    "    max_ind=np.argmax(linsig[i])\n",
    "    max_val=np.max(linsig[i])\n",
    "    mask = np.logical_or(SAxdata < SAxdata[max_ind]-10e3, SAxdata > SAxdata[max_ind]+10e3)\n",
    "    noise=linsig[i][mask]\n",
    "    avg_noise=np.mean(noise)\n",
    "    snr = Watt2dBm(max_val)-Watt2dBm(avg_noise)\n",
    "    SNR.append(snr)\n",
    "    MAX.append(Watt2dBm(max_val))\n",
    "    NOISE.append(Watt2dBm(avg_noise))"
   ]
  },
  {
   "cell_type": "code",
   "execution_count": 80,
   "metadata": {},
   "outputs": [
    {
     "data": {
      "text/plain": [
       "<matplotlib.lines.Line2D at 0x29cdbe848b0>"
      ]
     },
     "execution_count": 80,
     "metadata": {},
     "output_type": "execute_result"
    },
    {
     "data": {
      "image/png": "[encoded data removed]",
      "text/plain": [
       "<Figure size 432x288 with 1 Axes>"
      ]
     },
     "metadata": {
      "needs_background": "light"
     },
     "output_type": "display_data"
    }
   ],
   "source": [
    "plt.plot(freq,SNR)\n",
    "plt.title('SNR')\n",
    "plt.axvline(4.286e9)"
   ]
  },
  {
   "cell_type": "code",
   "execution_count": 265,
   "metadata": {},
   "outputs": [
    {
     "data": {
      "text/plain": [
       "<matplotlib.lines.Line2D at 0x29cd9ee27f0>"
      ]
     },
     "execution_count": 265,
     "metadata": {},
     "output_type": "execute_result"
    },
    {
     "data": {
      "image/png": "[encoded data removed]",
      "text/plain": [
       "<Figure size 432x288 with 1 Axes>"
      ]
     },
     "metadata": {
      "needs_background": "light"
     },
     "output_type": "display_data"
    }
   ],
   "source": [
    "plt.plot(freq,SNR)\n",
    "plt.title('SNR')\n",
    "plt.axvline(4.286e9)"
   ]
  },
  {
   "cell_type": "code",
   "execution_count": 81,
   "metadata": {},
   "outputs": [
    {
     "data": {
      "text/plain": [
       "<matplotlib.lines.Line2D at 0x29cdbec1e50>"
      ]
     },
     "execution_count": 81,
     "metadata": {},
     "output_type": "execute_result"
    },
    {
     "data": {
      "image/png": "[encoded data removed]",
      "text/plain": [
       "<Figure size 432x288 with 1 Axes>"
      ]
     },
     "metadata": {
      "needs_background": "light"
     },
     "output_type": "display_data"
    }
   ],
   "source": [
    "plt.plot(freq,MAX)\n",
    "plt.title('LO power')\n",
    "plt.axvline(4.286e9)"
   ]
  },
  {
   "cell_type": "code",
   "execution_count": 82,
   "metadata": {},
   "outputs": [
    {
     "data": {
      "text/plain": [
       "<matplotlib.lines.Line2D at 0x29cdbf08eb0>"
      ]
     },
     "execution_count": 82,
     "metadata": {},
     "output_type": "execute_result"
    },
    {
     "data": {
      "image/png": "[encoded data removed]",
      "text/plain": [
       "<Figure size 432x288 with 1 Axes>"
      ]
     },
     "metadata": {
      "needs_background": "light"
     },
     "output_type": "display_data"
    }
   ],
   "source": [
    "plt.plot(freq,NOISE)\n",
    "plt.title('noise')\n",
    "plt.axvline(4.286e9)"
   ]
  },
  {
   "cell_type": "markdown",
   "metadata": {},
   "source": [
    "# repeating the section in red marks with SA averaging"
   ]
  },
  {
   "cell_type": "code",
   "execution_count": 43,
   "metadata": {},
   "outputs": [],
   "source": [
    "freqdata = r\"G:\\Shared drives\\LFL\\Labber\\Data\\2022\\01\\Data_0119\\NBR07-7_JPA_freqtuneup_2.hdf5\""
   ]
  },
  {
   "cell_type": "code",
   "execution_count": 47,
   "metadata": {},
   "outputs": [],
   "source": [
    "lf = Labber.LogFile(freqdata)\n",
    "sig = lf.getData(name = 'SA - Signal')\n",
    "# s21 = lf.getData(name = 'VNA - S21')\n",
    "linsig = dBm2Watt(sig)\n",
    "linsig = np.mean(linsig.reshape(11,3,401),axis = 1)"
   ]
  },
  {
   "cell_type": "code",
   "execution_count": 48,
   "metadata": {},
   "outputs": [
    {
     "name": "stdout",
     "output_type": "stream",
     "text": [
      "(11, 3)\n"
     ]
    }
   ],
   "source": [
    "freq = lf.getData(name = 'JPA pump - Frequency')\n",
    "print(freq.shape)\n",
    "freq = np.squeeze(freq)"
   ]
  },
  {
   "cell_type": "code",
   "execution_count": 49,
   "metadata": {},
   "outputs": [],
   "source": [
    "freq = freq[:,0]"
   ]
  },
  {
   "cell_type": "code",
   "execution_count": 50,
   "metadata": {},
   "outputs": [],
   "source": [
    "SNR = []\n",
    "MAX = []\n",
    "NOISE = []\n",
    "for i in range(len(freq)):\n",
    "    max_ind=np.argmax(linsig[i])\n",
    "    max_val=np.max(linsig[i])\n",
    "    mask = np.logical_or(SAxdata < SAxdata[max_ind]-10e3, SAxdata > SAxdata[max_ind]+10e3)\n",
    "    noise=linsig[i][mask]\n",
    "    avg_noise=np.mean(noise)\n",
    "    snr = Watt2dBm(max_val)-Watt2dBm(avg_noise)\n",
    "    SNR.append(snr)\n",
    "    MAX.append(Watt2dBm(max_val))\n",
    "    NOISE.append(Watt2dBm(avg_noise))"
   ]
  },
  {
   "cell_type": "code",
   "execution_count": 57,
   "metadata": {},
   "outputs": [
    {
     "data": {
      "text/plain": [
       "<matplotlib.lines.Line2D at 0x1fcf02421f0>"
      ]
     },
     "execution_count": 57,
     "metadata": {},
     "output_type": "execute_result"
    },
    {
     "data": {
      "image/png": "[encoded data removed]",
      "text/plain": [
       "<Figure size 432x288 with 1 Axes>"
      ]
     },
     "metadata": {
      "needs_background": "light"
     },
     "output_type": "display_data"
    }
   ],
   "source": [
    "plt.plot(freq*1e-9,SNR)\n",
    "plt.title('SNR')\n",
    "plt.axvline(8.5592,c='red')\n",
    "plt.axvline(8.5602,c='red')\n",
    "plt.axvline(8.5595)"
   ]
  },
  {
   "cell_type": "markdown",
   "metadata": {},
   "source": [
    "# Now let's check SNR improvement of JPA with pump off and on"
   ]
  },
  {
   "cell_type": "code",
   "execution_count": 83,
   "metadata": {},
   "outputs": [],
   "source": [
    "pumpoffdata = r\"G:\\Shared drives\\LFL\\Labber\\Data\\2022\\01\\Data_0119\\NBR07-7_JPA_pumpoff.hdf5\"\n",
    "pumpoffdata2 = r\"G:\\Shared drives\\LFL\\Labber\\Data\\2022\\01\\Data_0121\\NBR07-7_JPA_OFF_directpumping.hdf5\"\n",
    "#reduced LO power by 10 dB\n",
    "pumpoffdata3 = r\"G:\\Shared drives\\LFL\\Labber\\Data\\2022\\01\\Data_0121\\NBR07-7_JPA_OFF_directpumping_2.hdf5\" \n",
    "#tuning JPA away from resonator\n",
    "pumpoffdata4 = r\"G:\\Shared drives\\LFL\\Labber\\Data\\2022\\01\\Data_0127\\NBR07-7_SNR_JPAoff_signalpumping.hdf5\""
   ]
  },
  {
   "cell_type": "code",
   "execution_count": 84,
   "metadata": {},
   "outputs": [],
   "source": [
    "lf = Labber.LogFile(pumpoffdata4)\n",
    "sig = lf.getData(name = 'SA - Signal')\n",
    "# s21 = lf.getData(name = 'VNA - S21')\n",
    "linsig = dBm2Watt(sig)\n",
    "linsig = np.mean(linsig,axis = 0)"
   ]
  },
  {
   "cell_type": "code",
   "execution_count": 85,
   "metadata": {},
   "outputs": [
    {
     "name": "stdout",
     "output_type": "stream",
     "text": [
      "9.841032306843609\n",
      "-61.094030372646905\n",
      "-70.93506267949051\n"
     ]
    }
   ],
   "source": [
    "max_ind=np.argmax(linsig)\n",
    "max_val=np.max(linsig)\n",
    "mask = np.logical_or(SAxdata < SAxdata[max_ind]-10e3, SAxdata > SAxdata[max_ind]+10e3)\n",
    "noise=linsig[mask]\n",
    "avg_noise=np.mean(noise)\n",
    "snr = Watt2dBm(max_val)-Watt2dBm(avg_noise)\n",
    "print(snr)\n",
    "print(Watt2dBm(max_val))\n",
    "print(Watt2dBm(avg_noise))"
   ]
  },
  {
   "cell_type": "markdown",
   "metadata": {},
   "source": [
    "### Above is with pump off"
   ]
  },
  {
   "cell_type": "markdown",
   "metadata": {},
   "source": [
    "### Now let's get pump on"
   ]
  },
  {
   "cell_type": "code",
   "execution_count": 86,
   "metadata": {},
   "outputs": [],
   "source": [
    "pumpondata = r\"G:\\Shared drives\\LFL\\Labber\\Data\\2022\\01\\Data_0119\\NBR07-7_JPA_pumpon.hdf5\"\n",
    "pumpondata2 = r\"G:\\Shared drives\\LFL\\Labber\\Data\\2022\\01\\Data_0121\\NBR07-7_JPA_ON_directpumping.hdf5\"\n",
    "#reduced LO power by 10 dB\n",
    "pumpondata3 = r\"G:\\Shared drives\\LFL\\Labber\\Data\\2022\\01\\Data_0121\\NBR07-7_JPA_ON_directpumping_2.hdf5\"  \n",
    "#tuning JPA away from resonator\n",
    "pumpondata4 = r\"G:\\Shared drives\\LFL\\Labber\\Data\\2022\\01\\Data_0127\\NBR07-7_SNR_JPAon_signalpumping.hdf5\""
   ]
  },
  {
   "cell_type": "code",
   "execution_count": 87,
   "metadata": {},
   "outputs": [],
   "source": [
    "lf = Labber.LogFile(pumpondata4)\n",
    "sig = lf.getData(name = 'SA - Signal')\n",
    "# s21 = lf.getData(name = 'VNA - S21')\n",
    "linsig = dBm2Watt(sig)\n",
    "linsig = np.mean(linsig,axis = 0)"
   ]
  },
  {
   "cell_type": "code",
   "execution_count": 88,
   "metadata": {},
   "outputs": [
    {
     "name": "stdout",
     "output_type": "stream",
     "text": [
      "17.43004396428939\n",
      "-50.283085546737134\n",
      "-67.71312951102652\n"
     ]
    }
   ],
   "source": [
    "max_ind=np.argmax(linsig)\n",
    "max_val=np.max(linsig)\n",
    "mask = np.logical_or(SAxdata < SAxdata[max_ind]-10e3, SAxdata > SAxdata[max_ind]+10e3)\n",
    "noise=linsig[mask]\n",
    "avg_noise=np.mean(noise)\n",
    "snr = Watt2dBm(max_val)-Watt2dBm(avg_noise)\n",
    "print(snr)\n",
    "print(Watt2dBm(max_val))\n",
    "print(Watt2dBm(avg_noise))"
   ]
  },
  {
   "cell_type": "code",
   "execution_count": 67,
   "metadata": {},
   "outputs": [
    {
     "data": {
      "text/plain": [
       "2.7799999999999994"
      ]
     },
     "execution_count": 67,
     "metadata": {},
     "output_type": "execute_result"
    }
   ],
   "source": [
    "11.45-8.67  #flux pumping"
   ]
  },
  {
   "cell_type": "code",
   "execution_count": 202,
   "metadata": {},
   "outputs": [
    {
     "data": {
      "text/plain": [
       "10.270000000000001"
      ]
     },
     "execution_count": 202,
     "metadata": {},
     "output_type": "execute_result"
    }
   ],
   "source": [
    "25.64-15.37   #signal pumping"
   ]
  },
  {
   "cell_type": "code",
   "execution_count": 209,
   "metadata": {},
   "outputs": [
    {
     "data": {
      "text/plain": [
       "10.589999999999998"
      ]
     },
     "execution_count": 209,
     "metadata": {},
     "output_type": "execute_result"
    }
   ],
   "source": [
    "16.58-5.99   #signal pumping and reduced LO power"
   ]
  },
  {
   "cell_type": "code",
   "execution_count": 89,
   "metadata": {},
   "outputs": [
    {
     "data": {
      "text/plain": [
       "7.59"
      ]
     },
     "execution_count": 89,
     "metadata": {},
     "output_type": "execute_result"
    }
   ],
   "source": [
    "17.43-9.84  #JPA tuned away"
   ]
  },
  {
   "cell_type": "markdown",
   "metadata": {},
   "source": [
    "# The JPA pump seemed to be saturating TWPA as we were not able to get any gain from TWPA while having JPA ON"
   ]
  },
  {
   "cell_type": "markdown",
   "metadata": {},
   "source": [
    "## Having JPA OFF now"
   ]
  },
  {
   "cell_type": "markdown",
   "metadata": {},
   "source": [
    "## Checking SNR from TWPA Frequency sweep having its power at 4 dBm"
   ]
  },
  {
   "cell_type": "code",
   "execution_count": 74,
   "metadata": {},
   "outputs": [],
   "source": [
    "freqdata = r\"G:\\Shared drives\\LFL\\Labber\\Data\\2022\\01\\Data_0119\\NBR07-7_TWPA_freqtuneup.hdf5\""
   ]
  },
  {
   "cell_type": "code",
   "execution_count": 76,
   "metadata": {},
   "outputs": [],
   "source": [
    "lf = Labber.LogFile(freqdata)\n",
    "sig = lf.getData(name = 'SA - Signal')\n",
    "# s21 = lf.getData(name = 'VNA - S21')\n",
    "linsig = dBm2Watt(sig)\n",
    "linsig = np.mean(linsig.reshape(31,5,401),axis = 1)"
   ]
  },
  {
   "cell_type": "code",
   "execution_count": 77,
   "metadata": {},
   "outputs": [
    {
     "name": "stdout",
     "output_type": "stream",
     "text": [
      "(31, 5)\n"
     ]
    }
   ],
   "source": [
    "freq = lf.getData(name = '10002A05 - Frequency')\n",
    "print(freq.shape)\n",
    "freq = np.squeeze(freq)"
   ]
  },
  {
   "cell_type": "code",
   "execution_count": 78,
   "metadata": {},
   "outputs": [],
   "source": [
    "freq = freq[:,0]"
   ]
  },
  {
   "cell_type": "code",
   "execution_count": 79,
   "metadata": {},
   "outputs": [],
   "source": [
    "SNR = []\n",
    "MAX = []\n",
    "NOISE = []\n",
    "for i in range(len(freq)):\n",
    "    max_ind=np.argmax(linsig[i])\n",
    "    max_val=np.max(linsig[i])\n",
    "    mask = np.logical_or(SAxdata < SAxdata[max_ind]-10e3, SAxdata > SAxdata[max_ind]+10e3)\n",
    "    noise=linsig[i][mask]\n",
    "    avg_noise=np.mean(noise)\n",
    "    snr = Watt2dBm(max_val)-Watt2dBm(avg_noise)\n",
    "    SNR.append(snr)\n",
    "    MAX.append(Watt2dBm(max_val))\n",
    "    NOISE.append(Watt2dBm(avg_noise))"
   ]
  },
  {
   "cell_type": "code",
   "execution_count": 85,
   "metadata": {},
   "outputs": [
    {
     "data": {
      "text/plain": [
       "<matplotlib.lines.Line2D at 0x1fcef0a83d0>"
      ]
     },
     "execution_count": 85,
     "metadata": {},
     "output_type": "execute_result"
    },
    {
     "data": {
      "image/png": "[encoded data removed]",
      "text/plain": [
       "<Figure size 432x288 with 1 Axes>"
      ]
     },
     "metadata": {
      "needs_background": "light"
     },
     "output_type": "display_data"
    }
   ],
   "source": [
    "plt.plot(freq*1e-9,SNR)\n",
    "plt.title('SNR')\n",
    "plt.axvline(8.05,c='red')\n",
    "plt.axvline(8.04,c='blue')\n",
    "# plt.axvline(8.5595)"
   ]
  },
  {
   "cell_type": "code",
   "execution_count": 86,
   "metadata": {},
   "outputs": [
    {
     "data": {
      "text/plain": [
       "<matplotlib.lines.Line2D at 0x1fcef0fc580>"
      ]
     },
     "execution_count": 86,
     "metadata": {},
     "output_type": "execute_result"
    },
    {
     "data": {
      "image/png": "[encoded data removed]",
      "text/plain": [
       "<Figure size 432x288 with 1 Axes>"
      ]
     },
     "metadata": {
      "needs_background": "light"
     },
     "output_type": "display_data"
    }
   ],
   "source": [
    "plt.plot(freq*1e-9, NOISE)\n",
    "plt.title('NOISE')\n",
    "plt.axvline(8.05,c='red')\n",
    "plt.axvline(8.04,c='blue')"
   ]
  },
  {
   "cell_type": "code",
   "execution_count": null,
   "metadata": {},
   "outputs": [],
   "source": []
  },
  {
   "cell_type": "code",
   "execution_count": null,
   "metadata": {},
   "outputs": [],
   "source": []
  },
  {
   "cell_type": "markdown",
   "metadata": {},
   "source": [
    "## Checking SNR from TWPA power sweep having its power at 8.04 GHz"
   ]
  },
  {
   "cell_type": "code",
   "execution_count": 88,
   "metadata": {},
   "outputs": [],
   "source": [
    "powerdata = r\"G:\\Shared drives\\LFL\\Labber\\Data\\2022\\01\\Data_0119\\NBR07-7_TWPA_powertuneup.hdf5\""
   ]
  },
  {
   "cell_type": "code",
   "execution_count": 89,
   "metadata": {},
   "outputs": [],
   "source": [
    "lf = Labber.LogFile(powerdata)\n",
    "sig = lf.getData(name = 'SA - Signal')\n",
    "# s21 = lf.getData(name = 'VNA - S21')\n",
    "linsig = dBm2Watt(sig)\n",
    "linsig = np.mean(linsig.reshape(19,5,401),axis = 1)"
   ]
  },
  {
   "cell_type": "code",
   "execution_count": 90,
   "metadata": {},
   "outputs": [
    {
     "name": "stdout",
     "output_type": "stream",
     "text": [
      "(19, 5)\n"
     ]
    }
   ],
   "source": [
    "freq = lf.getData(name = '10002A05 - Power')\n",
    "print(freq.shape)\n",
    "freq = np.squeeze(freq)"
   ]
  },
  {
   "cell_type": "code",
   "execution_count": 91,
   "metadata": {},
   "outputs": [],
   "source": [
    "freq = freq[:,0]"
   ]
  },
  {
   "cell_type": "code",
   "execution_count": 92,
   "metadata": {},
   "outputs": [],
   "source": [
    "SNR = []\n",
    "MAX = []\n",
    "NOISE = []\n",
    "for i in range(len(freq)):\n",
    "    max_ind=np.argmax(linsig[i])\n",
    "    max_val=np.max(linsig[i])\n",
    "    mask = np.logical_or(SAxdata < SAxdata[max_ind]-10e3, SAxdata > SAxdata[max_ind]+10e3)\n",
    "    noise=linsig[i][mask]\n",
    "    avg_noise=np.mean(noise)\n",
    "    snr = Watt2dBm(max_val)-Watt2dBm(avg_noise)\n",
    "    SNR.append(snr)\n",
    "    MAX.append(Watt2dBm(max_val))\n",
    "    NOISE.append(Watt2dBm(avg_noise))"
   ]
  },
  {
   "cell_type": "code",
   "execution_count": 95,
   "metadata": {},
   "outputs": [
    {
     "data": {
      "text/plain": [
       "<matplotlib.lines.Line2D at 0x1fcf046e580>"
      ]
     },
     "execution_count": 95,
     "metadata": {},
     "output_type": "execute_result"
    },
    {
     "data": {
      "image/png": "[encoded data removed]",
      "text/plain": [
       "<Figure size 432x288 with 1 Axes>"
      ]
     },
     "metadata": {
      "needs_background": "light"
     },
     "output_type": "display_data"
    }
   ],
   "source": [
    "plt.plot(freq,SNR)\n",
    "plt.title('SNR')\n",
    "plt.axvline(3.9,c='red')\n",
    "plt.axvline(4,c='blue')\n",
    "# plt.axvline(8.5595)"
   ]
  },
  {
   "cell_type": "code",
   "execution_count": 96,
   "metadata": {},
   "outputs": [
    {
     "data": {
      "text/plain": [
       "<matplotlib.lines.Line2D at 0x1fcf04ca910>"
      ]
     },
     "execution_count": 96,
     "metadata": {},
     "output_type": "execute_result"
    },
    {
     "data": {
      "image/png": "[encoded data removed]",
      "text/plain": [
       "<Figure size 432x288 with 1 Axes>"
      ]
     },
     "metadata": {
      "needs_background": "light"
     },
     "output_type": "display_data"
    }
   ],
   "source": [
    "plt.plot(freq, NOISE)\n",
    "plt.title('NOISE')\n",
    "plt.axvline(3.9,c='red')\n",
    "plt.axvline(4,c='blue')"
   ]
  },
  {
   "cell_type": "markdown",
   "metadata": {},
   "source": [
    "## Now let's check SNR improvement of TWPA with pump off and on"
   ]
  },
  {
   "cell_type": "code",
   "execution_count": 100,
   "metadata": {},
   "outputs": [],
   "source": [
    "pumpoffdata = r\"G:\\Shared drives\\LFL\\Labber\\Data\\2022\\01\\Data_0119\\NBR07-7_TWPA_OFF_SNR.hdf5\""
   ]
  },
  {
   "cell_type": "code",
   "execution_count": 101,
   "metadata": {},
   "outputs": [],
   "source": [
    "lf = Labber.LogFile(pumpoffdata)\n",
    "sig = lf.getData(name = 'SA - Signal')\n",
    "# s21 = lf.getData(name = 'VNA - S21')\n",
    "linsig = dBm2Watt(sig)\n",
    "linsig = np.mean(linsig,axis = 0)"
   ]
  },
  {
   "cell_type": "code",
   "execution_count": 102,
   "metadata": {},
   "outputs": [
    {
     "name": "stdout",
     "output_type": "stream",
     "text": [
      "8.303457819407107\n",
      "-62.77173691634878\n",
      "-71.07519473575589\n"
     ]
    }
   ],
   "source": [
    "max_ind=np.argmax(linsig)\n",
    "max_val=np.max(linsig)\n",
    "mask = np.logical_or(SAxdata < SAxdata[max_ind]-10e3, SAxdata > SAxdata[max_ind]+10e3)\n",
    "noise=linsig[mask]\n",
    "avg_noise=np.mean(noise)\n",
    "snr = Watt2dBm(max_val)-Watt2dBm(avg_noise)\n",
    "print(snr)\n",
    "print(Watt2dBm(max_val))\n",
    "print(Watt2dBm(avg_noise))"
   ]
  },
  {
   "cell_type": "markdown",
   "metadata": {},
   "source": [
    "### Above is with pump off"
   ]
  },
  {
   "cell_type": "markdown",
   "metadata": {},
   "source": [
    "### Now let's get pump on"
   ]
  },
  {
   "cell_type": "code",
   "execution_count": 103,
   "metadata": {},
   "outputs": [],
   "source": [
    "pumpondata = r\"G:\\Shared drives\\LFL\\Labber\\Data\\2022\\01\\Data_0119\\NBR07-7_TWPA_ON_SNR.hdf5\""
   ]
  },
  {
   "cell_type": "code",
   "execution_count": 104,
   "metadata": {},
   "outputs": [],
   "source": [
    "lf = Labber.LogFile(pumpondata)\n",
    "sig = lf.getData(name = 'SA - Signal')\n",
    "# s21 = lf.getData(name = 'VNA - S21')\n",
    "linsig = dBm2Watt(sig)\n",
    "linsig = np.mean(linsig,axis = 0)"
   ]
  },
  {
   "cell_type": "code",
   "execution_count": 105,
   "metadata": {},
   "outputs": [
    {
     "name": "stdout",
     "output_type": "stream",
     "text": [
      "15.165398242733247\n",
      "-50.95550975619045\n",
      "-66.1209079989237\n"
     ]
    }
   ],
   "source": [
    "max_ind=np.argmax(linsig)\n",
    "max_val=np.max(linsig)\n",
    "mask = np.logical_or(SAxdata < SAxdata[max_ind]-10e3, SAxdata > SAxdata[max_ind]+10e3)\n",
    "noise=linsig[mask]\n",
    "avg_noise=np.mean(noise)\n",
    "snr = Watt2dBm(max_val)-Watt2dBm(avg_noise)\n",
    "print(snr)\n",
    "print(Watt2dBm(max_val))\n",
    "print(Watt2dBm(avg_noise))"
   ]
  },
  {
   "cell_type": "code",
   "execution_count": 107,
   "metadata": {},
   "outputs": [
    {
     "data": {
      "text/plain": [
       "6.861999999999998"
      ]
     },
     "execution_count": 107,
     "metadata": {},
     "output_type": "execute_result"
    }
   ],
   "source": [
    "15.165-8.303"
   ]
  },
  {
   "cell_type": "code",
   "execution_count": null,
   "metadata": {},
   "outputs": [],
   "source": []
  },
  {
   "cell_type": "markdown",
   "metadata": {},
   "source": [
    "## Checking SNR from TWPA Frequency sweep having its power at 4 dBm and JPA ON with signal pumping"
   ]
  },
  {
   "cell_type": "code",
   "execution_count": 214,
   "metadata": {},
   "outputs": [],
   "source": [
    "freqdata2 = r\"G:\\Shared drives\\LFL\\Labber\\Data\\2022\\01\\Data_0121\\NBR07-7_TWPA_freqsweep.hdf5\"\n",
    "freqdata3 = r\"G:\\Shared drives\\LFL\\Labber\\Data\\2022\\01\\Data_0121\\NBR07-7_TWPA_freqsweep_2.hdf5\"\n",
    "#tuning JPA away from the resonator\n",
    "freqdata4 = r\"G:\\Shared drives\\LFL\\Labber\\Data\\2022\\01\\Data_0127\\NBR07-7_SNR_TWPA_freqsweep.hdf5\"\n",
    "#twpa power 5 dBm\n",
    "freqdata5 = r\"G:\\Shared drives\\LFL\\Labber\\Data\\2022\\01\\Data_0128\\NBR07-7_SNR_TWPAfreqsweep.hdf5\"\n",
    "#twpa power 4.5 dBm\n",
    "freqdata6 = r\"G:\\Shared drives\\LFL\\Labber\\Data\\2022\\01\\Data_0128\\NBR07-7_SNR_TWPAfreqsweep_2.hdf5\""
   ]
  },
  {
   "cell_type": "code",
   "execution_count": 215,
   "metadata": {},
   "outputs": [],
   "source": [
    "lf = Labber.LogFile(freqdata6)\n",
    "sig = lf.getData(name = 'SA - Signal')\n",
    "# s21 = lf.getData(name = 'VNA - S21')\n",
    "linsig = dBm2Watt(sig)"
   ]
  },
  {
   "cell_type": "code",
   "execution_count": 216,
   "metadata": {},
   "outputs": [],
   "source": [
    "linsig = np.mean(linsig.reshape(21,4,401),axis = 1)"
   ]
  },
  {
   "cell_type": "code",
   "execution_count": 217,
   "metadata": {},
   "outputs": [
    {
     "name": "stdout",
     "output_type": "stream",
     "text": [
      "(21, 4)\n"
     ]
    }
   ],
   "source": [
    "freq = lf.getData(name = '10002A05 - Frequency')\n",
    "print(freq.shape)\n",
    "freq = np.squeeze(freq)"
   ]
  },
  {
   "cell_type": "code",
   "execution_count": 218,
   "metadata": {},
   "outputs": [],
   "source": [
    "freq = freq[:,0]"
   ]
  },
  {
   "cell_type": "code",
   "execution_count": 219,
   "metadata": {},
   "outputs": [],
   "source": [
    "SNR = []\n",
    "MAX = []\n",
    "NOISE = []\n",
    "for i in range(len(freq)):\n",
    "    max_ind=np.argmax(linsig[i])\n",
    "    max_val=np.max(linsig[i])\n",
    "    mask = np.logical_or(SAxdata < SAxdata[max_ind]-10e3, SAxdata > SAxdata[max_ind]+10e3)\n",
    "    noise=linsig[i][mask]\n",
    "    avg_noise=np.mean(noise)\n",
    "    snr = Watt2dBm(max_val)-Watt2dBm(avg_noise)\n",
    "    SNR.append(snr)\n",
    "    MAX.append(Watt2dBm(max_val))\n",
    "    NOISE.append(Watt2dBm(avg_noise))"
   ]
  },
  {
   "cell_type": "code",
   "execution_count": 204,
   "metadata": {},
   "outputs": [
    {
     "data": {
      "text/plain": [
       "<matplotlib.lines.Line2D at 0x29cd8b53a00>"
      ]
     },
     "execution_count": 204,
     "metadata": {},
     "output_type": "execute_result"
    },
    {
     "data": {
      "image/png": "[encoded data removed]",
      "text/plain": [
       "<Figure size 432x288 with 1 Axes>"
      ]
     },
     "metadata": {
      "needs_background": "light"
     },
     "output_type": "display_data"
    }
   ],
   "source": [
    "plt.plot(freq*1e-9,SNR)\n",
    "plt.title('SNR')\n",
    "plt.axvline(7.95,c='red')"
   ]
  },
  {
   "cell_type": "code",
   "execution_count": 221,
   "metadata": {},
   "outputs": [
    {
     "data": {
      "text/plain": [
       "<matplotlib.lines.Line2D at 0x29cd8c99e80>"
      ]
     },
     "execution_count": 221,
     "metadata": {},
     "output_type": "execute_result"
    },
    {
     "data": {
      "image/png": "[encoded data removed]",
      "text/plain": [
       "<Figure size 432x288 with 1 Axes>"
      ]
     },
     "metadata": {
      "needs_background": "light"
     },
     "output_type": "display_data"
    }
   ],
   "source": [
    "plt.plot(freq*1e-9,SNR)\n",
    "plt.title('SNR')\n",
    "plt.axvline(7.95, c='red')"
   ]
  },
  {
   "cell_type": "code",
   "execution_count": 205,
   "metadata": {},
   "outputs": [
    {
     "data": {
      "text/plain": [
       "<matplotlib.lines.Line2D at 0x29cd8b927f0>"
      ]
     },
     "execution_count": 205,
     "metadata": {},
     "output_type": "execute_result"
    },
    {
     "data": {
      "image/png": "[encoded data removed]",
      "text/plain": [
       "<Figure size 432x288 with 1 Axes>"
      ]
     },
     "metadata": {
      "needs_background": "light"
     },
     "output_type": "display_data"
    }
   ],
   "source": [
    "plt.plot(freq*1e-9, NOISE)\n",
    "plt.title('NOISE')\n",
    "plt.axvline(7.95,c='red')\n",
    "# plt.axvline(8.04,c='blue')"
   ]
  },
  {
   "cell_type": "code",
   "execution_count": null,
   "metadata": {},
   "outputs": [],
   "source": []
  },
  {
   "cell_type": "code",
   "execution_count": null,
   "metadata": {},
   "outputs": [],
   "source": []
  },
  {
   "cell_type": "markdown",
   "metadata": {},
   "source": [
    "## Checking SNR from TWPA power sweep having its power at 8.04 GHz"
   ]
  },
  {
   "cell_type": "code",
   "execution_count": 236,
   "metadata": {},
   "outputs": [],
   "source": [
    "powerdata = r\"G:\\Shared drives\\LFL\\Labber\\Data\\2022\\01\\Data_0119\\NBR07-7_TWPA_powertuneup.hdf5\"\n",
    "powerdata2 = r\"G:\\Shared drives\\LFL\\Labber\\Data\\2022\\01\\Data_0121\\NBR07-7_TWPA_powersweep.hdf5\"\n",
    "powerdata3 = r\"G:\\Shared drives\\LFL\\Labber\\Data\\2022\\01\\Data_0121\\NBR07-7_TWPA_powersweep_2.hdf5\""
   ]
  },
  {
   "cell_type": "markdown",
   "metadata": {},
   "source": [
    "## Checking SNR from TWPA power sweep having its power at 7.93 GHz"
   ]
  },
  {
   "cell_type": "code",
   "execution_count": 206,
   "metadata": {},
   "outputs": [],
   "source": [
    "powerdata4 = r\"G:\\Shared drives\\LFL\\Labber\\Data\\2022\\01\\Data_0121\\NBR07-7_TWPA_powersweep_3.hdf5\"\n",
    "powerdata5 = r\"G:\\Shared drives\\LFL\\Labber\\Data\\2022\\01\\Data_0121\\NBR07-7_TWPA_powersweep_4.hdf5\"\n",
    "#tuning JPA away from the resonator\n",
    "powerdata6 = r\"G:\\Shared drives\\LFL\\Labber\\Data\\2022\\01\\Data_0127\\NBR07-7_SNR_TWPA_powersweep.hdf5\"\n",
    "#TWPA freq = 7.95 GHz\n",
    "powerdata7 = r\"G:\\Shared drives\\LFL\\Labber\\Data\\2022\\01\\Data_0128\\NBR07-7_SNR_TWPApowersweep.hdf5\""
   ]
  },
  {
   "cell_type": "code",
   "execution_count": 208,
   "metadata": {},
   "outputs": [],
   "source": [
    "lf = Labber.LogFile(powerdata7)\n",
    "sig = lf.getData(name = 'SA - Signal')\n",
    "# s21 = lf.getData(name = 'VNA - S21')\n",
    "linsig = dBm2Watt(sig)\n",
    "linsig = np.mean(linsig.reshape(15,4,401),axis = 1)"
   ]
  },
  {
   "cell_type": "code",
   "execution_count": 209,
   "metadata": {},
   "outputs": [
    {
     "name": "stdout",
     "output_type": "stream",
     "text": [
      "(15, 4)\n"
     ]
    }
   ],
   "source": [
    "freq = lf.getData(name = '10002A05 - Power')\n",
    "print(freq.shape)\n",
    "freq = np.squeeze(freq)"
   ]
  },
  {
   "cell_type": "code",
   "execution_count": 210,
   "metadata": {},
   "outputs": [],
   "source": [
    "freq = freq[:,0]"
   ]
  },
  {
   "cell_type": "code",
   "execution_count": 211,
   "metadata": {},
   "outputs": [],
   "source": [
    "SNR = []\n",
    "MAX = []\n",
    "NOISE = []\n",
    "for i in range(len(freq)):\n",
    "    max_ind=np.argmax(linsig[i])\n",
    "    max_val=np.max(linsig[i])\n",
    "    mask = np.logical_or(SAxdata < SAxdata[max_ind]-10e3, SAxdata > SAxdata[max_ind]+10e3)\n",
    "    noise=linsig[i][mask]\n",
    "    avg_noise=np.mean(noise)\n",
    "    snr = Watt2dBm(max_val)-Watt2dBm(avg_noise)\n",
    "    SNR.append(snr)\n",
    "    MAX.append(Watt2dBm(max_val))\n",
    "    NOISE.append(Watt2dBm(avg_noise))"
   ]
  },
  {
   "cell_type": "code",
   "execution_count": 213,
   "metadata": {},
   "outputs": [
    {
     "data": {
      "text/plain": [
       "<matplotlib.lines.Line2D at 0x29cd8c0ffd0>"
      ]
     },
     "execution_count": 213,
     "metadata": {},
     "output_type": "execute_result"
    },
    {
     "data": {
      "image/png": "[encoded data removed]",
      "text/plain": [
       "<Figure size 432x288 with 1 Axes>"
      ]
     },
     "metadata": {
      "needs_background": "light"
     },
     "output_type": "display_data"
    }
   ],
   "source": [
    "plt.plot(freq,SNR)\n",
    "plt.title('SNR')\n",
    "plt.axvline(4.5,c='red')"
   ]
  },
  {
   "cell_type": "code",
   "execution_count": 272,
   "metadata": {},
   "outputs": [
    {
     "data": {
      "text/plain": [
       "<matplotlib.lines.Line2D at 0x1fcf3546fa0>"
      ]
     },
     "execution_count": 272,
     "metadata": {},
     "output_type": "execute_result"
    },
    {
     "data": {
      "image/png": "[encoded data removed]",
      "text/plain": [
       "<Figure size 432x288 with 1 Axes>"
      ]
     },
     "metadata": {
      "needs_background": "light"
     },
     "output_type": "display_data"
    }
   ],
   "source": [
    "plt.plot(freq,SNR)\n",
    "plt.title('SNR')\n",
    "plt.axvline(2,c='red')"
   ]
  },
  {
   "cell_type": "code",
   "execution_count": 273,
   "metadata": {},
   "outputs": [
    {
     "data": {
      "text/plain": [
       "<matplotlib.lines.Line2D at 0x1fcf35a6be0>"
      ]
     },
     "execution_count": 273,
     "metadata": {},
     "output_type": "execute_result"
    },
    {
     "data": {
      "image/png": "[encoded data removed]",
      "text/plain": [
       "<Figure size 432x288 with 1 Axes>"
      ]
     },
     "metadata": {
      "needs_background": "light"
     },
     "output_type": "display_data"
    }
   ],
   "source": [
    "plt.plot(freq, NOISE)\n",
    "plt.title('NOISE')\n",
    "plt.axvline(2,c='red')"
   ]
  },
  {
   "cell_type": "markdown",
   "metadata": {},
   "source": [
    "## Now let's check SNR improvement of TWPA with pump off and on"
   ]
  },
  {
   "cell_type": "code",
   "execution_count": 277,
   "metadata": {},
   "outputs": [],
   "source": [
    "pumpoffdata = r\"G:\\Shared drives\\LFL\\Labber\\Data\\2022\\01\\Data_0119\\NBR07-7_TWPA_OFF_SNR.hdf5\"\n",
    "pumpoffdata2 = r\"G:\\Shared drives\\LFL\\Labber\\Data\\2022\\01\\Data_0121\\NBR07-7_TWPA_OFF.hdf5\""
   ]
  },
  {
   "cell_type": "code",
   "execution_count": 278,
   "metadata": {},
   "outputs": [],
   "source": [
    "lf = Labber.LogFile(pumpoffdata2)\n",
    "sig = lf.getData(name = 'SA - Signal')\n",
    "# s21 = lf.getData(name = 'VNA - S21')\n",
    "linsig = dBm2Watt(sig)\n",
    "linsig = np.mean(linsig,axis = 0)"
   ]
  },
  {
   "cell_type": "code",
   "execution_count": 279,
   "metadata": {},
   "outputs": [
    {
     "name": "stdout",
     "output_type": "stream",
     "text": [
      "15.939028331064598\n",
      "-48.892807694389056\n",
      "-64.83183602545365\n"
     ]
    }
   ],
   "source": [
    "max_ind=np.argmax(linsig)\n",
    "max_val=np.max(linsig)\n",
    "mask = np.logical_or(SAxdata < SAxdata[max_ind]-10e3, SAxdata > SAxdata[max_ind]+10e3)\n",
    "noise=linsig[mask]\n",
    "avg_noise=np.mean(noise)\n",
    "snr = Watt2dBm(max_val)-Watt2dBm(avg_noise)\n",
    "print(snr)\n",
    "print(Watt2dBm(max_val))\n",
    "print(Watt2dBm(avg_noise))"
   ]
  },
  {
   "cell_type": "markdown",
   "metadata": {},
   "source": [
    "### Above is with pump off"
   ]
  },
  {
   "cell_type": "markdown",
   "metadata": {},
   "source": [
    "### Now let's get pump on"
   ]
  },
  {
   "cell_type": "code",
   "execution_count": 274,
   "metadata": {},
   "outputs": [],
   "source": [
    "pumpondata = r\"G:\\Shared drives\\LFL\\Labber\\Data\\2022\\01\\Data_0119\\NBR07-7_TWPA_ON_SNR.hdf5\"\n",
    "pumpondata2 = r\"G:\\Shared drives\\LFL\\Labber\\Data\\2022\\01\\Data_0121\\NBR07-7_TWPA_ON.hdf5\""
   ]
  },
  {
   "cell_type": "code",
   "execution_count": 275,
   "metadata": {},
   "outputs": [],
   "source": [
    "lf = Labber.LogFile(pumpondata2)\n",
    "sig = lf.getData(name = 'SA - Signal')\n",
    "# s21 = lf.getData(name = 'VNA - S21')\n",
    "linsig = dBm2Watt(sig)\n",
    "linsig = np.mean(linsig,axis = 0)"
   ]
  },
  {
   "cell_type": "code",
   "execution_count": 276,
   "metadata": {},
   "outputs": [
    {
     "name": "stdout",
     "output_type": "stream",
     "text": [
      "16.946991659348235\n",
      "-41.797163253864944\n",
      "-58.74415491321318\n"
     ]
    }
   ],
   "source": [
    "max_ind=np.argmax(linsig)\n",
    "max_val=np.max(linsig)\n",
    "mask = np.logical_or(SAxdata < SAxdata[max_ind]-10e3, SAxdata > SAxdata[max_ind]+10e3)\n",
    "noise=linsig[mask]\n",
    "avg_noise=np.mean(noise)\n",
    "snr = Watt2dBm(max_val)-Watt2dBm(avg_noise)\n",
    "print(snr)\n",
    "print(Watt2dBm(max_val))\n",
    "print(Watt2dBm(avg_noise))"
   ]
  },
  {
   "cell_type": "code",
   "execution_count": 280,
   "metadata": {},
   "outputs": [
    {
     "data": {
      "text/plain": [
       "1.0099999999999998"
      ]
     },
     "execution_count": 280,
     "metadata": {},
     "output_type": "execute_result"
    }
   ],
   "source": [
    "16.95-15.94"
   ]
  },
  {
   "cell_type": "markdown",
   "metadata": {},
   "source": [
    "# SNR check both OFF"
   ]
  },
  {
   "cell_type": "code",
   "execution_count": 270,
   "metadata": {},
   "outputs": [],
   "source": [
    "bothoff = r\"G:\\Shared drives\\LFL\\Labber\\Data\\2022\\01\\Data_0123\\NBR07-7_SNR_bothOFF.hdf5\"\n",
    "bothoff2 = r\"G:\\Shared drives\\LFL\\Labber\\Data\\2022\\01\\Data_0124\\NBR07-7_SNR_bothOFF-2.hdf5\"\n",
    "bothoff3 = r\"G:\\Shared drives\\LFL\\Labber\\Data\\2022\\01\\Data_0124\\NBR07-7_SNR_bothOFF-3.hdf5\"\n",
    "bothoff3_1 = r\"G:\\Shared drives\\LFL\\Labber\\Data\\2022\\01\\Data_0124\\NBR07-7_SNR_bothOFF-3_1.hdf5\"\n",
    "#tuning JPA away\n",
    "bothoff4 = r\"G:\\Shared drives\\LFL\\Labber\\Data\\2022\\01\\Data_0128\\NBR07-7_SNR_bothOFF.hdf5\"\n",
    "bothoff5= r\"G:\\Shared drives\\LFL\\Labber\\Data\\2022\\01\\Data_0128\\NBR07-7_SNR_bothOFF_2.hdf5\""
   ]
  },
  {
   "cell_type": "code",
   "execution_count": null,
   "metadata": {},
   "outputs": [],
   "source": []
  },
  {
   "cell_type": "code",
   "execution_count": 271,
   "metadata": {},
   "outputs": [],
   "source": [
    "lf = Labber.LogFile(bothoff5)\n",
    "sig = lf.getData(name = 'SA - Signal')\n",
    "# s21 = lf.getData(name = 'VNA - S21')\n",
    "linsig = dBm2Watt(sig)\n",
    "linsig = np.mean(linsig,axis = 0)"
   ]
  },
  {
   "cell_type": "code",
   "execution_count": 272,
   "metadata": {},
   "outputs": [],
   "source": [
    "SAxdata,SAydata = lf.getTraceXY(y_channel='SA - Signal')"
   ]
  },
  {
   "cell_type": "code",
   "execution_count": 273,
   "metadata": {},
   "outputs": [
    {
     "name": "stdout",
     "output_type": "stream",
     "text": [
      "SNR =  9.617527207464043\n",
      "Signal =  -61.44587571646816\n",
      "Noise =  -71.0634029239322\n"
     ]
    }
   ],
   "source": [
    "max_ind=np.argmax(linsig)\n",
    "max_val=np.max(linsig)\n",
    "mask = np.logical_or(SAxdata < SAxdata[max_ind]-10e3, SAxdata > SAxdata[max_ind]+10e3)\n",
    "noise=linsig[mask]\n",
    "avg_noise=np.mean(noise)\n",
    "snr = Watt2dBm(max_val)-Watt2dBm(avg_noise)\n",
    "print(\"SNR = \", snr)\n",
    "print(\"Signal = \", Watt2dBm(max_val))\n",
    "print(\"Noise = \", Watt2dBm(avg_noise))"
   ]
  },
  {
   "cell_type": "markdown",
   "metadata": {},
   "source": [
    "# SNR check TWPA ON and JPA OFF"
   ]
  },
  {
   "cell_type": "code",
   "execution_count": 144,
   "metadata": {},
   "outputs": [],
   "source": [
    "twpaonjpaoff = r\"G:\\Shared drives\\LFL\\Labber\\Data\\2022\\01\\Data_0123\\NBR07-7_SNR_TWPAON_JPAOFF.hdf5\"\n",
    "twpaonjpaoff2 = r\"G:\\Shared drives\\LFL\\Labber\\Data\\2022\\01\\Data_0124\\NBR07-7_SNR_JPAOFF_TWPAON-2.hdf5\"\n",
    "twpaonjpaoff3 = r\"G:\\Shared drives\\LFL\\Labber\\Data\\2022\\01\\Data_0124\\NBR07-7_SNR_TWPAON_JPAOFF-3.hdf5\"\n",
    "#tuning JPA away\n",
    "twpaonjpaoff4 = r\"G:\\Shared drives\\LFL\\Labber\\Data\\2022\\01\\Data_0128\\NBR07-7_SNR_TWPAon_JPAoff.hdf5\""
   ]
  },
  {
   "cell_type": "code",
   "execution_count": 145,
   "metadata": {},
   "outputs": [],
   "source": [
    "lf = Labber.LogFile(twpaonjpaoff4)\n",
    "sig = lf.getData(name = 'SA - Signal')\n",
    "# s21 = lf.getData(name = 'VNA - S21')\n",
    "linsig = dBm2Watt(sig)\n",
    "linsig = np.mean(linsig,axis = 0)"
   ]
  },
  {
   "cell_type": "code",
   "execution_count": 146,
   "metadata": {},
   "outputs": [
    {
     "name": "stdout",
     "output_type": "stream",
     "text": [
      "11.666566847639508\n",
      "-57.10726963894388\n",
      "-68.77383648658339\n"
     ]
    }
   ],
   "source": [
    "max_ind=np.argmax(linsig)\n",
    "max_val=np.max(linsig)\n",
    "mask = np.logical_or(SAxdata < SAxdata[max_ind]-10e3, SAxdata > SAxdata[max_ind]+10e3)\n",
    "noise=linsig[mask]\n",
    "avg_noise=np.mean(noise)\n",
    "snr = Watt2dBm(max_val)-Watt2dBm(avg_noise)\n",
    "print(snr)\n",
    "print(Watt2dBm(max_val))\n",
    "print(Watt2dBm(avg_noise))"
   ]
  },
  {
   "cell_type": "markdown",
   "metadata": {},
   "source": [
    "# SNR check TWPA OFF and JPA ON"
   ]
  },
  {
   "cell_type": "code",
   "execution_count": 147,
   "metadata": {},
   "outputs": [],
   "source": [
    "twpaoffjpaon = r\"G:\\Shared drives\\LFL\\Labber\\Data\\2022\\01\\Data_0123\\NBR07-7_SNR_TWPAOFF_JPAON.hdf5\"\n",
    "twpaoffjpaon2 = r\"G:\\Shared drives\\LFL\\Labber\\Data\\2022\\01\\Data_0124\\NBR07-7_SNR_JPAON_TWPAOFF-2.hdf5\"\n",
    "twpaoffjpaon3 = r\"G:\\Shared drives\\LFL\\Labber\\Data\\2022\\01\\Data_0124\\NBR07-7_SNR_TWPAOFF_JPAON-3.hdf5\"\n",
    "#tuning JPA away from resonator\n",
    "twpaoffjpaon4 = r\"G:\\Shared drives\\LFL\\Labber\\Data\\2022\\01\\Data_0128\\NBR07-7_SNR_TWPAoff_JPAon.hdf5\""
   ]
  },
  {
   "cell_type": "code",
   "execution_count": 148,
   "metadata": {},
   "outputs": [],
   "source": [
    "lf = Labber.LogFile(twpaoffjpaon4)\n",
    "sig = lf.getData(name = 'SA - Signal')\n",
    "# s21 = lf.getData(name = 'VNA - S21')\n",
    "linsig = dBm2Watt(sig)\n",
    "linsig = np.mean(linsig,axis = 0)"
   ]
  },
  {
   "cell_type": "code",
   "execution_count": 149,
   "metadata": {},
   "outputs": [
    {
     "name": "stdout",
     "output_type": "stream",
     "text": [
      "14.33848977007817\n",
      "-54.21485148401264\n",
      "-68.55334125409081\n"
     ]
    }
   ],
   "source": [
    "max_ind=np.argmax(linsig)\n",
    "max_val=np.max(linsig)\n",
    "mask = np.logical_or(SAxdata < SAxdata[max_ind]-10e3, SAxdata > SAxdata[max_ind]+10e3)\n",
    "noise=linsig[mask]\n",
    "avg_noise=np.mean(noise)\n",
    "snr = Watt2dBm(max_val)-Watt2dBm(avg_noise)\n",
    "print(snr)\n",
    "print(Watt2dBm(max_val))\n",
    "print(Watt2dBm(avg_noise))"
   ]
  },
  {
   "cell_type": "markdown",
   "metadata": {},
   "source": [
    "# SNR check both ON"
   ]
  },
  {
   "cell_type": "code",
   "execution_count": 266,
   "metadata": {},
   "outputs": [],
   "source": [
    "bothon = r\"G:\\Shared drives\\LFL\\Labber\\Data\\2022\\01\\Data_0123\\NBR07-7_SNR_bothON.hdf5\"\n",
    "bothon2 = r\"G:\\Shared drives\\LFL\\Labber\\Data\\2022\\01\\Data_0124\\NBR07-7_SNR_bothON-2.hdf5\" #after optimizing TWPA\n",
    "bothon3 = r\"G:\\Shared drives\\LFL\\Labber\\Data\\2022\\01\\Data_0124\\NBR07-7_SNR_bothON-3.hdf5\"\n",
    "# bothon3_2 = r\"G:\\Shared drives\\LFL\\Labber\\Data\\2022\\01\\Data_0124\\NBR07-7_SNR_bothON-3_2.hdf5\"\n",
    "# bothon3_3 = r\"G:\\Shared drives\\LFL\\Labber\\Data\\2022\\01\\Data_0124\\NBR07-7_SNR_bothON-3_3.hdf5\"\n",
    "bothon3_1 = r\"G:\\Shared drives\\LFL\\Labber\\Data\\2022\\01\\Data_0124\\NBR07-7_SNR_bothON-3_1.hdf5\"\n",
    "#tuning JPA away from resonator\n",
    "bothon4 = r\"G:\\Shared drives\\LFL\\Labber\\Data\\2022\\01\\Data_0128\\NBR07-7_SNR_bothON.hdf5\"\n",
    "bothon5 = r\"G:\\Shared drives\\LFL\\Labber\\Data\\2022\\01\\Data_0128\\NBR07-7_SNR_bothON_2.hdf5\""
   ]
  },
  {
   "cell_type": "code",
   "execution_count": 267,
   "metadata": {},
   "outputs": [],
   "source": [
    "lf = Labber.LogFile(bothon5)\n",
    "sig = lf.getData(name = 'SA - Signal')\n",
    "# s21 = lf.getData(name = 'VNA - S21')\n",
    "linsig = dBm2Watt(sig)\n",
    "linsig = np.mean(linsig,axis = 0)"
   ]
  },
  {
   "cell_type": "code",
   "execution_count": 268,
   "metadata": {},
   "outputs": [],
   "source": [
    "SAxdata,SAydata = lf.getTraceXY(y_channel='SA - Signal')"
   ]
  },
  {
   "cell_type": "code",
   "execution_count": 269,
   "metadata": {},
   "outputs": [
    {
     "name": "stdout",
     "output_type": "stream",
     "text": [
      "SNR =  17.778100926084328\n",
      "Signal =  -45.62544088552435\n",
      "Noise =  -63.403541811608676\n"
     ]
    }
   ],
   "source": [
    "max_ind=np.argmax(linsig)\n",
    "max_val=np.max(linsig)\n",
    "mask = np.logical_or(SAxdata < SAxdata[max_ind]-10e3, SAxdata > SAxdata[max_ind]+10e3)\n",
    "noise=linsig[mask]\n",
    "avg_noise=np.mean(noise)\n",
    "snr = Watt2dBm(max_val)-Watt2dBm(avg_noise)\n",
    "print(\"SNR = \", snr)\n",
    "print(\"Signal = \", Watt2dBm(max_val))\n",
    "print(\"Noise = \", Watt2dBm(avg_noise))"
   ]
  },
  {
   "cell_type": "code",
   "execution_count": 376,
   "metadata": {},
   "outputs": [],
   "source": [
    "off2 = 8.08\n",
    "on2 = 18.72\n",
    "twpa2 = 11.66\n",
    "jpa2 = 18.52\n",
    "\n",
    "off1 = 5.99\n",
    "on1 = 17.57\n",
    "twpa1 = 8.97\n",
    "jpa1 = 17.02\n",
    "\n",
    "off3 = 7.38\n",
    "on3 = 18.95\n",
    "twpa3 = 11.61\n",
    "jpa3 = 18.45"
   ]
  },
  {
   "cell_type": "code",
   "execution_count": 354,
   "metadata": {},
   "outputs": [
    {
     "data": {
      "text/plain": [
       "3.58"
      ]
     },
     "execution_count": 354,
     "metadata": {},
     "output_type": "execute_result"
    }
   ],
   "source": [
    "twpa2 - off2"
   ]
  },
  {
   "cell_type": "code",
   "execution_count": 355,
   "metadata": {},
   "outputs": [
    {
     "data": {
      "text/plain": [
       "2.9800000000000004"
      ]
     },
     "execution_count": 355,
     "metadata": {},
     "output_type": "execute_result"
    }
   ],
   "source": [
    "twpa1 - off1"
   ]
  },
  {
   "cell_type": "code",
   "execution_count": 377,
   "metadata": {},
   "outputs": [
    {
     "data": {
      "text/plain": [
       "4.2299999999999995"
      ]
     },
     "execution_count": 377,
     "metadata": {},
     "output_type": "execute_result"
    }
   ],
   "source": [
    "twpa3 - off3"
   ]
  },
  {
   "cell_type": "code",
   "execution_count": 356,
   "metadata": {},
   "outputs": [
    {
     "data": {
      "text/plain": [
       "10.44"
      ]
     },
     "execution_count": 356,
     "metadata": {},
     "output_type": "execute_result"
    }
   ],
   "source": [
    "jpa2 - off2"
   ]
  },
  {
   "cell_type": "code",
   "execution_count": 357,
   "metadata": {},
   "outputs": [
    {
     "data": {
      "text/plain": [
       "11.03"
      ]
     },
     "execution_count": 357,
     "metadata": {},
     "output_type": "execute_result"
    }
   ],
   "source": [
    "jpa1 - off1"
   ]
  },
  {
   "cell_type": "code",
   "execution_count": 378,
   "metadata": {},
   "outputs": [
    {
     "data": {
      "text/plain": [
       "11.07"
      ]
     },
     "execution_count": 378,
     "metadata": {},
     "output_type": "execute_result"
    }
   ],
   "source": [
    "jpa3 - off3"
   ]
  },
  {
   "cell_type": "code",
   "execution_count": 358,
   "metadata": {},
   "outputs": [
    {
     "data": {
      "text/plain": [
       "10.639999999999999"
      ]
     },
     "execution_count": 358,
     "metadata": {},
     "output_type": "execute_result"
    }
   ],
   "source": [
    "on2 - off2"
   ]
  },
  {
   "cell_type": "code",
   "execution_count": 359,
   "metadata": {},
   "outputs": [
    {
     "data": {
      "text/plain": [
       "11.58"
      ]
     },
     "execution_count": 359,
     "metadata": {},
     "output_type": "execute_result"
    }
   ],
   "source": [
    "on1 - off1"
   ]
  },
  {
   "cell_type": "code",
   "execution_count": 379,
   "metadata": {},
   "outputs": [
    {
     "data": {
      "text/plain": [
       "11.57"
      ]
     },
     "execution_count": 379,
     "metadata": {},
     "output_type": "execute_result"
    }
   ],
   "source": [
    "on3 - off3"
   ]
  },
  {
   "cell_type": "code",
   "execution_count": 360,
   "metadata": {},
   "outputs": [
    {
     "data": {
      "text/plain": [
       "2.09"
      ]
     },
     "execution_count": 360,
     "metadata": {},
     "output_type": "execute_result"
    }
   ],
   "source": [
    "off2 - off1"
   ]
  },
  {
   "cell_type": "code",
   "execution_count": 381,
   "metadata": {},
   "outputs": [
    {
     "data": {
      "text/plain": [
       "-0.7000000000000002"
      ]
     },
     "execution_count": 381,
     "metadata": {},
     "output_type": "execute_result"
    }
   ],
   "source": [
    "off3 - off2"
   ]
  },
  {
   "cell_type": "code",
   "execution_count": 361,
   "metadata": {},
   "outputs": [
    {
     "data": {
      "text/plain": [
       "1.1499999999999986"
      ]
     },
     "execution_count": 361,
     "metadata": {},
     "output_type": "execute_result"
    }
   ],
   "source": [
    "on2 - on1"
   ]
  },
  {
   "cell_type": "code",
   "execution_count": 384,
   "metadata": {},
   "outputs": [
    {
     "data": {
      "text/plain": [
       "0.23000000000000043"
      ]
     },
     "execution_count": 384,
     "metadata": {},
     "output_type": "execute_result"
    }
   ],
   "source": [
    "on3 - on2"
   ]
  },
  {
   "cell_type": "code",
   "execution_count": 399,
   "metadata": {},
   "outputs": [
    {
     "data": {
      "text/plain": [
       "-0.009999999999999787"
      ]
     },
     "execution_count": 399,
     "metadata": {},
     "output_type": "execute_result"
    }
   ],
   "source": [
    "(on3-off3) - (on1-off1)"
   ]
  },
  {
   "cell_type": "markdown",
   "metadata": {},
   "source": [
    "# JPA tuneup for signal pumping and moved away in flux"
   ]
  },
  {
   "cell_type": "code",
   "execution_count": 9,
   "metadata": {},
   "outputs": [],
   "source": [
    "path = r\"G:\\Shared drives\\LFL\\Labber\\Data\\2022\\01\\Data_0126\\NBR07-7_SNR_JPA_p_freq_flux_sweep_2.hdf5\""
   ]
  },
  {
   "cell_type": "code",
   "execution_count": 10,
   "metadata": {},
   "outputs": [],
   "source": [
    "lf = Labber.LogFile(path)\n",
    "nEntries  = lf.getNumberOfEntries()"
   ]
  },
  {
   "cell_type": "code",
   "execution_count": 11,
   "metadata": {},
   "outputs": [],
   "source": [
    "power = lf.getData(name = 'JPA pump - Power')\n",
    "\n",
    "curr = lf.getData(name = 'JPA flux - Source current')\n",
    "\n",
    "freq = lf.getData(name = 'JPA pump - Frequency')\n",
    "\n",
    "sig = lf.getData(name = 'SA - Signal')"
   ]
  },
  {
   "cell_type": "code",
   "execution_count": 12,
   "metadata": {},
   "outputs": [],
   "source": [
    "(xdata,ydata) = lf.getTraceXY()"
   ]
  },
  {
   "cell_type": "code",
   "execution_count": 13,
   "metadata": {},
   "outputs": [],
   "source": [
    "max_ind = np.argmax(ydata)\n",
    "mask = np.logical_or(xdata < xdata[max_ind]-1.5e3, xdata > xdata[max_ind]+1.5e3)"
   ]
  },
  {
   "cell_type": "code",
   "execution_count": 14,
   "metadata": {},
   "outputs": [
    {
     "data": {
      "text/plain": [
       "201"
      ]
     },
     "execution_count": 14,
     "metadata": {},
     "output_type": "execute_result"
    }
   ],
   "source": [
    "max_ind"
   ]
  },
  {
   "cell_type": "code",
   "execution_count": 15,
   "metadata": {},
   "outputs": [],
   "source": [
    "def dBmtoWatt(pdBm):\n",
    "    pWatt = 10**((pdBm-30)/10)\n",
    "    return(pWatt)\n",
    "\n",
    "def WatttodBm(pWatt):\n",
    "    pdBm = 10*np.log10(pWatt)+30\n",
    "    return(pdBm)"
   ]
  },
  {
   "cell_type": "code",
   "execution_count": 16,
   "metadata": {},
   "outputs": [
    {
     "data": {
      "text/plain": [
       "(736, 9)"
      ]
     },
     "execution_count": 16,
     "metadata": {},
     "output_type": "execute_result"
    }
   ],
   "source": [
    "freq.shape"
   ]
  },
  {
   "cell_type": "code",
   "execution_count": 17,
   "metadata": {},
   "outputs": [],
   "source": [
    "freq = np.reshape(freq, (46,16,9))"
   ]
  },
  {
   "cell_type": "code",
   "execution_count": 18,
   "metadata": {},
   "outputs": [],
   "source": [
    "power = np.reshape(power, (46,16,9))"
   ]
  },
  {
   "cell_type": "code",
   "execution_count": 30,
   "metadata": {},
   "outputs": [],
   "source": [
    "curr = np.reshape(curr, (46,16,9))"
   ]
  },
  {
   "cell_type": "code",
   "execution_count": 19,
   "metadata": {},
   "outputs": [],
   "source": [
    "signal = np.reshape(sig, (46,16,9,401))"
   ]
  },
  {
   "cell_type": "code",
   "execution_count": 21,
   "metadata": {},
   "outputs": [],
   "source": [
    "linsignal = dBmtoWatt(signal)"
   ]
  },
  {
   "cell_type": "code",
   "execution_count": 31,
   "metadata": {},
   "outputs": [],
   "source": [
    "snr = np.zeros((46,16,9))\n",
    "noise = np.zeros((46,16,9))\n",
    "for i in range(46):\n",
    "    for j in range(16):\n",
    "        for k in range(9):\n",
    "            max_ind=np.argmax(linsignal[i,j,k,:])\n",
    "            max_val=np.max(linsignal[i,j,k,:])\n",
    "            noisetemp=np.append(linsignal[i,j,k,:max_ind-75],linsignal[i,j,k,max_ind+75:])\n",
    "            avg_noise=np.mean(noisetemp)\n",
    "#             max_ind=np.argmax(linsignal[i,j,75:-75])\n",
    "#             max_val=np.max(linsignal[i,j,75:-75])\n",
    "#             noisetemp=np.append(linsignal[i,j,75:75+max_ind-40],linsignal[i,j,75+max_ind+40:-75])\n",
    "#             avg_noise=np.mean(noisetemp)\n",
    "            snr[i][j][k] = WatttodBm(max_val)-WatttodBm(avg_noise)\n",
    "            noise[i][j][k] = WatttodBm(avg_noise)"
   ]
  },
  {
   "cell_type": "code",
   "execution_count": 32,
   "metadata": {},
   "outputs": [
    {
     "data": {
      "text/plain": [
       "14.24126919632404"
      ]
     },
     "execution_count": 32,
     "metadata": {},
     "output_type": "execute_result"
    }
   ],
   "source": [
    "snr[0][0][0]"
   ]
  },
  {
   "cell_type": "code",
   "execution_count": 33,
   "metadata": {},
   "outputs": [],
   "source": [
    "ind_max_snr = np.unravel_index(np.argmax(snr, axis=None), snr.shape)"
   ]
  },
  {
   "cell_type": "code",
   "execution_count": 34,
   "metadata": {},
   "outputs": [
    {
     "data": {
      "text/plain": [
       "(2, 5, 2)"
      ]
     },
     "execution_count": 34,
     "metadata": {},
     "output_type": "execute_result"
    }
   ],
   "source": [
    "ind_max_snr"
   ]
  },
  {
   "cell_type": "code",
   "execution_count": 35,
   "metadata": {},
   "outputs": [
    {
     "data": {
      "text/plain": [
       "19.96503446614551"
      ]
     },
     "execution_count": 35,
     "metadata": {},
     "output_type": "execute_result"
    }
   ],
   "source": [
    "snr[ind_max_snr]"
   ]
  },
  {
   "cell_type": "code",
   "execution_count": 36,
   "metadata": {},
   "outputs": [
    {
     "data": {
      "text/plain": [
       "19.96503446614551"
      ]
     },
     "execution_count": 36,
     "metadata": {},
     "output_type": "execute_result"
    }
   ],
   "source": [
    "np.max(snr)"
   ]
  },
  {
   "cell_type": "code",
   "execution_count": 37,
   "metadata": {},
   "outputs": [
    {
     "data": {
      "text/plain": [
       "-7.0"
      ]
     },
     "execution_count": 37,
     "metadata": {},
     "output_type": "execute_result"
    }
   ],
   "source": [
    "power[ind_max_snr]"
   ]
  },
  {
   "cell_type": "code",
   "execution_count": 38,
   "metadata": {},
   "outputs": [
    {
     "data": {
      "text/plain": [
       "4.869999999999999"
      ]
     },
     "execution_count": 38,
     "metadata": {},
     "output_type": "execute_result"
    }
   ],
   "source": [
    "curr[ind_max_snr]*10**3"
   ]
  },
  {
   "cell_type": "code",
   "execution_count": 39,
   "metadata": {},
   "outputs": [
    {
     "data": {
      "text/plain": [
       "4.285"
      ]
     },
     "execution_count": 39,
     "metadata": {},
     "output_type": "execute_result"
    }
   ],
   "source": [
    "freq[ind_max_snr]*10**-9"
   ]
  },
  {
   "cell_type": "code",
   "execution_count": 40,
   "metadata": {},
   "outputs": [],
   "source": [
    "def nlargest_indices(arr, n):\n",
    "    uniques = np.unique(arr)\n",
    "    threshold = uniques[-n]\n",
    "    return np.where(arr >= threshold)\n",
    "\n",
    "def nsmallest_indices(arr, n):\n",
    "    uniques = np.unique(arr)\n",
    "    threshold = uniques[-n]\n",
    "    return np.where(arr <= threshold)"
   ]
  },
  {
   "cell_type": "code",
   "execution_count": 46,
   "metadata": {},
   "outputs": [],
   "source": [
    "ind1,ind2,ind3 = nlargest_indices(snr,20)"
   ]
  },
  {
   "cell_type": "code",
   "execution_count": 47,
   "metadata": {},
   "outputs": [],
   "source": [
    "inds = nlargest_indices(snr,20)"
   ]
  },
  {
   "cell_type": "code",
   "execution_count": 48,
   "metadata": {},
   "outputs": [
    {
     "data": {
      "text/plain": [
       "array([18.83458211, 19.77557874, 19.09850958, 19.28096516, 19.35543701,\n",
       "       19.05846886, 19.1721943 , 19.96503447, 19.32072682, 19.19259736,\n",
       "       19.80107037, 18.98242139, 19.77529575, 19.66990294, 19.13645892,\n",
       "       19.06673188, 18.81488988, 19.06185774, 18.75194078, 19.38671111])"
      ]
     },
     "execution_count": 48,
     "metadata": {},
     "output_type": "execute_result"
    }
   ],
   "source": [
    "snr[inds]"
   ]
  },
  {
   "cell_type": "code",
   "execution_count": 49,
   "metadata": {},
   "outputs": [
    {
     "data": {
      "text/plain": [
       "array([-62.61458211, -62.65557874, -66.11850958, -65.34096516,\n",
       "       -65.83543701, -65.30846886, -62.1721943 , -58.96503447,\n",
       "       -60.93072682, -65.93259736, -58.56107037, -57.93242139,\n",
       "       -58.09529575, -61.90990294, -58.95645892, -64.54673188,\n",
       "       -61.19488988, -58.29185774, -66.03194078, -67.46671111])"
      ]
     },
     "execution_count": 49,
     "metadata": {},
     "output_type": "execute_result"
    }
   ],
   "source": [
    "noise[inds]"
   ]
  },
  {
   "cell_type": "code",
   "execution_count": 50,
   "metadata": {
    "scrolled": false
   },
   "outputs": [
    {
     "name": "stdout",
     "output_type": "stream",
     "text": [
      "SNR =  18.83458211157661\n",
      "Noise =  -62.61458211157661\n",
      "Pump Power =  -7.0  dBm\n",
      "Pump Frequency =  4.2860000000000005  GHz\n",
      "Lisa Current =  4.8500000000000005  mA \n",
      "\n",
      "SNR =  19.775578738583405\n",
      "Noise =  -62.6555787385834\n",
      "Pump Power =  -7.0  dBm\n",
      "Pump Frequency =  4.285  GHz\n",
      "Lisa Current =  4.859999999999999  mA \n",
      "\n",
      "SNR =  19.098509576507837\n",
      "Noise =  -66.11850957650785\n",
      "Pump Power =  -8.0  dBm\n",
      "Pump Frequency =  4.281000000000001  GHz\n",
      "Lisa Current =  4.869999999999999  mA \n",
      "\n",
      "SNR =  19.280965164921128\n",
      "Noise =  -65.34096516492113\n",
      "Pump Power =  -8.0  dBm\n",
      "Pump Frequency =  4.282  GHz\n",
      "Lisa Current =  4.869999999999999  mA \n",
      "\n",
      "SNR =  19.355437007058242\n",
      "Noise =  -65.83543700705823\n",
      "Pump Power =  -8.0  dBm\n",
      "Pump Frequency =  4.283  GHz\n",
      "Lisa Current =  4.869999999999999  mA \n",
      "\n",
      "SNR =  19.05846885560544\n",
      "Noise =  -65.30846885560544\n",
      "Pump Power =  -7.0  dBm\n",
      "Pump Frequency =  4.283  GHz\n",
      "Lisa Current =  4.869999999999999  mA \n",
      "\n",
      "SNR =  19.172194303442453\n",
      "Noise =  -62.17219430344245\n",
      "Pump Power =  -7.0  dBm\n",
      "Pump Frequency =  4.284000000000001  GHz\n",
      "Lisa Current =  4.869999999999999  mA \n",
      "\n",
      "SNR =  19.96503446614551\n",
      "Noise =  -58.96503446614551\n",
      "Pump Power =  -7.0  dBm\n",
      "Pump Frequency =  4.285  GHz\n",
      "Lisa Current =  4.869999999999999  mA \n",
      "\n",
      "SNR =  19.32072681993442\n",
      "Noise =  -60.93072681993442\n",
      "Pump Power =  -7.0  dBm\n",
      "Pump Frequency =  4.2860000000000005  GHz\n",
      "Lisa Current =  4.869999999999999  mA \n",
      "\n",
      "SNR =  19.19259735745696\n",
      "Noise =  -65.93259735745697\n",
      "Pump Power =  -8.0  dBm\n",
      "Pump Frequency =  4.281000000000001  GHz\n",
      "Lisa Current =  4.879999999999999  mA \n",
      "\n",
      "SNR =  19.80107037476955\n",
      "Noise =  -58.56107037476954\n",
      "Pump Power =  -7.0  dBm\n",
      "Pump Frequency =  4.285  GHz\n",
      "Lisa Current =  4.879999999999999  mA \n",
      "\n",
      "SNR =  18.98242139482622\n",
      "Noise =  -57.93242139482622\n",
      "Pump Power =  -7.0  dBm\n",
      "Pump Frequency =  4.285  GHz\n",
      "Lisa Current =  4.899999999999998  mA \n",
      "\n",
      "SNR =  19.775295752656376\n",
      "Noise =  -58.09529575265637\n",
      "Pump Power =  -7.0  dBm\n",
      "Pump Frequency =  4.285  GHz\n",
      "Lisa Current =  4.9099999999999975  mA \n",
      "\n",
      "SNR =  19.66990293803775\n",
      "Noise =  -61.90990293803776\n",
      "Pump Power =  -7.0  dBm\n",
      "Pump Frequency =  4.283  GHz\n",
      "Lisa Current =  4.919999999999997  mA \n",
      "\n",
      "SNR =  19.13645891723226\n",
      "Noise =  -58.956458917232254\n",
      "Pump Power =  -7.0  dBm\n",
      "Pump Frequency =  4.284000000000001  GHz\n",
      "Lisa Current =  4.919999999999997  mA \n",
      "\n",
      "SNR =  19.066731884850483\n",
      "Noise =  -64.54673188485047\n",
      "Pump Power =  -6.0  dBm\n",
      "Pump Frequency =  4.285  GHz\n",
      "Lisa Current =  4.919999999999997  mA \n",
      "\n",
      "SNR =  18.814889880152933\n",
      "Noise =  -61.19488988015293\n",
      "Pump Power =  -7.0  dBm\n",
      "Pump Frequency =  4.2860000000000005  GHz\n",
      "Lisa Current =  4.939999999999997  mA \n",
      "\n",
      "SNR =  19.061857741552373\n",
      "Noise =  -58.29185774155236\n",
      "Pump Power =  -6.0  dBm\n",
      "Pump Frequency =  4.285  GHz\n",
      "Lisa Current =  4.949999999999996  mA \n",
      "\n",
      "SNR =  18.751940778910154\n",
      "Noise =  -66.03194077891015\n",
      "Pump Power =  -4.0  dBm\n",
      "Pump Frequency =  4.2860000000000005  GHz\n",
      "Lisa Current =  5.10999999999999  mA \n",
      "\n",
      "SNR =  19.386711111921414\n",
      "Noise =  -67.46671111192141\n",
      "Pump Power =  -3.0  dBm\n",
      "Pump Frequency =  4.2860000000000005  GHz\n",
      "Lisa Current =  5.2799999999999825  mA \n",
      "\n"
     ]
    }
   ],
   "source": [
    "for i in range(len(ind1)):\n",
    "    print('SNR = ', snr[ind1[i]][ind2[i]][ind3[i]])\n",
    "    print('Noise = ', noise[ind1[i]][ind2[i]][ind3[i]])\n",
    "    print('Pump Power = ', power[ind1[i]][ind2[i]][ind3[i]], ' dBm')\n",
    "    print('Pump Frequency = ', freq[ind1[i]][ind2[i]][ind3[i]]*10**-9, ' GHz')\n",
    "    print('Lisa Current = ', curr[ind1[i]][ind2[i]][ind3[i]]*10**3, ' mA \\n')"
   ]
  },
  {
   "cell_type": "markdown",
   "metadata": {},
   "source": [
    "# TWPA tuneup for JPA moved away in flux"
   ]
  },
  {
   "cell_type": "code",
   "execution_count": 170,
   "metadata": {},
   "outputs": [],
   "source": [
    "path = r\"G:\\Shared drives\\LFL\\Labber\\Data\\2022\\01\\Data_0128\\NBR07-7_SNR_TWPAsweep.hdf5\""
   ]
  },
  {
   "cell_type": "code",
   "execution_count": 171,
   "metadata": {},
   "outputs": [],
   "source": [
    "lf = Labber.LogFile(path)\n",
    "nEntries  = lf.getNumberOfEntries()"
   ]
  },
  {
   "cell_type": "code",
   "execution_count": 172,
   "metadata": {},
   "outputs": [],
   "source": [
    "power = lf.getData(name = '10002A05 - Power')\n",
    "\n",
    "freq = lf.getData(name = '10002A05 - Power')\n",
    "\n",
    "sig = lf.getData(name = 'SA - Signal')"
   ]
  },
  {
   "cell_type": "code",
   "execution_count": 173,
   "metadata": {},
   "outputs": [],
   "source": [
    "(xdata,ydata) = lf.getTraceXY()"
   ]
  },
  {
   "cell_type": "code",
   "execution_count": 174,
   "metadata": {},
   "outputs": [],
   "source": [
    "max_ind = np.argmax(ydata)\n",
    "mask = np.logical_or(xdata < xdata[max_ind]-1.5e3, xdata > xdata[max_ind]+1.5e3)"
   ]
  },
  {
   "cell_type": "code",
   "execution_count": 175,
   "metadata": {},
   "outputs": [
    {
     "data": {
      "text/plain": [
       "201"
      ]
     },
     "execution_count": 175,
     "metadata": {},
     "output_type": "execute_result"
    }
   ],
   "source": [
    "max_ind"
   ]
  },
  {
   "cell_type": "code",
   "execution_count": 176,
   "metadata": {},
   "outputs": [],
   "source": [
    "def dBmtoWatt(pdBm):\n",
    "    pWatt = 10**((pdBm-30)/10)\n",
    "    return(pWatt)\n",
    "\n",
    "def WatttodBm(pWatt):\n",
    "    pdBm = 10*np.log10(pWatt)+30\n",
    "    return(pdBm)"
   ]
  },
  {
   "cell_type": "code",
   "execution_count": 195,
   "metadata": {},
   "outputs": [
    {
     "data": {
      "text/plain": [
       "(11, 8)"
      ]
     },
     "execution_count": 195,
     "metadata": {},
     "output_type": "execute_result"
    }
   ],
   "source": [
    "power.shape"
   ]
  },
  {
   "cell_type": "code",
   "execution_count": 17,
   "metadata": {},
   "outputs": [],
   "source": [
    "# freq = np.reshape(freq, (46,16,9))"
   ]
  },
  {
   "cell_type": "code",
   "execution_count": 18,
   "metadata": {},
   "outputs": [],
   "source": [
    "# power = np.reshape(power, (46,16,9))"
   ]
  },
  {
   "cell_type": "code",
   "execution_count": 178,
   "metadata": {},
   "outputs": [],
   "source": [
    "signal = np.reshape(sig, (11,8,401))"
   ]
  },
  {
   "cell_type": "code",
   "execution_count": 179,
   "metadata": {},
   "outputs": [],
   "source": [
    "linsignal = dBmtoWatt(signal)"
   ]
  },
  {
   "cell_type": "code",
   "execution_count": 180,
   "metadata": {},
   "outputs": [],
   "source": [
    "snr = np.zeros((11,8))\n",
    "noise = np.zeros((11,8))\n",
    "for i in range(11):\n",
    "    for j in range(8):\n",
    "        max_ind=np.argmax(linsignal[i,j,:])\n",
    "        max_val=np.max(linsignal[i,j,:])\n",
    "        noisetemp=np.append(linsignal[i,j,:max_ind-75],linsignal[i,j,max_ind+75:])\n",
    "        avg_noise=np.mean(noisetemp)\n",
    "#             max_ind=np.argmax(linsignal[i,j,75:-75])\n",
    "#             max_val=np.max(linsignal[i,j,75:-75])\n",
    "#             noisetemp=np.append(linsignal[i,j,75:75+max_ind-40],linsignal[i,j,75+max_ind+40:-75])\n",
    "#             avg_noise=np.mean(noisetemp)\n",
    "        snr[i][j] = WatttodBm(max_val)-WatttodBm(avg_noise)\n",
    "        noise[i][j] = WatttodBm(avg_noise)"
   ]
  },
  {
   "cell_type": "code",
   "execution_count": 181,
   "metadata": {},
   "outputs": [
    {
     "data": {
      "text/plain": [
       "17.20811800730185"
      ]
     },
     "execution_count": 181,
     "metadata": {},
     "output_type": "execute_result"
    }
   ],
   "source": [
    "snr[0][0]"
   ]
  },
  {
   "cell_type": "code",
   "execution_count": 182,
   "metadata": {},
   "outputs": [],
   "source": [
    "ind_max_snr = np.unravel_index(np.argmax(snr, axis=None), snr.shape)"
   ]
  },
  {
   "cell_type": "code",
   "execution_count": 183,
   "metadata": {},
   "outputs": [
    {
     "data": {
      "text/plain": [
       "(8, 6)"
      ]
     },
     "execution_count": 183,
     "metadata": {},
     "output_type": "execute_result"
    }
   ],
   "source": [
    "ind_max_snr"
   ]
  },
  {
   "cell_type": "code",
   "execution_count": 184,
   "metadata": {},
   "outputs": [
    {
     "data": {
      "text/plain": [
       "19.495503122234638"
      ]
     },
     "execution_count": 184,
     "metadata": {},
     "output_type": "execute_result"
    }
   ],
   "source": [
    "snr[ind_max_snr]"
   ]
  },
  {
   "cell_type": "code",
   "execution_count": 185,
   "metadata": {},
   "outputs": [
    {
     "data": {
      "text/plain": [
       "19.495503122234638"
      ]
     },
     "execution_count": 185,
     "metadata": {},
     "output_type": "execute_result"
    }
   ],
   "source": [
    "np.max(snr)"
   ]
  },
  {
   "cell_type": "code",
   "execution_count": 186,
   "metadata": {},
   "outputs": [
    {
     "data": {
      "text/plain": [
       "5.0"
      ]
     },
     "execution_count": 186,
     "metadata": {},
     "output_type": "execute_result"
    }
   ],
   "source": [
    "power[ind_max_snr]"
   ]
  },
  {
   "cell_type": "code",
   "execution_count": 187,
   "metadata": {},
   "outputs": [
    {
     "data": {
      "text/plain": [
       "5.0"
      ]
     },
     "execution_count": 187,
     "metadata": {},
     "output_type": "execute_result"
    }
   ],
   "source": [
    "freq[ind_max_snr]"
   ]
  },
  {
   "cell_type": "code",
   "execution_count": 188,
   "metadata": {},
   "outputs": [],
   "source": [
    "def nlargest_indices(arr, n):\n",
    "    uniques = np.unique(arr)\n",
    "    threshold = uniques[-n]\n",
    "    return np.where(arr >= threshold)\n",
    "\n",
    "def nsmallest_indices(arr, n):\n",
    "    uniques = np.unique(arr)\n",
    "    threshold = uniques[-n]\n",
    "    return np.where(arr <= threshold)"
   ]
  },
  {
   "cell_type": "code",
   "execution_count": 190,
   "metadata": {},
   "outputs": [],
   "source": [
    "ind1,ind2 = nlargest_indices(snr,10)"
   ]
  },
  {
   "cell_type": "code",
   "execution_count": 191,
   "metadata": {},
   "outputs": [],
   "source": [
    "inds = nlargest_indices(snr,10)"
   ]
  },
  {
   "cell_type": "code",
   "execution_count": 192,
   "metadata": {},
   "outputs": [
    {
     "data": {
      "text/plain": [
       "array([18.64942637, 18.51664129, 18.97068643, 18.6540191 , 18.8725586 ,\n",
       "       18.54651553, 18.53838806, 18.56810527, 19.49550312, 18.51377484])"
      ]
     },
     "execution_count": 192,
     "metadata": {},
     "output_type": "execute_result"
    }
   ],
   "source": [
    "snr[inds]"
   ]
  },
  {
   "cell_type": "code",
   "execution_count": 193,
   "metadata": {},
   "outputs": [
    {
     "data": {
      "text/plain": [
       "array([-62.70942637, -62.41664129, -64.14068643, -63.6140191 ,\n",
       "       -61.1825586 , -61.29651553, -63.23838806, -60.31810527,\n",
       "       -63.74550312, -60.03377484])"
      ]
     },
     "execution_count": 193,
     "metadata": {},
     "output_type": "execute_result"
    }
   ],
   "source": [
    "noise[inds]"
   ]
  },
  {
   "cell_type": "code",
   "execution_count": 194,
   "metadata": {
    "scrolled": false
   },
   "outputs": [
    {
     "name": "stdout",
     "output_type": "stream",
     "text": [
      "SNR =  18.649426366648953\n",
      "Noise =  -62.709426366648955\n",
      "Pump Power =  4.0  dBm\n",
      "Pump Frequency =  4e-09  GHz\n",
      "SNR =  18.516641293129098\n",
      "Noise =  -62.4166412931291\n",
      "Pump Power =  3.0  dBm\n",
      "Pump Frequency =  3.0000000000000004e-09  GHz\n",
      "SNR =  18.970686428570005\n",
      "Noise =  -64.14068642857\n",
      "Pump Power =  5.0  dBm\n",
      "Pump Frequency =  5e-09  GHz\n",
      "SNR =  18.65401910221189\n",
      "Noise =  -63.6140191022119\n",
      "Pump Power =  2.0  dBm\n",
      "Pump Frequency =  2e-09  GHz\n",
      "SNR =  18.87255859814104\n",
      "Noise =  -61.18255859814104\n",
      "Pump Power =  4.0  dBm\n",
      "Pump Frequency =  4e-09  GHz\n",
      "SNR =  18.546515533514622\n",
      "Noise =  -61.29651553351462\n",
      "Pump Power =  3.0  dBm\n",
      "Pump Frequency =  3.0000000000000004e-09  GHz\n",
      "SNR =  18.538388064325957\n",
      "Noise =  -63.23838806432596\n",
      "Pump Power =  5.0  dBm\n",
      "Pump Frequency =  5e-09  GHz\n",
      "SNR =  18.568105274853707\n",
      "Noise =  -60.31810527485371\n",
      "Pump Power =  4.0  dBm\n",
      "Pump Frequency =  4e-09  GHz\n",
      "SNR =  19.495503122234638\n",
      "Noise =  -63.74550312223464\n",
      "Pump Power =  5.0  dBm\n",
      "Pump Frequency =  5e-09  GHz\n",
      "SNR =  18.513774843269587\n",
      "Noise =  -60.0337748432696\n",
      "Pump Power =  4.0  dBm\n",
      "Pump Frequency =  4e-09  GHz\n"
     ]
    }
   ],
   "source": [
    "for i in range(len(ind1)):\n",
    "    print('SNR = ', snr[ind1[i]][ind2[i]])\n",
    "    print('Noise = ', noise[ind1[i]][ind2[i]])\n",
    "    print('Pump Power = ', power[ind1[i]][ind2[i]], ' dBm')\n",
    "    print('Pump Frequency = ', freq[ind1[i]][ind2[i]]*10**-9, ' GHz')"
   ]
  },
  {
   "cell_type": "code",
   "execution_count": null,
   "metadata": {},
   "outputs": [],
   "source": []
  }
 ],
 "metadata": {
  "hide_input": false,
  "kernelspec": {
   "display_name": "Python 3 (ipykernel)",
   "language": "python",
   "name": "python3"
  },
  "language_info": {
   "codemirror_mode": {
    "name": "ipython",
    "version": 3
   },
   "file_extension": ".py",
   "mimetype": "text/x-python",
   "name": "python",
   "nbconvert_exporter": "python",
   "pygments_lexer": "ipython3",
   "version": "3.9.12"
  },
  "latex_envs": {
   "LaTeX_envs_menu_present": true,
   "autoclose": false,
   "autocomplete": true,
   "bibliofile": "biblio.bib",
   "cite_by": "apalike",
   "current_citInitial": 1,
   "eqLabelWithNumbers": true,
   "eqNumInitial": 1,
   "hotkeys": {
    "equation": "Ctrl-E",
    "itemize": "Ctrl-I"
   },
   "labels_anchors": false,
   "latex_user_defs": false,
   "report_style_numbering": false,
   "user_envs_cfg": false
  },
  "toc": {
   "base_numbering": 1,
   "nav_menu": {},
   "number_sections": true,
   "sideBar": false,
   "skip_h1_title": false,
   "title_cell": "Table of Contents",
   "title_sidebar": "Contents",
   "toc_cell": true,
   "toc_position": {
    "height": "47.7062px",
    "left": "1004.67px",
    "top": "135.706px",
    "width": "159.363px"
   },
   "toc_section_display": false,
   "toc_window_display": true
  },
  "varInspector": {
   "cols": {
    "lenName": 16,
    "lenType": 16,
    "lenVar": 40
   },
   "kernels_config": {
    "python": {
     "delete_cmd_postfix": "",
     "delete_cmd_prefix": "del ",
     "library": "var_list.py",
     "varRefreshCmd": "print(var_dic_list())"
    },
    "r": {
     "delete_cmd_postfix": ") ",
     "delete_cmd_prefix": "rm(",
     "library": "var_list.r",
     "varRefreshCmd": "cat(var_dic_list()) "
    }
   },
   "types_to_exclude": [
    "module",
    "function",
    "builtin_function_or_method",
    "instance",
    "_Feature"
   ],
   "window_display": false
  }
 },
 "nbformat": 4,
 "nbformat_minor": 4
}
