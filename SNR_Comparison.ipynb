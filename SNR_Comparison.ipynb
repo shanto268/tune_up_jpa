{
 "cells": [
  {
   "cell_type": "code",
   "execution_count": 1,
   "metadata": {
    "ExecuteTime": {
     "end_time": "2022-10-05T22:19:14.665662Z",
     "start_time": "2022-10-05T22:19:13.766934Z"
    }
   },
   "outputs": [],
   "source": [
    "import Labber\n",
    "import os\n",
    "import sys\n",
    "from fitTools.utilities import Watt2dBm, dBm2Watt, VNA2dBm\n",
    "\n",
    "sys.path.append('C:\\\\Users\\\\LFL\\\\lflPython-github\\\\MeasurementScripts\\\\Quasiparticles\\\\tune_up_twpa\\\\')\n",
    "\n",
    "from twpa_tune_up_helper_functions import *"
   ]
  },
  {
   "cell_type": "code",
   "execution_count": 15,
   "metadata": {
    "ExecuteTime": {
     "end_time": "2022-10-05T22:23:54.801025Z",
     "start_time": "2022-10-05T22:23:54.786069Z"
    }
   },
   "outputs": [],
   "source": [
    "lf_twpa_off_jpa_off = r\"G:\\Shared drives\\Labber\\Data\\2022\\10\\Data_1005\\JPA_Tune_Up_Base_Signal_TWPA_OFF_JPA_OFF_100522.hdf5\"\n",
    "lf_twpa_on_jpa_off = r\"G:\\Shared drives\\Labber\\Data\\2022\\10\\Data_1005\\JPA_Tune_Up_Base_Signal_TWPA_ON_JPA_OFF_100522.hdf5\"\n",
    "lf_twpa_on_jpa_on = r\"G:\\Shared drives\\Labber\\Data\\2022\\10\\Data_1005\\JPA_Tune_Up_Base_Signal_TWPA_ON_JPA_ON_100522.hdf5\"\n",
    "lf_twpa_off_jpa_on = r\"G:\\Shared drives\\Labber\\Data\\2022\\10\\Data_1005\\JPA_Tune_Up_Base_Signal_TWPA_OFF_JPA_ON_100522.hdf5\""
   ]
  },
  {
   "cell_type": "code",
   "execution_count": 16,
   "metadata": {
    "ExecuteTime": {
     "end_time": "2022-10-05T22:23:56.665884Z",
     "start_time": "2022-10-05T22:23:56.522895Z"
    },
    "cell_style": "split"
   },
   "outputs": [
    {
     "data": {
      "text/plain": [
       "7.107846205814109"
      ]
     },
     "execution_count": 16,
     "metadata": {},
     "output_type": "execute_result"
    }
   ],
   "source": [
    "calculate_mean_SNR_from_Labber_file(lf_twpa_off_jpa_off)"
   ]
  },
  {
   "cell_type": "code",
   "execution_count": 17,
   "metadata": {
    "ExecuteTime": {
     "end_time": "2022-10-05T22:23:58.555039Z",
     "start_time": "2022-10-05T22:23:58.417972Z"
    },
    "cell_style": "split"
   },
   "outputs": [
    {
     "data": {
      "text/plain": [
       "14.1802874712785"
      ]
     },
     "execution_count": 17,
     "metadata": {},
     "output_type": "execute_result"
    }
   ],
   "source": [
    "calculate_mean_SNR_from_Labber_file(lf_twpa_on_jpa_off)"
   ]
  },
  {
   "cell_type": "code",
   "execution_count": 18,
   "metadata": {
    "ExecuteTime": {
     "end_time": "2022-10-05T22:24:00.902312Z",
     "start_time": "2022-10-05T22:24:00.769901Z"
    },
    "cell_style": "split"
   },
   "outputs": [
    {
     "data": {
      "text/plain": [
       "16.71662809769338"
      ]
     },
     "execution_count": 18,
     "metadata": {},
     "output_type": "execute_result"
    }
   ],
   "source": [
    "calculate_mean_SNR_from_Labber_file(lf_twpa_off_jpa_on)"
   ]
  },
  {
   "cell_type": "code",
   "execution_count": 19,
   "metadata": {
    "ExecuteTime": {
     "end_time": "2022-10-05T22:24:02.067531Z",
     "start_time": "2022-10-05T22:24:01.953859Z"
    },
    "cell_style": "split"
   },
   "outputs": [
    {
     "data": {
      "text/plain": [
       "16.39614964825627"
      ]
     },
     "execution_count": 19,
     "metadata": {},
     "output_type": "execute_result"
    }
   ],
   "source": [
    "calculate_mean_SNR_from_Labber_file(lf_twpa_on_jpa_on)"
   ]
  },
  {
   "cell_type": "code",
   "execution_count": null,
   "metadata": {},
   "outputs": [],
   "source": []
  },
  {
   "cell_type": "markdown",
   "metadata": {},
   "source": [
    "**Different pump config**:\n"
   ]
  },
  {
   "cell_type": "code",
   "execution_count": 20,
   "metadata": {
    "ExecuteTime": {
     "end_time": "2022-10-05T23:19:35.553511Z",
     "start_time": "2022-10-05T23:19:35.548522Z"
    }
   },
   "outputs": [],
   "source": [
    "lf_twpa_off_jpa_off = r\"G:\\Shared drives\\Labber\\Data\\2022\\10\\Data_1005\\JPA_Tune_Up_Base_Signal_TWPA_OFF_JPA_OFF_2_100522.hdf5\"\n",
    "lf_twpa_on_jpa_off = r\"G:\\Shared drives\\Labber\\Data\\2022\\10\\Data_1005\\JPA_Tune_Up_Base_Signal_TWPA_ON_JPA_OFF_2_100522.hdf5\"\n",
    "lf_twpa_on_jpa_on = r\"G:\\Shared drives\\Labber\\Data\\2022\\10\\Data_1005\\JPA_Tune_Up_Base_Signal_TWPA_ON_JPA_ON_2_100522.hdf5\"\n",
    "lf_twpa_off_jpa_on = r\"G:\\Shared drives\\Labber\\Data\\2022\\10\\Data_1005\\JPA_Tune_Up_Base_Signal_TWPA_OFF_JPA_ON_2_100522.hdf5\""
   ]
  },
  {
   "cell_type": "code",
   "execution_count": 21,
   "metadata": {
    "ExecuteTime": {
     "end_time": "2022-10-05T23:19:36.514830Z",
     "start_time": "2022-10-05T23:19:36.060808Z"
    },
    "cell_style": "split"
   },
   "outputs": [
    {
     "data": {
      "text/plain": [
       "8.857654064857934"
      ]
     },
     "execution_count": 21,
     "metadata": {},
     "output_type": "execute_result"
    }
   ],
   "source": [
    "calculate_mean_SNR_from_Labber_file(lf_twpa_off_jpa_off)"
   ]
  },
  {
   "cell_type": "code",
   "execution_count": 22,
   "metadata": {
    "ExecuteTime": {
     "end_time": "2022-10-05T23:19:37.198057Z",
     "start_time": "2022-10-05T23:19:36.716217Z"
    },
    "cell_style": "split"
   },
   "outputs": [
    {
     "data": {
      "text/plain": [
       "17.152309078825663"
      ]
     },
     "execution_count": 22,
     "metadata": {},
     "output_type": "execute_result"
    }
   ],
   "source": [
    "calculate_mean_SNR_from_Labber_file(lf_twpa_on_jpa_off)"
   ]
  },
  {
   "cell_type": "code",
   "execution_count": 23,
   "metadata": {
    "ExecuteTime": {
     "end_time": "2022-10-05T23:19:37.697161Z",
     "start_time": "2022-10-05T23:19:37.262085Z"
    },
    "cell_style": "split"
   },
   "outputs": [
    {
     "data": {
      "text/plain": [
       "15.900397384718243"
      ]
     },
     "execution_count": 23,
     "metadata": {},
     "output_type": "execute_result"
    }
   ],
   "source": [
    "calculate_mean_SNR_from_Labber_file(lf_twpa_off_jpa_on)"
   ]
  },
  {
   "cell_type": "code",
   "execution_count": 24,
   "metadata": {
    "ExecuteTime": {
     "end_time": "2022-10-05T23:19:38.212594Z",
     "start_time": "2022-10-05T23:19:37.760590Z"
    },
    "cell_style": "split"
   },
   "outputs": [
    {
     "data": {
      "text/plain": [
       "15.82162908553039"
      ]
     },
     "execution_count": 24,
     "metadata": {},
     "output_type": "execute_result"
    }
   ],
   "source": [
    "calculate_mean_SNR_from_Labber_file(lf_twpa_on_jpa_on)"
   ]
  },
  {
   "cell_type": "markdown",
   "metadata": {},
   "source": [
    "**Using JPA values from Sweep and Resonator On**:"
   ]
  },
  {
   "cell_type": "code",
   "execution_count": 26,
   "metadata": {
    "ExecuteTime": {
     "end_time": "2022-10-06T00:19:59.403682Z",
     "start_time": "2022-10-06T00:19:59.385729Z"
    }
   },
   "outputs": [],
   "source": [
    "lf_twpa_off_jpa_off = r\"G:\\Shared drives\\Labber\\Data\\2022\\10\\Data_1005\\JPA_Tune_Up_Base_Signal_TWPA_OFF_JPA_OFF_3_100522.hdf5\"\n",
    "lf_twpa_on_jpa_off = r\"G:\\Shared drives\\Labber\\Data\\2022\\10\\Data_1005\\JPA_Tune_Up_Base_Signal_TWPA_ON_JPA_OFF_3_100522.hdf5\"\n",
    "lf_twpa_on_jpa_on = r\"G:\\Shared drives\\Labber\\Data\\2022\\10\\Data_1005\\JPA_Tune_Up_Base_Signal_TWPA_ON_JPA_ON_3_100522.hdf5\"\n",
    "lf_twpa_off_jpa_on = r\"G:\\Shared drives\\Labber\\Data\\2022\\10\\Data_1005\\JPA_Tune_Up_Base_Signal_TWPA_OFF_JPA_ON_3_100522.hdf5\""
   ]
  },
  {
   "cell_type": "code",
   "execution_count": 27,
   "metadata": {
    "ExecuteTime": {
     "end_time": "2022-10-06T00:20:00.754213Z",
     "start_time": "2022-10-06T00:19:59.953608Z"
    },
    "cell_style": "split"
   },
   "outputs": [
    {
     "data": {
      "text/plain": [
       "8.723082213055534"
      ]
     },
     "execution_count": 27,
     "metadata": {},
     "output_type": "execute_result"
    }
   ],
   "source": [
    "calculate_mean_SNR_from_Labber_file(lf_twpa_off_jpa_off)"
   ]
  },
  {
   "cell_type": "code",
   "execution_count": 28,
   "metadata": {
    "ExecuteTime": {
     "end_time": "2022-10-06T00:20:00.959164Z",
     "start_time": "2022-10-06T00:20:00.818248Z"
    },
    "cell_style": "split"
   },
   "outputs": [
    {
     "data": {
      "text/plain": [
       "17.080064834067564"
      ]
     },
     "execution_count": 28,
     "metadata": {},
     "output_type": "execute_result"
    }
   ],
   "source": [
    "calculate_mean_SNR_from_Labber_file(lf_twpa_on_jpa_off)"
   ]
  },
  {
   "cell_type": "code",
   "execution_count": 29,
   "metadata": {
    "ExecuteTime": {
     "end_time": "2022-10-06T00:20:01.493688Z",
     "start_time": "2022-10-06T00:20:01.024538Z"
    },
    "cell_style": "split"
   },
   "outputs": [
    {
     "data": {
      "text/plain": [
       "19.28844339990526"
      ]
     },
     "execution_count": 29,
     "metadata": {},
     "output_type": "execute_result"
    }
   ],
   "source": [
    "calculate_mean_SNR_from_Labber_file(lf_twpa_off_jpa_on)"
   ]
  },
  {
   "cell_type": "code",
   "execution_count": 30,
   "metadata": {
    "ExecuteTime": {
     "end_time": "2022-10-06T00:20:02.043899Z",
     "start_time": "2022-10-06T00:20:01.559542Z"
    },
    "cell_style": "split"
   },
   "outputs": [
    {
     "data": {
      "text/plain": [
       "19.288456273973804"
      ]
     },
     "execution_count": 30,
     "metadata": {},
     "output_type": "execute_result"
    }
   ],
   "source": [
    "calculate_mean_SNR_from_Labber_file(lf_twpa_on_jpa_on)"
   ]
  },
  {
   "cell_type": "code",
   "execution_count": null,
   "metadata": {},
   "outputs": [],
   "source": []
  }
 ],
 "metadata": {
  "hide_input": false,
  "kernelspec": {
   "display_name": "Python 3",
   "language": "python",
   "name": "python3"
  },
  "language_info": {
   "codemirror_mode": {
    "name": "ipython",
    "version": 3
   },
   "file_extension": ".py",
   "mimetype": "text/x-python",
   "name": "python",
   "nbconvert_exporter": "python",
   "pygments_lexer": "ipython3",
   "version": "3.8.5"
  },
  "toc": {
   "base_numbering": 1,
   "nav_menu": {},
   "number_sections": true,
   "sideBar": true,
   "skip_h1_title": false,
   "title_cell": "Table of Contents",
   "title_sidebar": "Contents",
   "toc_cell": false,
   "toc_position": {},
   "toc_section_display": true,
   "toc_window_display": false
  },
  "varInspector": {
   "cols": {
    "lenName": 16,
    "lenType": 16,
    "lenVar": 40
   },
   "kernels_config": {
    "python": {
     "delete_cmd_postfix": "",
     "delete_cmd_prefix": "del ",
     "library": "var_list.py",
     "varRefreshCmd": "print(var_dic_list())"
    },
    "r": {
     "delete_cmd_postfix": ") ",
     "delete_cmd_prefix": "rm(",
     "library": "var_list.r",
     "varRefreshCmd": "cat(var_dic_list()) "
    }
   },
   "types_to_exclude": [
    "module",
    "function",
    "builtin_function_or_method",
    "instance",
    "_Feature"
   ],
   "window_display": false
  }
 },
 "nbformat": 4,
 "nbformat_minor": 4
}
