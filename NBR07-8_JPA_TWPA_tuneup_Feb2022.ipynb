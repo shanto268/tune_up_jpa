{
 "cells": [
  {
   "cell_type": "code",
   "execution_count": 1,
   "metadata": {},
   "outputs": [],
   "source": [
    "import Labber\n",
    "import numpy as np\n",
    "import matplotlib.pyplot as plt\n",
    "import os\n",
    "from fitTools.utilities import Watt2dBm, dBm2Watt, VNA2dBm"
   ]
  },
  {
   "cell_type": "markdown",
   "metadata": {},
   "source": [
    "# First looking at a power, frequency, and flux sweep of JPA to find max SNR"
   ]
  },
  {
   "cell_type": "code",
   "execution_count": 4,
   "metadata": {},
   "outputs": [],
   "source": [
    "JPA0211 = r\"G:\\Shared drives\\LFL\\Labber\\Data\\2022\\02\\Data_0211\\NBR07-8_JPA_SNR_p_freq_flux_sweep.hdf5\""
   ]
  },
  {
   "cell_type": "code",
   "execution_count": 6,
   "metadata": {},
   "outputs": [],
   "source": [
    "lf = Labber.LogFile(JPA0211)\n",
    "sig = lf.getData(name = 'SA - Signal')\n",
    "linsig = dBm2Watt(sig)\n",
    "# linsig = np.mean(linsig,axis = 0)\n",
    "\n",
    "power = lf.getData(name = 'JPA pump - Power')\n",
    "curr = lf.getData(name = 'JPA flux - Source current')\n",
    "freq = lf.getData(name = 'JPA pump - Frequency')"
   ]
  },
  {
   "cell_type": "code",
   "execution_count": 7,
   "metadata": {},
   "outputs": [],
   "source": [
    "SAxdata,SAydata = lf.getTraceXY(y_channel='SA - Signal')"
   ]
  },
  {
   "cell_type": "code",
   "execution_count": 19,
   "metadata": {},
   "outputs": [
    {
     "data": {
      "text/plain": [
       "(26, 26, 16)"
      ]
     },
     "execution_count": 19,
     "metadata": {},
     "output_type": "execute_result"
    }
   ],
   "source": [
    "freq.shape"
   ]
  },
  {
   "cell_type": "code",
   "execution_count": 14,
   "metadata": {},
   "outputs": [],
   "source": [
    "freq = np.reshape(freq, (26,26,16))"
   ]
  },
  {
   "cell_type": "code",
   "execution_count": 15,
   "metadata": {},
   "outputs": [],
   "source": [
    "power = np.reshape(power, (26,26,16))"
   ]
  },
  {
   "cell_type": "code",
   "execution_count": 16,
   "metadata": {},
   "outputs": [],
   "source": [
    "curr = np.reshape(curr, (26,26,16))"
   ]
  },
  {
   "cell_type": "code",
   "execution_count": 17,
   "metadata": {},
   "outputs": [],
   "source": [
    "signal = np.reshape(linsig, (26,26,16,401))"
   ]
  },
  {
   "cell_type": "code",
   "execution_count": 21,
   "metadata": {},
   "outputs": [],
   "source": [
    "snr = np.zeros((26,26,16))\n",
    "noise = np.zeros((26,26,16))\n",
    "for i in range(26):\n",
    "    for j in range(26):\n",
    "        for k in range(16):\n",
    "            max_ind=np.argmax(signal[i,j,k,:])\n",
    "            max_val=np.max(signal[i,j,k,:])\n",
    "            mask = np.logical_or(SAxdata < SAxdata[max_ind]-10e3, SAxdata > SAxdata[max_ind]+10e3)\n",
    "#             noisetemp=np.append(linsignal[i,j,k,:max_ind-75],linsignal[i,j,k,max_ind+75:])\n",
    "            noisetemp = signal[i,j,k,mask]\n",
    "            avg_noise=np.mean(noisetemp)\n",
    "            snr[i][j][k] = Watt2dBm(max_val)-Watt2dBm(avg_noise)\n",
    "            noise[i][j][k] = Watt2dBm(avg_noise)"
   ]
  },
  {
   "cell_type": "code",
   "execution_count": 22,
   "metadata": {},
   "outputs": [
    {
     "data": {
      "text/plain": [
       "10.724460330698761"
      ]
     },
     "execution_count": 22,
     "metadata": {},
     "output_type": "execute_result"
    }
   ],
   "source": [
    "snr[0][0][0]"
   ]
  },
  {
   "cell_type": "code",
   "execution_count": 23,
   "metadata": {},
   "outputs": [
    {
     "data": {
      "text/plain": [
       "19.43179780338903"
      ]
     },
     "execution_count": 23,
     "metadata": {},
     "output_type": "execute_result"
    }
   ],
   "source": [
    "np.max(snr)"
   ]
  },
  {
   "cell_type": "code",
   "execution_count": 24,
   "metadata": {},
   "outputs": [],
   "source": [
    "ind_max_snr = np.unravel_index(np.argmax(snr, axis=None), snr.shape)"
   ]
  },
  {
   "cell_type": "code",
   "execution_count": 25,
   "metadata": {},
   "outputs": [
    {
     "data": {
      "text/plain": [
       "(2, 5, 6)"
      ]
     },
     "execution_count": 25,
     "metadata": {},
     "output_type": "execute_result"
    }
   ],
   "source": [
    "ind_max_snr"
   ]
  },
  {
   "cell_type": "code",
   "execution_count": 26,
   "metadata": {},
   "outputs": [
    {
     "data": {
      "text/plain": [
       "-4.0"
      ]
     },
     "execution_count": 26,
     "metadata": {},
     "output_type": "execute_result"
    }
   ],
   "source": [
    "power[ind_max_snr]"
   ]
  },
  {
   "cell_type": "code",
   "execution_count": 27,
   "metadata": {},
   "outputs": [
    {
     "data": {
      "text/plain": [
       "4.890000000000001"
      ]
     },
     "execution_count": 27,
     "metadata": {},
     "output_type": "execute_result"
    }
   ],
   "source": [
    "curr[ind_max_snr]*10**3"
   ]
  },
  {
   "cell_type": "code",
   "execution_count": 28,
   "metadata": {},
   "outputs": [
    {
     "data": {
      "text/plain": [
       "4.2860000000000005"
      ]
     },
     "execution_count": 28,
     "metadata": {},
     "output_type": "execute_result"
    }
   ],
   "source": [
    "freq[ind_max_snr]*10**-9"
   ]
  },
  {
   "cell_type": "code",
   "execution_count": 29,
   "metadata": {},
   "outputs": [],
   "source": [
    "def nlargest_indices(arr, n):\n",
    "    uniques = np.unique(arr)\n",
    "    threshold = uniques[-n]\n",
    "    return np.where(arr >= threshold)\n",
    "\n",
    "def nsmallest_indices(arr, n):\n",
    "    uniques = np.unique(arr)\n",
    "    threshold = uniques[-n]\n",
    "    return np.where(arr <= threshold)"
   ]
  },
  {
   "cell_type": "code",
   "execution_count": 33,
   "metadata": {},
   "outputs": [],
   "source": [
    "ind1,ind2,ind3 = nlargest_indices(snr,10)"
   ]
  },
  {
   "cell_type": "code",
   "execution_count": 34,
   "metadata": {},
   "outputs": [],
   "source": [
    "inds = nlargest_indices(snr,10)"
   ]
  },
  {
   "cell_type": "code",
   "execution_count": 35,
   "metadata": {},
   "outputs": [
    {
     "data": {
      "text/plain": [
       "array([18.30345232, 18.26095152, 18.9253819 , 19.4317978 , 19.06159173,\n",
       "       18.977576  , 18.39743266, 18.71192896, 18.87944417, 18.76654563])"
      ]
     },
     "execution_count": 35,
     "metadata": {},
     "output_type": "execute_result"
    }
   ],
   "source": [
    "snr[inds]"
   ]
  },
  {
   "cell_type": "code",
   "execution_count": 36,
   "metadata": {},
   "outputs": [
    {
     "data": {
      "text/plain": [
       "array([-67.12345232, -68.64095152, -67.6753819 , -66.2817978 ,\n",
       "       -67.10159173, -64.517576  , -64.61743266, -67.86192896,\n",
       "       -66.68944417, -64.96654563])"
      ]
     },
     "execution_count": 36,
     "metadata": {},
     "output_type": "execute_result"
    }
   ],
   "source": [
    "noise[inds]"
   ]
  },
  {
   "cell_type": "code",
   "execution_count": 37,
   "metadata": {
    "scrolled": false
   },
   "outputs": [
    {
     "name": "stdout",
     "output_type": "stream",
     "text": [
      "SNR =  18.303452319901297\n",
      "Noise =  -67.12345231990129\n",
      "Pump Power =  -5.0  dBm\n",
      "Pump Frequency =  4.282  GHz\n",
      "Lisa Current =  4.8500000000000005  mA \n",
      "\n",
      "SNR =  18.26095152017347\n",
      "Noise =  -68.64095152017347\n",
      "Pump Power =  -4.0  dBm\n",
      "Pump Frequency =  4.2860000000000005  GHz\n",
      "Lisa Current =  4.8500000000000005  mA \n",
      "\n",
      "SNR =  18.925381903507287\n",
      "Noise =  -67.67538190350729\n",
      "Pump Power =  -4.0  dBm\n",
      "Pump Frequency =  4.2860000000000005  GHz\n",
      "Lisa Current =  4.87  mA \n",
      "\n",
      "SNR =  19.43179780338903\n",
      "Noise =  -66.28179780338904\n",
      "Pump Power =  -4.0  dBm\n",
      "Pump Frequency =  4.2860000000000005  GHz\n",
      "Lisa Current =  4.890000000000001  mA \n",
      "\n",
      "SNR =  19.061591727494047\n",
      "Noise =  -67.10159172749405\n",
      "Pump Power =  -4.0  dBm\n",
      "Pump Frequency =  4.284000000000001  GHz\n",
      "Lisa Current =  4.91  mA \n",
      "\n",
      "SNR =  18.97757599904351\n",
      "Noise =  -64.51757599904352\n",
      "Pump Power =  -4.0  dBm\n",
      "Pump Frequency =  4.2860000000000005  GHz\n",
      "Lisa Current =  4.91  mA \n",
      "\n",
      "SNR =  18.397432659039268\n",
      "Noise =  -64.61743265903927\n",
      "Pump Power =  -4.0  dBm\n",
      "Pump Frequency =  4.284000000000001  GHz\n",
      "Lisa Current =  4.930000000000001  mA \n",
      "\n",
      "SNR =  18.711928958246865\n",
      "Noise =  -67.86192895824686\n",
      "Pump Power =  -3.0  dBm\n",
      "Pump Frequency =  4.2860000000000005  GHz\n",
      "Lisa Current =  5.050000000000001  mA \n",
      "\n",
      "SNR =  18.879444170936452\n",
      "Noise =  -66.68944417093645\n",
      "Pump Power =  -3.0  dBm\n",
      "Pump Frequency =  4.2860000000000005  GHz\n",
      "Lisa Current =  5.07  mA \n",
      "\n",
      "SNR =  18.766545630922295\n",
      "Noise =  -64.9665456309223\n",
      "Pump Power =  -3.0  dBm\n",
      "Pump Frequency =  4.2860000000000005  GHz\n",
      "Lisa Current =  5.090000000000001  mA \n",
      "\n"
     ]
    }
   ],
   "source": [
    "for i in range(len(ind1)):\n",
    "    print('SNR = ', snr[ind1[i]][ind2[i]][ind3[i]])\n",
    "    print('Noise = ', noise[ind1[i]][ind2[i]][ind3[i]])\n",
    "    print('Pump Power = ', power[ind1[i]][ind2[i]][ind3[i]], ' dBm')\n",
    "    print('Pump Frequency = ', freq[ind1[i]][ind2[i]][ind3[i]]*10**-9, ' GHz')\n",
    "    print('Lisa Current = ', curr[ind1[i]][ind2[i]][ind3[i]]*10**3, ' mA \\n')"
   ]
  },
  {
   "cell_type": "markdown",
   "metadata": {},
   "source": [
    "# Now let's look at JPA flux"
   ]
  },
  {
   "cell_type": "code",
   "execution_count": 39,
   "metadata": {},
   "outputs": [],
   "source": [
    "JPAflux1 = r\"G:\\Shared drives\\LFL\\Labber\\Data\\2022\\02\\Data_0213\\NBR07-8_JPA_SNR_flux_sweep.hdf5\""
   ]
  },
  {
   "cell_type": "code",
   "execution_count": 40,
   "metadata": {},
   "outputs": [],
   "source": [
    "lf = Labber.LogFile(JPAflux)\n",
    "sig = lf.getData(name = 'SA - Signal')"
   ]
  },
  {
   "cell_type": "code",
   "execution_count": 41,
   "metadata": {},
   "outputs": [],
   "source": [
    "linsig = dBm2Watt(sig)\n",
    "# linsig.shape\n",
    "linsig = np.mean(linsig.reshape(101,4,401),axis = 1)"
   ]
  },
  {
   "cell_type": "code",
   "execution_count": 42,
   "metadata": {},
   "outputs": [],
   "source": [
    "SAxdata,SAydata = lf.getTraceXY(y_channel='SA - Signal')"
   ]
  },
  {
   "cell_type": "code",
   "execution_count": 43,
   "metadata": {},
   "outputs": [
    {
     "name": "stdout",
     "output_type": "stream",
     "text": [
      "(101, 4)\n"
     ]
    }
   ],
   "source": [
    "flux = lf.getData(name = 'JPA flux - Source current')\n",
    "print(flux.shape)"
   ]
  },
  {
   "cell_type": "code",
   "execution_count": 44,
   "metadata": {},
   "outputs": [],
   "source": [
    "flux = np.squeeze(flux)\n",
    "flux = flux[:,0]"
   ]
  },
  {
   "cell_type": "code",
   "execution_count": 45,
   "metadata": {},
   "outputs": [],
   "source": [
    "SNR = []\n",
    "MAX = []\n",
    "NOISE = []\n",
    "for i in range(len(flux)):\n",
    "    max_ind=np.argmax(linsig[i])\n",
    "    max_val=np.max(linsig[i])\n",
    "    mask = np.logical_or(SAxdata < SAxdata[max_ind]-10e3, SAxdata > SAxdata[max_ind]+10e3)\n",
    "    noise=linsig[i][mask]\n",
    "    avg_noise=np.mean(noise)\n",
    "    snr = Watt2dBm(max_val)-Watt2dBm(avg_noise)\n",
    "    SNR.append(snr)\n",
    "    MAX.append(Watt2dBm(max_val))\n",
    "    NOISE.append(Watt2dBm(avg_noise))"
   ]
  },
  {
   "cell_type": "code",
   "execution_count": 49,
   "metadata": {},
   "outputs": [
    {
     "data": {
      "text/plain": [
       "<matplotlib.lines.Line2D at 0x216da305a90>"
      ]
     },
     "execution_count": 49,
     "metadata": {},
     "output_type": "execute_result"
    },
    {
     "data": {
      "image/png": "[encoded data removed]",
      "text/plain": [
       "<Figure size 432x288 with 1 Axes>"
      ]
     },
     "metadata": {
      "needs_background": "light"
     },
     "output_type": "display_data"
    }
   ],
   "source": [
    "plt.plot(flux,SNR)\n",
    "plt.title('SNR')\n",
    "plt.axvline(5.07e-3)"
   ]
  },
  {
   "cell_type": "markdown",
   "metadata": {},
   "source": [
    "# JPA frequency "
   ]
  },
  {
   "cell_type": "code",
   "execution_count": 50,
   "metadata": {},
   "outputs": [],
   "source": [
    "JPAfreq1 = r\"G:\\Shared drives\\LFL\\Labber\\Data\\2022\\02\\Data_0213\\NBR07-8_JPA_SNR_freq_sweep.hdf5\""
   ]
  },
  {
   "cell_type": "code",
   "execution_count": 51,
   "metadata": {},
   "outputs": [],
   "source": [
    "lf = Labber.LogFile(JPAfreq1)\n",
    "sig = lf.getData(name = 'SA - Signal')\n",
    "# s21 = lf.getData(name = 'VNA - S21')\n",
    "linsig = dBm2Watt(sig)"
   ]
  },
  {
   "cell_type": "code",
   "execution_count": 52,
   "metadata": {},
   "outputs": [],
   "source": [
    "linsig = np.mean(linsig.reshape(81,4,401),axis = 1)"
   ]
  },
  {
   "cell_type": "code",
   "execution_count": 53,
   "metadata": {},
   "outputs": [],
   "source": [
    "SAxdata,SAydata = lf.getTraceXY(y_channel='SA - Signal')"
   ]
  },
  {
   "cell_type": "code",
   "execution_count": 54,
   "metadata": {},
   "outputs": [
    {
     "name": "stdout",
     "output_type": "stream",
     "text": [
      "(81, 4)\n"
     ]
    }
   ],
   "source": [
    "freq = lf.getData(name = 'JPA pump - Frequency')\n",
    "print(freq.shape)\n",
    "freq = np.squeeze(freq)"
   ]
  },
  {
   "cell_type": "code",
   "execution_count": 55,
   "metadata": {},
   "outputs": [],
   "source": [
    "SNR = []\n",
    "MAX = []\n",
    "NOISE = []\n",
    "for i in range(len(freq)):\n",
    "    max_ind=np.argmax(linsig[i])\n",
    "    max_val=np.max(linsig[i])\n",
    "    mask = np.logical_or(SAxdata < SAxdata[max_ind]-10e3, SAxdata > SAxdata[max_ind]+10e3)\n",
    "    noise=linsig[i][mask]\n",
    "    avg_noise=np.mean(noise)\n",
    "    snr = Watt2dBm(max_val)-Watt2dBm(avg_noise)\n",
    "    SNR.append(snr)\n",
    "    MAX.append(Watt2dBm(max_val))\n",
    "    NOISE.append(Watt2dBm(avg_noise))"
   ]
  },
  {
   "cell_type": "code",
   "execution_count": 58,
   "metadata": {
    "scrolled": true
   },
   "outputs": [
    {
     "data": {
      "text/plain": [
       "<matplotlib.lines.Line2D at 0x216d8879e50>"
      ]
     },
     "execution_count": 58,
     "metadata": {},
     "output_type": "execute_result"
    },
    {
     "data": {
      "image/png": "[encoded data removed]",
      "text/plain": [
       "<Figure size 432x288 with 1 Axes>"
      ]
     },
     "metadata": {
      "needs_background": "light"
     },
     "output_type": "display_data"
    }
   ],
   "source": [
    "plt.plot(freq,SNR)\n",
    "plt.title('SNR')\n",
    "plt.axvline(4.2855e9)"
   ]
  },
  {
   "cell_type": "markdown",
   "metadata": {},
   "source": [
    "# JPA power"
   ]
  },
  {
   "cell_type": "code",
   "execution_count": 59,
   "metadata": {},
   "outputs": [],
   "source": [
    "JPApower1 = r\"G:\\Shared drives\\LFL\\Labber\\Data\\2022\\02\\Data_0213\\NBR07-8_JPA_SNR_power_sweep.hdf5\""
   ]
  },
  {
   "cell_type": "code",
   "execution_count": 60,
   "metadata": {},
   "outputs": [],
   "source": [
    "lf = Labber.LogFile(JPApower1)\n",
    "sig = lf.getData(name = 'SA - Signal')\n",
    "linsig = dBm2Watt(sig)"
   ]
  },
  {
   "cell_type": "code",
   "execution_count": 61,
   "metadata": {},
   "outputs": [],
   "source": [
    "linsig = np.mean(linsig.reshape(51,4,401),axis = 1)"
   ]
  },
  {
   "cell_type": "code",
   "execution_count": 62,
   "metadata": {},
   "outputs": [],
   "source": [
    "SAxdata,SAydata = lf.getTraceXY(y_channel='SA - Signal')"
   ]
  },
  {
   "cell_type": "code",
   "execution_count": 63,
   "metadata": {},
   "outputs": [
    {
     "name": "stdout",
     "output_type": "stream",
     "text": [
      "(51, 4)\n"
     ]
    }
   ],
   "source": [
    "power = lf.getData(name = 'JPA pump - Power')\n",
    "print(power.shape)\n",
    "power = np.squeeze(power)"
   ]
  },
  {
   "cell_type": "code",
   "execution_count": 64,
   "metadata": {},
   "outputs": [],
   "source": [
    "SNR = []\n",
    "MAX = []\n",
    "NOISE = []\n",
    "for i in range(len(power)):\n",
    "    max_ind=np.argmax(linsig[i])\n",
    "    max_val=np.max(linsig[i])\n",
    "    mask = np.logical_or(SAxdata < SAxdata[max_ind]-10e3, SAxdata > SAxdata[max_ind]+10e3)\n",
    "    noise=linsig[i][mask]\n",
    "    avg_noise=np.mean(noise)\n",
    "    snr = Watt2dBm(max_val)-Watt2dBm(avg_noise)\n",
    "    SNR.append(snr)\n",
    "    MAX.append(Watt2dBm(max_val))\n",
    "    NOISE.append(Watt2dBm(avg_noise))"
   ]
  },
  {
   "cell_type": "code",
   "execution_count": 67,
   "metadata": {},
   "outputs": [
    {
     "data": {
      "text/plain": [
       "<matplotlib.lines.Line2D at 0x216da262760>"
      ]
     },
     "execution_count": 67,
     "metadata": {},
     "output_type": "execute_result"
    },
    {
     "data": {
      "image/png": "[encoded data removed]",
      "text/plain": [
       "<Figure size 432x288 with 1 Axes>"
      ]
     },
     "metadata": {
      "needs_background": "light"
     },
     "output_type": "display_data"
    }
   ],
   "source": [
    "plt.plot(power,SNR)\n",
    "plt.title('SNR')\n",
    "plt.axvline(-2.9)"
   ]
  },
  {
   "cell_type": "code",
   "execution_count": null,
   "metadata": {},
   "outputs": [],
   "source": []
  },
  {
   "cell_type": "markdown",
   "metadata": {},
   "source": [
    "# Repeat the flux sweep"
   ]
  },
  {
   "cell_type": "code",
   "execution_count": 68,
   "metadata": {},
   "outputs": [],
   "source": [
    "JPAflux2 = r\"G:\\Shared drives\\LFL\\Labber\\Data\\2022\\02\\Data_0213\\NBR07-8_JPA_SNR_flux_sweep_2.hdf5\""
   ]
  },
  {
   "cell_type": "code",
   "execution_count": 69,
   "metadata": {},
   "outputs": [],
   "source": [
    "lf = Labber.LogFile(JPAflux2)\n",
    "sig = lf.getData(name = 'SA - Signal')"
   ]
  },
  {
   "cell_type": "code",
   "execution_count": 70,
   "metadata": {},
   "outputs": [],
   "source": [
    "linsig = dBm2Watt(sig)\n",
    "# linsig.shape\n",
    "linsig = np.mean(linsig.reshape(41,4,401),axis = 1)"
   ]
  },
  {
   "cell_type": "code",
   "execution_count": 71,
   "metadata": {},
   "outputs": [],
   "source": [
    "SAxdata,SAydata = lf.getTraceXY(y_channel='SA - Signal')"
   ]
  },
  {
   "cell_type": "code",
   "execution_count": 72,
   "metadata": {},
   "outputs": [
    {
     "name": "stdout",
     "output_type": "stream",
     "text": [
      "(41, 4)\n"
     ]
    }
   ],
   "source": [
    "flux = lf.getData(name = 'JPA flux - Source current')\n",
    "print(flux.shape)"
   ]
  },
  {
   "cell_type": "code",
   "execution_count": 73,
   "metadata": {},
   "outputs": [],
   "source": [
    "flux = np.squeeze(flux)\n",
    "flux = flux[:,0]"
   ]
  },
  {
   "cell_type": "code",
   "execution_count": 74,
   "metadata": {},
   "outputs": [],
   "source": [
    "SNR = []\n",
    "MAX = []\n",
    "NOISE = []\n",
    "for i in range(len(flux)):\n",
    "    max_ind=np.argmax(linsig[i])\n",
    "    max_val=np.max(linsig[i])\n",
    "    mask = np.logical_or(SAxdata < SAxdata[max_ind]-10e3, SAxdata > SAxdata[max_ind]+10e3)\n",
    "    noise=linsig[i][mask]\n",
    "    avg_noise=np.mean(noise)\n",
    "    snr = Watt2dBm(max_val)-Watt2dBm(avg_noise)\n",
    "    SNR.append(snr)\n",
    "    MAX.append(Watt2dBm(max_val))\n",
    "    NOISE.append(Watt2dBm(avg_noise))"
   ]
  },
  {
   "cell_type": "code",
   "execution_count": 76,
   "metadata": {},
   "outputs": [
    {
     "data": {
      "text/plain": [
       "<matplotlib.lines.Line2D at 0x216dc7f5640>"
      ]
     },
     "execution_count": 76,
     "metadata": {},
     "output_type": "execute_result"
    },
    {
     "data": {
      "image/png": "[encoded data removed]",
      "text/plain": [
       "<Figure size 432x288 with 1 Axes>"
      ]
     },
     "metadata": {
      "needs_background": "light"
     },
     "output_type": "display_data"
    }
   ],
   "source": [
    "plt.plot(flux,SNR)\n",
    "plt.title('SNR')\n",
    "plt.axvline(5.09e-3)"
   ]
  },
  {
   "cell_type": "markdown",
   "metadata": {},
   "source": [
    "# Setting JPA flux at 5.09 mA, JPA pump frequency = 4.2855 GHz at -2.9 dBm\n",
    "## Sweep TWPA pump frequency and power"
   ]
  },
  {
   "cell_type": "code",
   "execution_count": 77,
   "metadata": {},
   "outputs": [],
   "source": [
    "TWPA0214 = r\"G:\\Shared drives\\LFL\\Labber\\Data\\2022\\02\\Data_0214\\NBR07-8_TWPA_SNR_p_freq_sweep.hdf5\""
   ]
  },
  {
   "cell_type": "code",
   "execution_count": 78,
   "metadata": {},
   "outputs": [],
   "source": [
    "lf = Labber.LogFile(TWPA0214)\n",
    "sig = lf.getData(name = 'SA - Signal')\n",
    "linsig = dBm2Watt(sig)\n",
    "# linsig = np.mean(linsig,axis = 0)\n",
    "\n",
    "power = lf.getData(name = '10002A05 - Power')\n",
    "freq = lf.getData(name = '10002A05 - Frequency')"
   ]
  },
  {
   "cell_type": "code",
   "execution_count": 79,
   "metadata": {},
   "outputs": [],
   "source": [
    "SAxdata,SAydata = lf.getTraceXY(y_channel='SA - Signal')"
   ]
  },
  {
   "cell_type": "code",
   "execution_count": 80,
   "metadata": {},
   "outputs": [
    {
     "data": {
      "text/plain": [
       "(41, 81)"
      ]
     },
     "execution_count": 80,
     "metadata": {},
     "output_type": "execute_result"
    }
   ],
   "source": [
    "freq.shape"
   ]
  },
  {
   "cell_type": "code",
   "execution_count": 81,
   "metadata": {},
   "outputs": [],
   "source": [
    "freq = np.reshape(freq, (41,81))"
   ]
  },
  {
   "cell_type": "code",
   "execution_count": 82,
   "metadata": {},
   "outputs": [],
   "source": [
    "power = np.reshape(power, (41,81))"
   ]
  },
  {
   "cell_type": "code",
   "execution_count": 83,
   "metadata": {},
   "outputs": [],
   "source": [
    "signal = np.reshape(linsig, (41,81,401))"
   ]
  },
  {
   "cell_type": "code",
   "execution_count": 84,
   "metadata": {},
   "outputs": [],
   "source": [
    "snr = np.zeros((41,81))\n",
    "noise = np.zeros((41,81))\n",
    "for i in range(41):\n",
    "    for j in range(81):\n",
    "        max_ind=np.argmax(signal[i,j,:])\n",
    "        max_val=np.max(signal[i,j,:])\n",
    "        mask = np.logical_or(SAxdata < SAxdata[max_ind]-10e3, SAxdata > SAxdata[max_ind]+10e3)\n",
    "#             noisetemp=np.append(linsignal[i,j,k,:max_ind-75],linsignal[i,j,k,max_ind+75:])\n",
    "        noisetemp = signal[i,j,mask]\n",
    "        avg_noise=np.mean(noisetemp)\n",
    "        snr[i][j] = Watt2dBm(max_val)-Watt2dBm(avg_noise)\n",
    "        noise[i][j] = Watt2dBm(avg_noise)"
   ]
  },
  {
   "cell_type": "code",
   "execution_count": 85,
   "metadata": {},
   "outputs": [
    {
     "data": {
      "text/plain": [
       "19.373763878345066"
      ]
     },
     "execution_count": 85,
     "metadata": {},
     "output_type": "execute_result"
    }
   ],
   "source": [
    "snr[0][0]"
   ]
  },
  {
   "cell_type": "code",
   "execution_count": 86,
   "metadata": {},
   "outputs": [
    {
     "data": {
      "text/plain": [
       "21.142091754382932"
      ]
     },
     "execution_count": 86,
     "metadata": {},
     "output_type": "execute_result"
    }
   ],
   "source": [
    "np.max(snr)"
   ]
  },
  {
   "cell_type": "code",
   "execution_count": 87,
   "metadata": {},
   "outputs": [],
   "source": [
    "ind_max_snr = np.unravel_index(np.argmax(snr, axis=None), snr.shape)"
   ]
  },
  {
   "cell_type": "code",
   "execution_count": 88,
   "metadata": {},
   "outputs": [
    {
     "data": {
      "text/plain": [
       "(33, 67)"
      ]
     },
     "execution_count": 88,
     "metadata": {},
     "output_type": "execute_result"
    }
   ],
   "source": [
    "ind_max_snr"
   ]
  },
  {
   "cell_type": "code",
   "execution_count": 89,
   "metadata": {},
   "outputs": [
    {
     "data": {
      "text/plain": [
       "5.699999999999998"
      ]
     },
     "execution_count": 89,
     "metadata": {},
     "output_type": "execute_result"
    }
   ],
   "source": [
    "power[ind_max_snr]"
   ]
  },
  {
   "cell_type": "code",
   "execution_count": 90,
   "metadata": {},
   "outputs": [
    {
     "data": {
      "text/plain": [
       "8.045"
      ]
     },
     "execution_count": 90,
     "metadata": {},
     "output_type": "execute_result"
    }
   ],
   "source": [
    "freq[ind_max_snr]*10**-9"
   ]
  },
  {
   "cell_type": "code",
   "execution_count": 91,
   "metadata": {},
   "outputs": [],
   "source": [
    "def nlargest_indices(arr, n):\n",
    "    uniques = np.unique(arr)\n",
    "    threshold = uniques[-n]\n",
    "    return np.where(arr >= threshold)\n",
    "\n",
    "def nsmallest_indices(arr, n):\n",
    "    uniques = np.unique(arr)\n",
    "    threshold = uniques[-n]\n",
    "    return np.where(arr <= threshold)"
   ]
  },
  {
   "cell_type": "code",
   "execution_count": 92,
   "metadata": {},
   "outputs": [],
   "source": [
    "ind1,ind2 = nlargest_indices(snr,10)"
   ]
  },
  {
   "cell_type": "code",
   "execution_count": 93,
   "metadata": {},
   "outputs": [],
   "source": [
    "inds = nlargest_indices(snr,10)"
   ]
  },
  {
   "cell_type": "code",
   "execution_count": 94,
   "metadata": {},
   "outputs": [
    {
     "data": {
      "text/plain": [
       "array([20.93739607, 20.93708707, 21.08857217, 20.94376288, 21.0937214 ,\n",
       "       20.95061822, 21.01555699, 21.14209175, 20.96929565, 21.10152019])"
      ]
     },
     "execution_count": 94,
     "metadata": {},
     "output_type": "execute_result"
    }
   ],
   "source": [
    "snr[inds]"
   ]
  },
  {
   "cell_type": "code",
   "execution_count": 95,
   "metadata": {},
   "outputs": [
    {
     "data": {
      "text/plain": [
       "array([-61.70739607, -61.30708707, -58.62857217, -59.53376288,\n",
       "       -62.4937214 , -59.54061822, -55.90555699, -59.10209175,\n",
       "       -58.90929565, -58.94152019])"
      ]
     },
     "execution_count": 95,
     "metadata": {},
     "output_type": "execute_result"
    }
   ],
   "source": [
    "noise[inds]"
   ]
  },
  {
   "cell_type": "code",
   "execution_count": 97,
   "metadata": {
    "scrolled": false
   },
   "outputs": [
    {
     "name": "stdout",
     "output_type": "stream",
     "text": [
      "SNR =  20.93739607469685\n",
      "Noise =  -61.707396074696845\n",
      "Pump Power =  4.999999999999998  dBm\n",
      "Pump Frequency =  7.880000000000001  GHz\n",
      "\n",
      "SNR =  20.93708707006342\n",
      "Noise =  -61.30708707006342\n",
      "Pump Power =  4.999999999999998  dBm\n",
      "Pump Frequency =  7.985  GHz\n",
      "\n",
      "SNR =  21.088572168005598\n",
      "Noise =  -58.6285721680056\n",
      "Pump Power =  4.299999999999999  dBm\n",
      "Pump Frequency =  8.005  GHz\n",
      "\n",
      "SNR =  20.943762884066146\n",
      "Noise =  -59.53376288406615\n",
      "Pump Power =  4.499999999999999  dBm\n",
      "Pump Frequency =  8.01  GHz\n",
      "\n",
      "SNR =  21.093721399811336\n",
      "Noise =  -62.493721399811335\n",
      "Pump Power =  5.099999999999999  dBm\n",
      "Pump Frequency =  8.040000000000001  GHz\n",
      "\n",
      "SNR =  20.950618216019166\n",
      "Noise =  -59.54061821601917\n",
      "Pump Power =  5.399999999999999  dBm\n",
      "Pump Frequency =  8.040000000000001  GHz\n",
      "\n",
      "SNR =  21.015556991269065\n",
      "Noise =  -55.905556991269066\n",
      "Pump Power =  4.599999999999999  dBm\n",
      "Pump Frequency =  8.045  GHz\n",
      "\n",
      "SNR =  21.142091754382932\n",
      "Noise =  -59.10209175438293\n",
      "Pump Power =  5.699999999999998  dBm\n",
      "Pump Frequency =  8.045  GHz\n",
      "\n",
      "SNR =  20.969295650359598\n",
      "Noise =  -58.909295650359596\n",
      "Pump Power =  5.099999999999999  dBm\n",
      "Pump Frequency =  8.07  GHz\n",
      "\n",
      "SNR =  21.10152018651855\n",
      "Noise =  -58.94152018651855\n",
      "Pump Power =  5.199999999999998  dBm\n",
      "Pump Frequency =  8.08  GHz\n",
      "\n"
     ]
    }
   ],
   "source": [
    "for i in range(len(ind1)):\n",
    "    print('SNR = ', snr[ind1[i]][ind2[i]])\n",
    "    print('Noise = ', noise[ind1[i]][ind2[i]])\n",
    "    print('Pump Power = ', power[ind1[i]][ind2[i]], ' dBm')\n",
    "    print('Pump Frequency = ', freq[ind1[i]][ind2[i]]*10**-9, ' GHz\\n')"
   ]
  },
  {
   "cell_type": "markdown",
   "metadata": {},
   "source": [
    "# TWPA frequency "
   ]
  },
  {
   "cell_type": "code",
   "execution_count": 126,
   "metadata": {},
   "outputs": [],
   "source": [
    "TWPAfreq1 = r\"G:\\Shared drives\\LFL\\Labber\\Data\\2022\\02\\Data_0214\\NBR07-8_TWPA_SNR_freq_sweep.hdf5\" #power 4.3 dBm\n",
    "TWPAfreq2 = r\"G:\\Shared drives\\LFL\\Labber\\Data\\2022\\02\\Data_0214\\NBR07-8_TWPA_SNR_freq_sweep_2.hdf5\" #power 4.9 dBm\n",
    "TWPAfreq3 = r\"G:\\Shared drives\\LFL\\Labber\\Data\\2022\\02\\Data_0214\\NBR07-8_TWPA_SNR_freq_sweep_3.hdf5\" #power 4.6 dBm"
   ]
  },
  {
   "cell_type": "code",
   "execution_count": 127,
   "metadata": {},
   "outputs": [],
   "source": [
    "lf = Labber.LogFile(TWPAfreq3)\n",
    "sig = lf.getData(name = 'SA - Signal')\n",
    "# s21 = lf.getData(name = 'VNA - S21')\n",
    "linsig = dBm2Watt(sig)"
   ]
  },
  {
   "cell_type": "code",
   "execution_count": 128,
   "metadata": {},
   "outputs": [],
   "source": [
    "linsig = np.mean(linsig.reshape(41,4,401),axis = 1)"
   ]
  },
  {
   "cell_type": "code",
   "execution_count": 129,
   "metadata": {},
   "outputs": [],
   "source": [
    "SAxdata,SAydata = lf.getTraceXY(y_channel='SA - Signal')"
   ]
  },
  {
   "cell_type": "code",
   "execution_count": 130,
   "metadata": {},
   "outputs": [
    {
     "name": "stdout",
     "output_type": "stream",
     "text": [
      "(41, 4)\n"
     ]
    }
   ],
   "source": [
    "freq = lf.getData(name = '10002A05 - Frequency')\n",
    "print(freq.shape)\n",
    "freq = np.squeeze(freq)"
   ]
  },
  {
   "cell_type": "code",
   "execution_count": 131,
   "metadata": {},
   "outputs": [],
   "source": [
    "SNR = []\n",
    "MAX = []\n",
    "NOISE = []\n",
    "for i in range(len(freq)):\n",
    "    max_ind=np.argmax(linsig[i])\n",
    "    max_val=np.max(linsig[i])\n",
    "    mask = np.logical_or(SAxdata < SAxdata[max_ind]-10e3, SAxdata > SAxdata[max_ind]+10e3)\n",
    "    noise=linsig[i][mask]\n",
    "    avg_noise=np.mean(noise)\n",
    "    snr = Watt2dBm(max_val)-Watt2dBm(avg_noise)\n",
    "    SNR.append(snr)\n",
    "    MAX.append(Watt2dBm(max_val))\n",
    "    NOISE.append(Watt2dBm(avg_noise))"
   ]
  },
  {
   "cell_type": "code",
   "execution_count": 107,
   "metadata": {
    "scrolled": true
   },
   "outputs": [
    {
     "data": {
      "text/plain": [
       "<matplotlib.lines.Line2D at 0x216dc93fc10>"
      ]
     },
     "execution_count": 107,
     "metadata": {},
     "output_type": "execute_result"
    },
    {
     "data": {
      "image/png": "[encoded data removed]",
      "text/plain": [
       "<Figure size 432x288 with 1 Axes>"
      ]
     },
     "metadata": {
      "needs_background": "light"
     },
     "output_type": "display_data"
    }
   ],
   "source": [
    "#TWPAfreq1\n",
    "plt.plot(freq,SNR)\n",
    "plt.title('SNR')\n",
    "plt.axvline(7.88e9)"
   ]
  },
  {
   "cell_type": "markdown",
   "metadata": {},
   "source": [
    "# TWPA power"
   ]
  },
  {
   "cell_type": "code",
   "execution_count": 137,
   "metadata": {},
   "outputs": [],
   "source": [
    "TWPApower1 = r\"G:\\Shared drives\\LFL\\Labber\\Data\\2022\\02\\Data_0214\\NBR07-8_TWPA_SNR_power_sweep.hdf5\"\n",
    "TWPApower2 = r\"G:\\Shared drives\\LFL\\Labber\\Data\\2022\\02\\Data_0214\\NBR07-8_TWPA_SNR_power_sweep_2.hdf5\""
   ]
  },
  {
   "cell_type": "code",
   "execution_count": 138,
   "metadata": {},
   "outputs": [],
   "source": [
    "lf = Labber.LogFile(TWPApower2)\n",
    "sig = lf.getData(name = 'SA - Signal')\n",
    "linsig = dBm2Watt(sig)"
   ]
  },
  {
   "cell_type": "code",
   "execution_count": 139,
   "metadata": {},
   "outputs": [],
   "source": [
    "linsig = np.mean(linsig.reshape(21,4,401),axis = 1)"
   ]
  },
  {
   "cell_type": "code",
   "execution_count": 140,
   "metadata": {},
   "outputs": [],
   "source": [
    "SAxdata,SAydata = lf.getTraceXY(y_channel='SA - Signal')"
   ]
  },
  {
   "cell_type": "code",
   "execution_count": 141,
   "metadata": {},
   "outputs": [
    {
     "name": "stdout",
     "output_type": "stream",
     "text": [
      "(21, 4)\n"
     ]
    }
   ],
   "source": [
    "power = lf.getData(name = '10002A05 - Power')\n",
    "print(power.shape)\n",
    "power = np.squeeze(power)"
   ]
  },
  {
   "cell_type": "code",
   "execution_count": 142,
   "metadata": {},
   "outputs": [],
   "source": [
    "SNR = []\n",
    "MAX = []\n",
    "NOISE = []\n",
    "for i in range(len(power)):\n",
    "    max_ind=np.argmax(linsig[i])\n",
    "    max_val=np.max(linsig[i])\n",
    "    mask = np.logical_or(SAxdata < SAxdata[max_ind]-10e3, SAxdata > SAxdata[max_ind]+10e3)\n",
    "    noise=linsig[i][mask]\n",
    "    avg_noise=np.mean(noise)\n",
    "    snr = Watt2dBm(max_val)-Watt2dBm(avg_noise)\n",
    "    SNR.append(snr)\n",
    "    MAX.append(Watt2dBm(max_val))\n",
    "    NOISE.append(Watt2dBm(avg_noise))"
   ]
  },
  {
   "cell_type": "code",
   "execution_count": 116,
   "metadata": {},
   "outputs": [
    {
     "data": {
      "text/plain": [
       "<matplotlib.lines.Line2D at 0x216da150970>"
      ]
     },
     "execution_count": 116,
     "metadata": {},
     "output_type": "execute_result"
    },
    {
     "data": {
      "image/png": "[encoded data removed]",
      "text/plain": [
       "<Figure size 432x288 with 1 Axes>"
      ]
     },
     "metadata": {
      "needs_background": "light"
     },
     "output_type": "display_data"
    }
   ],
   "source": [
    "#TWPApower1\n",
    "plt.plot(power,SNR)\n",
    "plt.title('SNR')\n",
    "plt.axvline(4.9)"
   ]
  },
  {
   "cell_type": "markdown",
   "metadata": {},
   "source": [
    "## Repeat frequency sweep setting the power at 4.9 dBm"
   ]
  },
  {
   "cell_type": "code",
   "execution_count": 117,
   "metadata": {},
   "outputs": [],
   "source": [
    "TWPAfreq2 = r\"G:\\Shared drives\\LFL\\Labber\\Data\\2022\\02\\Data_0214\\NBR07-8_TWPA_SNR_freq_sweep_2.hdf5\""
   ]
  },
  {
   "cell_type": "code",
   "execution_count": 125,
   "metadata": {},
   "outputs": [
    {
     "data": {
      "text/plain": [
       "<matplotlib.lines.Line2D at 0x216de44e7f0>"
      ]
     },
     "execution_count": 125,
     "metadata": {},
     "output_type": "execute_result"
    },
    {
     "data": {
      "image/png": "[encoded data removed]",
      "text/plain": [
       "<Figure size 432x288 with 1 Axes>"
      ]
     },
     "metadata": {
      "needs_background": "light"
     },
     "output_type": "display_data"
    }
   ],
   "source": [
    "#TWPAfreq2\n",
    "plt.plot(freq,SNR)\n",
    "plt.title('SNR')\n",
    "plt.axvline(7.89e9)"
   ]
  },
  {
   "cell_type": "markdown",
   "metadata": {},
   "source": [
    "## Repeat frequency sweep setting the power at 4.6 dBm"
   ]
  },
  {
   "cell_type": "code",
   "execution_count": 117,
   "metadata": {},
   "outputs": [],
   "source": [
    "TWPAfreq3 = r\"G:\\Shared drives\\LFL\\Labber\\Data\\2022\\02\\Data_0214\\NBR07-8_TWPA_SNR_freq_sweep_3.hdf5\""
   ]
  },
  {
   "cell_type": "code",
   "execution_count": 133,
   "metadata": {},
   "outputs": [
    {
     "data": {
      "text/plain": [
       "<matplotlib.lines.Line2D at 0x216df4a9910>"
      ]
     },
     "execution_count": 133,
     "metadata": {},
     "output_type": "execute_result"
    },
    {
     "data": {
      "image/png": "[encoded data removed]",
      "text/plain": [
       "<Figure size 432x288 with 1 Axes>"
      ]
     },
     "metadata": {
      "needs_background": "light"
     },
     "output_type": "display_data"
    }
   ],
   "source": [
    "#TWPAfreq3\n",
    "plt.plot(freq,SNR)\n",
    "plt.title('SNR')\n",
    "plt.axvline(7.895e9)"
   ]
  },
  {
   "cell_type": "markdown",
   "metadata": {},
   "source": [
    "## Repeat power sweep having frequency at 7.89 GHz"
   ]
  },
  {
   "cell_type": "code",
   "execution_count": 143,
   "metadata": {},
   "outputs": [],
   "source": [
    "TWPApower2 = r\"G:\\Shared drives\\LFL\\Labber\\Data\\2022\\02\\Data_0214\\NBR07-8_TWPA_SNR_power_sweep_2.hdf5\""
   ]
  },
  {
   "cell_type": "code",
   "execution_count": 144,
   "metadata": {},
   "outputs": [
    {
     "data": {
      "text/plain": [
       "<matplotlib.lines.Line2D at 0x216df4fd6a0>"
      ]
     },
     "execution_count": 144,
     "metadata": {},
     "output_type": "execute_result"
    },
    {
     "data": {
      "image/png": "[encoded data removed]",
      "text/plain": [
       "<Figure size 432x288 with 1 Axes>"
      ]
     },
     "metadata": {
      "needs_background": "light"
     },
     "output_type": "display_data"
    }
   ],
   "source": [
    "#TWPApower2\n",
    "plt.plot(power,SNR)\n",
    "plt.title('SNR')\n",
    "plt.axvline(4.9)"
   ]
  },
  {
   "cell_type": "markdown",
   "metadata": {},
   "source": [
    "# SNR check both OFF"
   ]
  },
  {
   "cell_type": "code",
   "execution_count": 145,
   "metadata": {},
   "outputs": [],
   "source": [
    "bothOFF1 = r\"G:\\Shared drives\\LFL\\Labber\\Data\\2022\\02\\Data_0214\\NBR07-8_SNR_bothOFF.hdf5\""
   ]
  },
  {
   "cell_type": "code",
   "execution_count": 146,
   "metadata": {},
   "outputs": [],
   "source": [
    "lf = Labber.LogFile(bothOFF1)\n",
    "sig = lf.getData(name = 'SA - Signal')\n",
    "# s21 = lf.getData(name = 'VNA - S21')\n",
    "linsig = dBm2Watt(sig)\n",
    "linsig = np.mean(linsig,axis = 0)"
   ]
  },
  {
   "cell_type": "code",
   "execution_count": 147,
   "metadata": {},
   "outputs": [],
   "source": [
    "SAxdata,SAydata = lf.getTraceXY(y_channel='SA - Signal')"
   ]
  },
  {
   "cell_type": "code",
   "execution_count": 148,
   "metadata": {},
   "outputs": [
    {
     "name": "stdout",
     "output_type": "stream",
     "text": [
      "SNR =  10.595569293717809\n",
      "Signal =  -60.62836282813489\n",
      "Noise =  -71.2239321218527\n"
     ]
    }
   ],
   "source": [
    "max_ind=np.argmax(linsig)\n",
    "max_val=np.max(linsig)\n",
    "mask = np.logical_or(SAxdata < SAxdata[max_ind]-10e3, SAxdata > SAxdata[max_ind]+10e3)\n",
    "noise=linsig[mask]\n",
    "avg_noise=np.mean(noise)\n",
    "snr = Watt2dBm(max_val)-Watt2dBm(avg_noise)\n",
    "print(\"SNR = \", snr)\n",
    "print(\"Signal = \", Watt2dBm(max_val))\n",
    "print(\"Noise = \", Watt2dBm(avg_noise))"
   ]
  },
  {
   "cell_type": "markdown",
   "metadata": {},
   "source": [
    "# SNR check both ON"
   ]
  },
  {
   "cell_type": "code",
   "execution_count": 149,
   "metadata": {},
   "outputs": [],
   "source": [
    "bothON1 = r\"G:\\Shared drives\\LFL\\Labber\\Data\\2022\\02\\Data_0214\\NBR07-8_SNR_bothON.hdf5\""
   ]
  },
  {
   "cell_type": "code",
   "execution_count": 150,
   "metadata": {},
   "outputs": [],
   "source": [
    "lf = Labber.LogFile(bothON1)\n",
    "sig = lf.getData(name = 'SA - Signal')\n",
    "# s21 = lf.getData(name = 'VNA - S21')\n",
    "linsig = dBm2Watt(sig)\n",
    "linsig = np.mean(linsig,axis = 0)"
   ]
  },
  {
   "cell_type": "code",
   "execution_count": 151,
   "metadata": {},
   "outputs": [],
   "source": [
    "SAxdata,SAydata = lf.getTraceXY(y_channel='SA - Signal')"
   ]
  },
  {
   "cell_type": "code",
   "execution_count": 152,
   "metadata": {},
   "outputs": [
    {
     "name": "stdout",
     "output_type": "stream",
     "text": [
      "SNR =  20.282005457674124\n",
      "Signal =  -39.66444500468298\n",
      "Noise =  -59.946450462357106\n"
     ]
    }
   ],
   "source": [
    "max_ind=np.argmax(linsig)\n",
    "max_val=np.max(linsig)\n",
    "mask = np.logical_or(SAxdata < SAxdata[max_ind]-10e3, SAxdata > SAxdata[max_ind]+10e3)\n",
    "noise=linsig[mask]\n",
    "avg_noise=np.mean(noise)\n",
    "snr = Watt2dBm(max_val)-Watt2dBm(avg_noise)\n",
    "print(\"SNR = \", snr)\n",
    "print(\"Signal = \", Watt2dBm(max_val))\n",
    "print(\"Noise = \", Watt2dBm(avg_noise))"
   ]
  },
  {
   "cell_type": "markdown",
   "metadata": {},
   "source": [
    "# SNR check JPA ON TWPA OFF"
   ]
  },
  {
   "cell_type": "code",
   "execution_count": 153,
   "metadata": {},
   "outputs": [],
   "source": [
    "jpaON1 = r\"G:\\Shared drives\\LFL\\Labber\\Data\\2022\\02\\Data_0214\\NBR07-8_SNR_JPAON_TWPAOFF.hdf5\""
   ]
  },
  {
   "cell_type": "code",
   "execution_count": 154,
   "metadata": {},
   "outputs": [],
   "source": [
    "lf = Labber.LogFile(jpaON1)\n",
    "sig = lf.getData(name = 'SA - Signal')\n",
    "# s21 = lf.getData(name = 'VNA - S21')\n",
    "linsig = dBm2Watt(sig)\n",
    "linsig = np.mean(linsig,axis = 0)"
   ]
  },
  {
   "cell_type": "code",
   "execution_count": 155,
   "metadata": {},
   "outputs": [],
   "source": [
    "SAxdata,SAydata = lf.getTraceXY(y_channel='SA - Signal')"
   ]
  },
  {
   "cell_type": "code",
   "execution_count": 156,
   "metadata": {},
   "outputs": [
    {
     "name": "stdout",
     "output_type": "stream",
     "text": [
      "SNR =  18.679284880321404\n",
      "Signal =  -47.539661847081675\n",
      "Noise =  -66.21894672740308\n"
     ]
    }
   ],
   "source": [
    "max_ind=np.argmax(linsig)\n",
    "max_val=np.max(linsig)\n",
    "mask = np.logical_or(SAxdata < SAxdata[max_ind]-10e3, SAxdata > SAxdata[max_ind]+10e3)\n",
    "noise=linsig[mask]\n",
    "avg_noise=np.mean(noise)\n",
    "snr = Watt2dBm(max_val)-Watt2dBm(avg_noise)\n",
    "print(\"SNR = \", snr)\n",
    "print(\"Signal = \", Watt2dBm(max_val))\n",
    "print(\"Noise = \", Watt2dBm(avg_noise))"
   ]
  },
  {
   "cell_type": "markdown",
   "metadata": {},
   "source": [
    "# SNR check JPA OFF TWPA ON"
   ]
  },
  {
   "cell_type": "code",
   "execution_count": 157,
   "metadata": {},
   "outputs": [],
   "source": [
    "twpaON1 = r\"G:\\Shared drives\\LFL\\Labber\\Data\\2022\\02\\Data_0214\\NBR07-8_SNR_JPAOFF_TWPAON.hdf5\""
   ]
  },
  {
   "cell_type": "code",
   "execution_count": 158,
   "metadata": {},
   "outputs": [],
   "source": [
    "lf = Labber.LogFile(twpaON1)\n",
    "sig = lf.getData(name = 'SA - Signal')\n",
    "# s21 = lf.getData(name = 'VNA - S21')\n",
    "linsig = dBm2Watt(sig)\n",
    "linsig = np.mean(linsig,axis = 0)"
   ]
  },
  {
   "cell_type": "code",
   "execution_count": 159,
   "metadata": {},
   "outputs": [],
   "source": [
    "SAxdata,SAydata = lf.getTraceXY(y_channel='SA - Signal')"
   ]
  },
  {
   "cell_type": "code",
   "execution_count": 160,
   "metadata": {},
   "outputs": [
    {
     "name": "stdout",
     "output_type": "stream",
     "text": [
      "SNR =  13.625397321598392\n",
      "Signal =  -54.452803867287265\n",
      "Noise =  -68.07820118888566\n"
     ]
    }
   ],
   "source": [
    "max_ind=np.argmax(linsig)\n",
    "max_val=np.max(linsig)\n",
    "mask = np.logical_or(SAxdata < SAxdata[max_ind]-10e3, SAxdata > SAxdata[max_ind]+10e3)\n",
    "noise=linsig[mask]\n",
    "avg_noise=np.mean(noise)\n",
    "snr = Watt2dBm(max_val)-Watt2dBm(avg_noise)\n",
    "print(\"SNR = \", snr)\n",
    "print(\"Signal = \", Watt2dBm(max_val))\n",
    "print(\"Noise = \", Watt2dBm(avg_noise))"
   ]
  },
  {
   "cell_type": "code",
   "execution_count": null,
   "metadata": {},
   "outputs": [],
   "source": []
  }
 ],
 "metadata": {
  "kernelspec": {
   "display_name": "Python 3",
   "language": "python",
   "name": "python3"
  },
  "language_info": {
   "codemirror_mode": {
    "name": "ipython",
    "version": 3
   },
   "file_extension": ".py",
   "mimetype": "text/x-python",
   "name": "python",
   "nbconvert_exporter": "python",
   "pygments_lexer": "ipython3",
   "version": "3.8.5"
  }
 },
 "nbformat": 4,
 "nbformat_minor": 4
}
