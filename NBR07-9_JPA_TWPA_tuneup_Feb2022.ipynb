{
 "cells": [
  {
   "cell_type": "code",
   "execution_count": 3,
   "metadata": {},
   "outputs": [],
   "source": [
    "import Labber\n",
    "import numpy as np\n",
    "import matplotlib.pyplot as plt\n",
    "import os\n",
    "from fitTools.utilities import Watt2dBm, dBm2Watt, VNA2dBm"
   ]
  },
  {
   "cell_type": "markdown",
   "metadata": {},
   "source": [
    "# this is title and TOC\n",
    "\n",
    "4. [fist thign](#reference1)\n",
    "3. [second thing](#reference2)\n",
    "    1. [something else]()\n"
   ]
  },
  {
   "cell_type": "code",
   "execution_count": null,
   "metadata": {},
   "outputs": [],
   "source": []
  },
  {
   "cell_type": "markdown",
   "metadata": {},
   "source": [
    "# First looking at a power, frequency, and flux sweep of JPA to find max SNR"
   ]
  },
  {
   "cell_type": "code",
   "execution_count": null,
   "metadata": {},
   "outputs": [],
   "source": []
  },
  {
   "cell_type": "code",
   "execution_count": 373,
   "metadata": {},
   "outputs": [],
   "source": [
    "JPA0224_1 = r\"G:\\Shared drives\\LFL\\Labber\\Data\\2022\\02\\Data_0224\\NBR07-9_JPA_SNR_p_freq_flux_sweep.hdf5\"\n",
    "JPA0224_2 = r\"G:\\Shared drives\\LFL\\Labber\\Data\\2022\\02\\Data_0224\\NBR07-9_JPA_SNR_p_freq_flux_sweep_2.hdf5\"\n",
    "JPA0225_1 = r\"G:\\Shared drives\\LFL\\Labber\\Data\\2022\\02\\Data_0225\\NBR07-9_SNR_JPA_p_freq_flux_sweep.hdf5\"\n",
    "JPA0301_1 = r\"G:\\Shared drives\\LFL\\Labber\\Data\\2022\\03\\Data_0301\\NBR07-9_SNR_JPA_p_freq_flux_275mK.hdf5\"\n",
    "JPA0302_1 = r\"G:\\Shared drives\\LFL\\Labber\\Data\\2022\\03\\Data_0301\\NBR07-9_SNR_JPAsweep_275mK.hdf5\""
   ]
  },
  {
   "cell_type": "code",
   "execution_count": 374,
   "metadata": {},
   "outputs": [],
   "source": [
    "lf = Labber.LogFile(JPA0302_1)\n",
    "sig = lf.getData(name = 'SA - Signal')\n",
    "linsig = dBm2Watt(sig)\n",
    "# linsig = np.mean(linsig,axis = 0)\n",
    "\n",
    "power = lf.getData(name = 'JPA pump - Power')\n",
    "curr = lf.getData(name = 'JPA flux - Source current')\n",
    "freq = lf.getData(name = 'JPA pump - Frequency')"
   ]
  },
  {
   "cell_type": "code",
   "execution_count": 375,
   "metadata": {},
   "outputs": [],
   "source": [
    "SAxdata,SAydata = lf.getTraceXY(y_channel='SA - Signal')"
   ]
  },
  {
   "cell_type": "code",
   "execution_count": 376,
   "metadata": {},
   "outputs": [
    {
     "data": {
      "text/plain": [
       "(416, 16)"
      ]
     },
     "execution_count": 376,
     "metadata": {},
     "output_type": "execute_result"
    }
   ],
   "source": [
    "freq.shape"
   ]
  },
  {
   "cell_type": "code",
   "execution_count": 377,
   "metadata": {},
   "outputs": [],
   "source": [
    "freq = np.reshape(freq, (16,26,16))"
   ]
  },
  {
   "cell_type": "code",
   "execution_count": 378,
   "metadata": {},
   "outputs": [],
   "source": [
    "power = np.reshape(power, (16,26,16))"
   ]
  },
  {
   "cell_type": "code",
   "execution_count": 379,
   "metadata": {},
   "outputs": [],
   "source": [
    "curr = np.reshape(curr, (16,26,16))"
   ]
  },
  {
   "cell_type": "code",
   "execution_count": 380,
   "metadata": {},
   "outputs": [],
   "source": [
    "signal = np.reshape(linsig, (16,26,16,401))"
   ]
  },
  {
   "cell_type": "code",
   "execution_count": 381,
   "metadata": {},
   "outputs": [],
   "source": [
    "snr = np.zeros((16,26,16))\n",
    "noise = np.zeros((16,26,16))\n",
    "for i in range(16):\n",
    "    for j in range(26):\n",
    "        for k in range(16):\n",
    "            max_ind=np.argmax(signal[i,j,k,:])\n",
    "            max_val=np.max(signal[i,j,k,:])\n",
    "            mask = np.logical_or(SAxdata < SAxdata[max_ind]-10e3, SAxdata > SAxdata[max_ind]+10e3)\n",
    "#             noisetemp=np.append(linsignal[i,j,k,:max_ind-75],linsignal[i,j,k,max_ind+75:])\n",
    "            noisetemp = signal[i,j,k,mask]\n",
    "            avg_noise=np.mean(noisetemp)\n",
    "            snr[i][j][k] = Watt2dBm(max_val)-Watt2dBm(avg_noise)\n",
    "            noise[i][j][k] = Watt2dBm(avg_noise)"
   ]
  },
  {
   "cell_type": "code",
   "execution_count": 382,
   "metadata": {},
   "outputs": [
    {
     "data": {
      "text/plain": [
       "16.49682123101867"
      ]
     },
     "execution_count": 382,
     "metadata": {},
     "output_type": "execute_result"
    }
   ],
   "source": [
    "snr[0][0][0]"
   ]
  },
  {
   "cell_type": "markdown",
   "metadata": {},
   "source": [
    "<a name=\"reference1\"></a>\n",
    "## reference 1"
   ]
  },
  {
   "cell_type": "code",
   "execution_count": 383,
   "metadata": {},
   "outputs": [
    {
     "data": {
      "text/plain": [
       "18.509361466098248"
      ]
     },
     "execution_count": 383,
     "metadata": {},
     "output_type": "execute_result"
    }
   ],
   "source": [
    "np.max(snr)"
   ]
  },
  {
   "cell_type": "code",
   "execution_count": 384,
   "metadata": {},
   "outputs": [],
   "source": [
    "ind_max_snr = np.unravel_index(np.argmax(snr, axis=None), snr.shape)"
   ]
  },
  {
   "cell_type": "code",
   "execution_count": 385,
   "metadata": {},
   "outputs": [
    {
     "data": {
      "text/plain": [
       "(11, 10, 10)"
      ]
     },
     "execution_count": 385,
     "metadata": {},
     "output_type": "execute_result"
    }
   ],
   "source": [
    "ind_max_snr"
   ]
  },
  {
   "cell_type": "code",
   "execution_count": 386,
   "metadata": {},
   "outputs": [
    {
     "data": {
      "text/plain": [
       "-5.0"
      ]
     },
     "execution_count": 386,
     "metadata": {},
     "output_type": "execute_result"
    }
   ],
   "source": [
    "power[ind_max_snr]"
   ]
  },
  {
   "cell_type": "code",
   "execution_count": 387,
   "metadata": {},
   "outputs": [
    {
     "data": {
      "text/plain": [
       "6.100000000000003"
      ]
     },
     "execution_count": 387,
     "metadata": {},
     "output_type": "execute_result"
    }
   ],
   "source": [
    "curr[ind_max_snr]*10**3"
   ]
  },
  {
   "cell_type": "code",
   "execution_count": 388,
   "metadata": {},
   "outputs": [
    {
     "data": {
      "text/plain": [
       "4.5"
      ]
     },
     "execution_count": 388,
     "metadata": {},
     "output_type": "execute_result"
    }
   ],
   "source": [
    "freq[ind_max_snr]*10**-9"
   ]
  },
  {
   "cell_type": "code",
   "execution_count": 23,
   "metadata": {},
   "outputs": [],
   "source": [
    "def nlargest_indices(arr, n):\n",
    "    uniques = np.unique(arr)\n",
    "    threshold = uniques[-n]\n",
    "    return np.where(arr >= threshold)\n",
    "\n",
    "def nsmallest_indices(arr, n):\n",
    "    uniques = np.unique(arr)\n",
    "    threshold = uniques[-n]\n",
    "    return np.where(arr <= threshold)"
   ]
  },
  {
   "cell_type": "code",
   "execution_count": 389,
   "metadata": {},
   "outputs": [],
   "source": [
    "ind1,ind2,ind3 = nlargest_indices(snr,5)"
   ]
  },
  {
   "cell_type": "code",
   "execution_count": 390,
   "metadata": {},
   "outputs": [],
   "source": [
    "inds = nlargest_indices(snr,5)"
   ]
  },
  {
   "cell_type": "code",
   "execution_count": 391,
   "metadata": {},
   "outputs": [
    {
     "data": {
      "text/plain": [
       "array([18.26001856, 18.21649494, 18.22010812, 18.50936147, 18.16376715])"
      ]
     },
     "execution_count": 391,
     "metadata": {},
     "output_type": "execute_result"
    }
   ],
   "source": [
    "snr[inds]"
   ]
  },
  {
   "cell_type": "code",
   "execution_count": 392,
   "metadata": {},
   "outputs": [
    {
     "data": {
      "text/plain": [
       "array([-67.20001856, -66.08649494, -67.09010812, -67.02936147,\n",
       "       -66.89376715])"
      ]
     },
     "execution_count": 392,
     "metadata": {},
     "output_type": "execute_result"
    }
   ],
   "source": [
    "noise[inds]"
   ]
  },
  {
   "cell_type": "code",
   "execution_count": 393,
   "metadata": {
    "scrolled": false
   },
   "outputs": [
    {
     "name": "stdout",
     "output_type": "stream",
     "text": [
      "SNR =  18.260018558181713\n",
      "Noise =  -67.20001855818171\n",
      "Pump Power =  -6.0  dBm\n",
      "Pump Frequency =  4.46  GHz\n",
      "Lisa Current =  5.200000000000001  mA \n",
      "\n",
      "SNR =  18.216494942692712\n",
      "Noise =  -66.08649494269271\n",
      "Pump Power =  -13.0  dBm\n",
      "Pump Frequency =  4.34  GHz\n",
      "Lisa Current =  5.300000000000001  mA \n",
      "\n",
      "SNR =  18.220108122889577\n",
      "Noise =  -67.09010812288957\n",
      "Pump Power =  -7.0  dBm\n",
      "Pump Frequency =  4.48  GHz\n",
      "Lisa Current =  5.400000000000001  mA \n",
      "\n",
      "SNR =  18.509361466098248\n",
      "Noise =  -67.02936146609825\n",
      "Pump Power =  -5.0  dBm\n",
      "Pump Frequency =  4.5  GHz\n",
      "Lisa Current =  6.100000000000003  mA \n",
      "\n",
      "SNR =  18.1637671477409\n",
      "Noise =  -66.89376714774089\n",
      "Pump Power =  -3.0  dBm\n",
      "Pump Frequency =  4.5  GHz\n",
      "Lisa Current =  6.5  mA \n",
      "\n"
     ]
    }
   ],
   "source": [
    "for i in range(len(ind1)):\n",
    "    print('SNR = ', snr[ind1[i]][ind2[i]][ind3[i]])\n",
    "    print('Noise = ', noise[ind1[i]][ind2[i]][ind3[i]])\n",
    "    print('Pump Power = ', power[ind1[i]][ind2[i]][ind3[i]], ' dBm')\n",
    "    print('Pump Frequency = ', freq[ind1[i]][ind2[i]][ind3[i]]*10**-9, ' GHz')\n",
    "    print('Lisa Current = ', curr[ind1[i]][ind2[i]][ind3[i]]*10**3, ' mA \\n')"
   ]
  },
  {
   "cell_type": "markdown",
   "metadata": {},
   "source": [
    "<a name=\"reference2\"></a>\n",
    "# Setting the flux and sweep frequency and power"
   ]
  },
  {
   "cell_type": "code",
   "execution_count": 265,
   "metadata": {},
   "outputs": [],
   "source": [
    "JPApofreq = r\"G:\\Shared drives\\LFL\\Labber\\Data\\2022\\02\\Data_0225\\NBR07-9_SNR_JPA_p_freq_sweep.hdf5\" #5.7 mA for base T\n",
    "JPApofreq_2 = r\"G:\\Shared drives\\LFL\\Labber\\Data\\2022\\03\\Data_0301\\NBR07-9_SNR_JPA_p_freq_275mK.hdf5\" #5.8 mA for 275 mK"
   ]
  },
  {
   "cell_type": "code",
   "execution_count": 266,
   "metadata": {},
   "outputs": [],
   "source": [
    "lf = Labber.LogFile(JPApofreq_2)\n",
    "sig = lf.getData(name = 'SA - Signal')\n",
    "linsig = dBm2Watt(sig)\n",
    "# linsig = np.mean(linsig,axis = 0)\n",
    "\n",
    "power = lf.getData(name = 'JPA pump - Power')\n",
    "# curr = lf.getData(name = 'JPA flux - Source current')\n",
    "freq = lf.getData(name = 'JPA pump - Frequency')"
   ]
  },
  {
   "cell_type": "code",
   "execution_count": 267,
   "metadata": {},
   "outputs": [],
   "source": [
    "SAxdata,SAydata = lf.getTraceXY(y_channel='SA - Signal')"
   ]
  },
  {
   "cell_type": "code",
   "execution_count": 268,
   "metadata": {},
   "outputs": [
    {
     "data": {
      "text/plain": [
       "(17, 11)"
      ]
     },
     "execution_count": 268,
     "metadata": {},
     "output_type": "execute_result"
    }
   ],
   "source": [
    "freq.shape"
   ]
  },
  {
   "cell_type": "code",
   "execution_count": 269,
   "metadata": {},
   "outputs": [],
   "source": [
    "freq = np.reshape(freq, (17,11))"
   ]
  },
  {
   "cell_type": "code",
   "execution_count": 270,
   "metadata": {},
   "outputs": [],
   "source": [
    "power = np.reshape(power, (17,11))"
   ]
  },
  {
   "cell_type": "code",
   "execution_count": 271,
   "metadata": {},
   "outputs": [],
   "source": [
    "signal = np.reshape(linsig, (17,11,401))"
   ]
  },
  {
   "cell_type": "code",
   "execution_count": 272,
   "metadata": {},
   "outputs": [],
   "source": [
    "snr = np.zeros((17,11))\n",
    "noise = np.zeros((17,11))\n",
    "for i in range(17):\n",
    "    for j in range(11):\n",
    "        max_ind=np.argmax(signal[i,j,:])\n",
    "        max_val=np.max(signal[i,j,:])\n",
    "        mask = np.logical_or(SAxdata < SAxdata[max_ind]-10e3, SAxdata > SAxdata[max_ind]+10e3)\n",
    "#             noisetemp=np.append(linsignal[i,j,k,:max_ind-75],linsignal[i,j,k,max_ind+75:])\n",
    "        noisetemp = signal[i,j,mask]\n",
    "        avg_noise=np.mean(noisetemp)\n",
    "        snr[i][j] = Watt2dBm(max_val)-Watt2dBm(avg_noise)\n",
    "        noise[i][j] = Watt2dBm(avg_noise)"
   ]
  },
  {
   "cell_type": "code",
   "execution_count": 273,
   "metadata": {},
   "outputs": [
    {
     "data": {
      "text/plain": [
       "13.836250345267302"
      ]
     },
     "execution_count": 273,
     "metadata": {},
     "output_type": "execute_result"
    }
   ],
   "source": [
    "snr[0][0]"
   ]
  },
  {
   "cell_type": "code",
   "execution_count": 274,
   "metadata": {},
   "outputs": [
    {
     "data": {
      "text/plain": [
       "17.111563110088248"
      ]
     },
     "execution_count": 274,
     "metadata": {},
     "output_type": "execute_result"
    }
   ],
   "source": [
    "np.max(snr)"
   ]
  },
  {
   "cell_type": "code",
   "execution_count": 275,
   "metadata": {},
   "outputs": [],
   "source": [
    "ind_max_snr = np.unravel_index(np.argmax(snr, axis=None), snr.shape)"
   ]
  },
  {
   "cell_type": "code",
   "execution_count": 276,
   "metadata": {},
   "outputs": [
    {
     "data": {
      "text/plain": [
       "(16, 9)"
      ]
     },
     "execution_count": 276,
     "metadata": {},
     "output_type": "execute_result"
    }
   ],
   "source": [
    "ind_max_snr"
   ]
  },
  {
   "cell_type": "code",
   "execution_count": 277,
   "metadata": {},
   "outputs": [
    {
     "data": {
      "text/plain": [
       "-6.0"
      ]
     },
     "execution_count": 277,
     "metadata": {},
     "output_type": "execute_result"
    }
   ],
   "source": [
    "power[ind_max_snr]"
   ]
  },
  {
   "cell_type": "code",
   "execution_count": 278,
   "metadata": {},
   "outputs": [
    {
     "data": {
      "text/plain": [
       "4.45"
      ]
     },
     "execution_count": 278,
     "metadata": {},
     "output_type": "execute_result"
    }
   ],
   "source": [
    "freq[ind_max_snr]*10**-9"
   ]
  },
  {
   "cell_type": "code",
   "execution_count": 279,
   "metadata": {},
   "outputs": [],
   "source": [
    "ind1,ind2 = nlargest_indices(snr,5)"
   ]
  },
  {
   "cell_type": "code",
   "execution_count": 280,
   "metadata": {},
   "outputs": [],
   "source": [
    "inds = nlargest_indices(snr,5)"
   ]
  },
  {
   "cell_type": "code",
   "execution_count": 281,
   "metadata": {},
   "outputs": [
    {
     "data": {
      "text/plain": [
       "array([17.09163307, 16.87331731, 16.86877303, 17.1085145 , 17.11156311])"
      ]
     },
     "execution_count": 281,
     "metadata": {},
     "output_type": "execute_result"
    }
   ],
   "source": [
    "snr[inds]"
   ]
  },
  {
   "cell_type": "code",
   "execution_count": 282,
   "metadata": {},
   "outputs": [
    {
     "data": {
      "text/plain": [
       "array([-65.24163307, -66.69331731, -66.51877303, -66.6485145 ,\n",
       "       -66.62156311])"
      ]
     },
     "execution_count": 282,
     "metadata": {},
     "output_type": "execute_result"
    }
   ],
   "source": [
    "noise[inds]"
   ]
  },
  {
   "cell_type": "code",
   "execution_count": 283,
   "metadata": {
    "scrolled": false
   },
   "outputs": [
    {
     "name": "stdout",
     "output_type": "stream",
     "text": [
      "SNR =  17.091633068479155\n",
      "Noise =  -65.24163306847915\n",
      "Pump Power =  -7.0  dBm\n",
      "Pump Frequency =  4.38  GHz \n",
      "\n",
      "SNR =  16.873317313681206\n",
      "Noise =  -66.6933173136812\n",
      "Pump Power =  -8.0  dBm\n",
      "Pump Frequency =  4.41  GHz \n",
      "\n",
      "SNR =  16.868773026923556\n",
      "Noise =  -66.51877302692355\n",
      "Pump Power =  -7.0  dBm\n",
      "Pump Frequency =  4.41  GHz \n",
      "\n",
      "SNR =  17.108514500232268\n",
      "Noise =  -66.64851450023227\n",
      "Pump Power =  -7.0  dBm\n",
      "Pump Frequency =  4.45  GHz \n",
      "\n",
      "SNR =  17.111563110088248\n",
      "Noise =  -66.62156311008825\n",
      "Pump Power =  -6.0  dBm\n",
      "Pump Frequency =  4.45  GHz \n",
      "\n"
     ]
    }
   ],
   "source": [
    "for i in range(len(ind1)):\n",
    "    print('SNR = ', snr[ind1[i]][ind2[i]])\n",
    "    print('Noise = ', noise[ind1[i]][ind2[i]])\n",
    "    print('Pump Power = ', power[ind1[i]][ind2[i]], ' dBm')\n",
    "    print('Pump Frequency = ', freq[ind1[i]][ind2[i]]*10**-9, ' GHz \\n')"
   ]
  },
  {
   "cell_type": "markdown",
   "metadata": {
    "heading_collapsed": true
   },
   "source": [
    "# JPA frequency "
   ]
  },
  {
   "cell_type": "code",
   "execution_count": 284,
   "metadata": {
    "hidden": true
   },
   "outputs": [],
   "source": [
    "JPAfreq1 = r\"G:\\Shared drives\\LFL\\Labber\\Data\\2022\\02\\Data_0225\\NBR07-9_SNR_JPA_freq_sweep.hdf5\" # -8.5 dBm and 5.7 mA 22 mK\n",
    "JPAfreq2= r\"G:\\Shared drives\\LFL\\Labber\\Data\\2022\\03\\Data_0301\\NBR07-9_SNR_JPA_freq_275mK.hdf5\" # -7 dBm and 5.8 mA 275 mK"
   ]
  },
  {
   "cell_type": "code",
   "execution_count": 285,
   "metadata": {
    "hidden": true
   },
   "outputs": [],
   "source": [
    "lf = Labber.LogFile(JPAfreq2)\n",
    "sig = lf.getData(name = 'SA - Signal')\n",
    "# s21 = lf.getData(name = 'VNA - S21')\n",
    "linsig = dBm2Watt(sig)"
   ]
  },
  {
   "cell_type": "code",
   "execution_count": 286,
   "metadata": {
    "hidden": true
   },
   "outputs": [],
   "source": [
    "linsig = np.mean(linsig.reshape(35,3,401),axis = 1)"
   ]
  },
  {
   "cell_type": "code",
   "execution_count": 287,
   "metadata": {
    "hidden": true
   },
   "outputs": [],
   "source": [
    "SAxdata,SAydata = lf.getTraceXY(y_channel='SA - Signal')"
   ]
  },
  {
   "cell_type": "code",
   "execution_count": 288,
   "metadata": {
    "hidden": true
   },
   "outputs": [
    {
     "name": "stdout",
     "output_type": "stream",
     "text": [
      "(35, 3)\n"
     ]
    }
   ],
   "source": [
    "freq = lf.getData(name = 'JPA pump - Frequency')\n",
    "print(freq.shape)\n",
    "freq = np.squeeze(freq)"
   ]
  },
  {
   "cell_type": "code",
   "execution_count": 289,
   "metadata": {
    "hidden": true
   },
   "outputs": [],
   "source": [
    "SNR = []\n",
    "MAX = []\n",
    "NOISE = []\n",
    "for i in range(len(freq)):\n",
    "    max_ind=np.argmax(linsig[i])\n",
    "    max_val=np.max(linsig[i])\n",
    "    mask = np.logical_or(SAxdata < SAxdata[max_ind]-10e3, SAxdata > SAxdata[max_ind]+10e3)\n",
    "    noise=linsig[i][mask]\n",
    "    avg_noise=np.mean(noise)\n",
    "    snr = Watt2dBm(max_val)-Watt2dBm(avg_noise)\n",
    "    SNR.append(snr)\n",
    "    MAX.append(Watt2dBm(max_val))\n",
    "    NOISE.append(Watt2dBm(avg_noise))"
   ]
  },
  {
   "cell_type": "code",
   "execution_count": 295,
   "metadata": {
    "hidden": true,
    "scrolled": true
   },
   "outputs": [
    {
     "data": {
      "text/plain": [
       "<matplotlib.lines.Line2D at 0x1fc9143eb50>"
      ]
     },
     "execution_count": 295,
     "metadata": {},
     "output_type": "execute_result"
    },
    {
     "data": {
      "image/png": "[encoded data removed]",
      "text/plain": [
       "<Figure size 432x288 with 1 Axes>"
      ]
     },
     "metadata": {
      "needs_background": "light"
     },
     "output_type": "display_data"
    }
   ],
   "source": [
    "plt.plot(freq,SNR)\n",
    "plt.title('SNR')\n",
    "plt.axvline(4.443e9)"
   ]
  },
  {
   "cell_type": "markdown",
   "metadata": {
    "heading_collapsed": true
   },
   "source": [
    "# JPA power"
   ]
  },
  {
   "cell_type": "code",
   "execution_count": 296,
   "metadata": {
    "hidden": true
   },
   "outputs": [],
   "source": [
    "JPApower1 = r\"G:\\Shared drives\\LFL\\Labber\\Data\\2022\\02\\Data_0225\\NBR07-9_SNR_JPA_power_sweep.hdf5\" #4.355 GHz and 5.7 mA\n",
    "JPApower2 = r\"G:\\Shared drives\\LFL\\Labber\\Data\\2022\\03\\Data_0301\\NBR07-9_SNR_JPA_power_275mK.hdf5\" #4.443 GHz and 5.8 mA"
   ]
  },
  {
   "cell_type": "code",
   "execution_count": 297,
   "metadata": {
    "hidden": true
   },
   "outputs": [],
   "source": [
    "lf = Labber.LogFile(JPApower2)\n",
    "sig = lf.getData(name = 'SA - Signal')\n",
    "linsig = dBm2Watt(sig)"
   ]
  },
  {
   "cell_type": "code",
   "execution_count": 299,
   "metadata": {
    "hidden": true
   },
   "outputs": [],
   "source": [
    "linsig = np.mean(linsig.reshape(16,3,401),axis = 1)"
   ]
  },
  {
   "cell_type": "code",
   "execution_count": 300,
   "metadata": {
    "hidden": true
   },
   "outputs": [],
   "source": [
    "SAxdata,SAydata = lf.getTraceXY(y_channel='SA - Signal')"
   ]
  },
  {
   "cell_type": "code",
   "execution_count": 301,
   "metadata": {
    "hidden": true
   },
   "outputs": [
    {
     "name": "stdout",
     "output_type": "stream",
     "text": [
      "(16, 3)\n"
     ]
    }
   ],
   "source": [
    "power = lf.getData(name = 'JPA pump - Power')\n",
    "print(power.shape)\n",
    "power = np.squeeze(power)"
   ]
  },
  {
   "cell_type": "code",
   "execution_count": 302,
   "metadata": {
    "hidden": true
   },
   "outputs": [],
   "source": [
    "SNR = []\n",
    "MAX = []\n",
    "NOISE = []\n",
    "for i in range(len(power)):\n",
    "    max_ind=np.argmax(linsig[i])\n",
    "    max_val=np.max(linsig[i])\n",
    "    mask = np.logical_or(SAxdata < SAxdata[max_ind]-10e3, SAxdata > SAxdata[max_ind]+10e3)\n",
    "    noise=linsig[i][mask]\n",
    "    avg_noise=np.mean(noise)\n",
    "    snr = Watt2dBm(max_val)-Watt2dBm(avg_noise)\n",
    "    SNR.append(snr)\n",
    "    MAX.append(Watt2dBm(max_val))\n",
    "    NOISE.append(Watt2dBm(avg_noise))"
   ]
  },
  {
   "cell_type": "code",
   "execution_count": 304,
   "metadata": {
    "hidden": true
   },
   "outputs": [
    {
     "data": {
      "text/plain": [
       "<matplotlib.lines.Line2D at 0x1fc92a6ceb0>"
      ]
     },
     "execution_count": 304,
     "metadata": {},
     "output_type": "execute_result"
    },
    {
     "data": {
      "image/png": "[encoded data removed]",
      "text/plain": [
       "<Figure size 432x288 with 1 Axes>"
      ]
     },
     "metadata": {
      "needs_background": "light"
     },
     "output_type": "display_data"
    }
   ],
   "source": [
    "#JPApower2\n",
    "plt.plot(power,SNR)\n",
    "plt.title('SNR')\n",
    "plt.axvline(-8)"
   ]
  },
  {
   "cell_type": "code",
   "execution_count": null,
   "metadata": {
    "hidden": true
   },
   "outputs": [],
   "source": []
  },
  {
   "cell_type": "markdown",
   "metadata": {
    "heading_collapsed": true
   },
   "source": [
    "# Now let's look at JPA flux"
   ]
  },
  {
   "cell_type": "code",
   "execution_count": 305,
   "metadata": {
    "hidden": true
   },
   "outputs": [],
   "source": [
    "JPAflux1 = r\"G:\\Shared drives\\LFL\\Labber\\Data\\2022\\02\\Data_0225\\NBR07-9_SNR_JPA_flux_sweep.hdf5\" #4.355 GHz and -8.5 dBm\n",
    "JPAflux2 = r\"G:\\Shared drives\\LFL\\Labber\\Data\\2022\\03\\Data_0301\\NBR07-9_SNR_JPA_flux_275mK.hdf5\" #4.443 GHz and -8 dBm"
   ]
  },
  {
   "cell_type": "code",
   "execution_count": 306,
   "metadata": {
    "hidden": true
   },
   "outputs": [],
   "source": [
    "lf = Labber.LogFile(JPAflux2)\n",
    "sig = lf.getData(name = 'SA - Signal')"
   ]
  },
  {
   "cell_type": "code",
   "execution_count": 308,
   "metadata": {
    "hidden": true
   },
   "outputs": [],
   "source": [
    "linsig = dBm2Watt(sig)\n",
    "# linsig.shape\n",
    "linsig = np.mean(linsig.reshape(17,3,401),axis = 1)"
   ]
  },
  {
   "cell_type": "code",
   "execution_count": 309,
   "metadata": {
    "hidden": true
   },
   "outputs": [],
   "source": [
    "SAxdata,SAydata = lf.getTraceXY(y_channel='SA - Signal')"
   ]
  },
  {
   "cell_type": "code",
   "execution_count": 310,
   "metadata": {
    "hidden": true
   },
   "outputs": [
    {
     "name": "stdout",
     "output_type": "stream",
     "text": [
      "(17, 3)\n"
     ]
    }
   ],
   "source": [
    "flux = lf.getData(name = 'JPA flux - Source current')\n",
    "print(flux.shape)"
   ]
  },
  {
   "cell_type": "code",
   "execution_count": 311,
   "metadata": {
    "hidden": true
   },
   "outputs": [],
   "source": [
    "flux = np.squeeze(flux)\n",
    "flux = flux[:,0]"
   ]
  },
  {
   "cell_type": "code",
   "execution_count": 312,
   "metadata": {
    "hidden": true
   },
   "outputs": [],
   "source": [
    "SNR = []\n",
    "MAX = []\n",
    "NOISE = []\n",
    "for i in range(len(flux)):\n",
    "    max_ind=np.argmax(linsig[i])\n",
    "    max_val=np.max(linsig[i])\n",
    "    mask = np.logical_or(SAxdata < SAxdata[max_ind]-10e3, SAxdata > SAxdata[max_ind]+10e3)\n",
    "    noise=linsig[i][mask]\n",
    "    avg_noise=np.mean(noise)\n",
    "    snr = Watt2dBm(max_val)-Watt2dBm(avg_noise)\n",
    "    SNR.append(snr)\n",
    "    MAX.append(Watt2dBm(max_val))\n",
    "    NOISE.append(Watt2dBm(avg_noise))"
   ]
  },
  {
   "cell_type": "code",
   "execution_count": 314,
   "metadata": {
    "hidden": true
   },
   "outputs": [
    {
     "data": {
      "text/plain": [
       "<matplotlib.lines.Line2D at 0x1fc92ae5ee0>"
      ]
     },
     "execution_count": 314,
     "metadata": {},
     "output_type": "execute_result"
    },
    {
     "data": {
      "image/png": "[encoded data removed]",
      "text/plain": [
       "<Figure size 432x288 with 1 Axes>"
      ]
     },
     "metadata": {
      "needs_background": "light"
     },
     "output_type": "display_data"
    }
   ],
   "source": [
    "plt.plot(flux,SNR)\n",
    "plt.title('SNR')\n",
    "plt.axvline(5.76e-3)"
   ]
  },
  {
   "cell_type": "markdown",
   "metadata": {},
   "source": [
    "# Set JPA flux at 5.78 mA, JPA pump frequency = 4.355 GHz at -8.5 dBm at 22 mK\n",
    "\n",
    "# Set JPA flux at 5.76 mA, JPA pump frequency = 4.443 GHz at -8 dBm at 275 mK\n",
    "## Sweep TWPA pump frequency and power"
   ]
  },
  {
   "cell_type": "code",
   "execution_count": 5,
   "metadata": {},
   "outputs": [],
   "source": [
    "TWPA0214 = r\"G:\\Shared drives\\Labber\\Data\\2022\\02\\Data_0225\\NBR07-9_SNR_TWPA_freq_power_sweep.hdf5\"\n",
    "TWPA0301 = r\"G:\\Shared drives\\Labber\\Data\\2022\\03\\Data_0301\\NBR07-9_SNR_TWPA_freq_power_275mK.hdf5\""
   ]
  },
  {
   "cell_type": "code",
   "execution_count": 10,
   "metadata": {},
   "outputs": [],
   "source": [
    "lf = Labber.LogFile(TWPA0301)\n",
    "sig = lf.getData(name = 'SA - Signal')\n",
    "linsig = dBm2Watt(sig)\n",
    "# linsig = np.mean(linsig,axis = 0)\n",
    "\n",
    "power = lf.getData(name = '10002A05 - Power')\n",
    "freq = lf.getData(name = '10002A05 - Frequency')"
   ]
  },
  {
   "cell_type": "code",
   "execution_count": 7,
   "metadata": {},
   "outputs": [],
   "source": [
    "SAxdata,SAydata = lf.getTraceXY(y_channel='SA - Signal')"
   ]
  },
  {
   "cell_type": "code",
   "execution_count": 8,
   "metadata": {},
   "outputs": [
    {
     "data": {
      "text/plain": [
       "(26, 11)"
      ]
     },
     "execution_count": 8,
     "metadata": {},
     "output_type": "execute_result"
    }
   ],
   "source": [
    "freq.shape"
   ]
  },
  {
   "cell_type": "code",
   "execution_count": 13,
   "metadata": {},
   "outputs": [],
   "source": [
    "freq = np.reshape(freq, (26,11))"
   ]
  },
  {
   "cell_type": "code",
   "execution_count": 15,
   "metadata": {},
   "outputs": [
    {
     "data": {
      "text/plain": [
       "(26, 11)"
      ]
     },
     "execution_count": 15,
     "metadata": {},
     "output_type": "execute_result"
    }
   ],
   "source": [
    "freq.shape"
   ]
  },
  {
   "cell_type": "code",
   "execution_count": 320,
   "metadata": {},
   "outputs": [],
   "source": [
    "power = np.reshape(power, (26,11))"
   ]
  },
  {
   "cell_type": "code",
   "execution_count": 321,
   "metadata": {},
   "outputs": [],
   "source": [
    "signal = np.reshape(linsig, (26,11,401))"
   ]
  },
  {
   "cell_type": "code",
   "execution_count": 322,
   "metadata": {},
   "outputs": [],
   "source": [
    "snr = np.zeros((26,11))\n",
    "noise = np.zeros((26,11))\n",
    "for i in range(26):\n",
    "    for j in range(11):\n",
    "        max_ind=np.argmax(signal[i,j,:])\n",
    "        max_val=np.max(signal[i,j,:])\n",
    "        mask = np.logical_or(SAxdata < SAxdata[max_ind]-10e3, SAxdata > SAxdata[max_ind]+10e3)\n",
    "#             noisetemp=np.append(linsignal[i,j,k,:max_ind-75],linsignal[i,j,k,max_ind+75:])\n",
    "        noisetemp = signal[i,j,mask]\n",
    "        avg_noise=np.mean(noisetemp)\n",
    "        snr[i][j] = Watt2dBm(max_val)-Watt2dBm(avg_noise)\n",
    "        noise[i][j] = Watt2dBm(avg_noise)"
   ]
  },
  {
   "cell_type": "code",
   "execution_count": 323,
   "metadata": {},
   "outputs": [
    {
     "data": {
      "text/plain": [
       "15.82403303475968"
      ]
     },
     "execution_count": 323,
     "metadata": {},
     "output_type": "execute_result"
    }
   ],
   "source": [
    "snr[0][0]"
   ]
  },
  {
   "cell_type": "code",
   "execution_count": 324,
   "metadata": {},
   "outputs": [
    {
     "data": {
      "text/plain": [
       "17.711466056112513"
      ]
     },
     "execution_count": 324,
     "metadata": {},
     "output_type": "execute_result"
    }
   ],
   "source": [
    "np.max(snr)"
   ]
  },
  {
   "cell_type": "code",
   "execution_count": 325,
   "metadata": {},
   "outputs": [],
   "source": [
    "ind_max_snr = np.unravel_index(np.argmax(snr, axis=None), snr.shape)"
   ]
  },
  {
   "cell_type": "code",
   "execution_count": 326,
   "metadata": {},
   "outputs": [
    {
     "data": {
      "text/plain": [
       "(24, 2)"
      ]
     },
     "execution_count": 326,
     "metadata": {},
     "output_type": "execute_result"
    }
   ],
   "source": [
    "ind_max_snr"
   ]
  },
  {
   "cell_type": "code",
   "execution_count": 327,
   "metadata": {},
   "outputs": [
    {
     "data": {
      "text/plain": [
       "-3.0"
      ]
     },
     "execution_count": 327,
     "metadata": {},
     "output_type": "execute_result"
    }
   ],
   "source": [
    "power[ind_max_snr]"
   ]
  },
  {
   "cell_type": "code",
   "execution_count": 328,
   "metadata": {},
   "outputs": [
    {
     "data": {
      "text/plain": [
       "8.18"
      ]
     },
     "execution_count": 328,
     "metadata": {},
     "output_type": "execute_result"
    }
   ],
   "source": [
    "freq[ind_max_snr]*10**-9"
   ]
  },
  {
   "cell_type": "code",
   "execution_count": 329,
   "metadata": {},
   "outputs": [],
   "source": [
    "ind1,ind2 = nlargest_indices(snr,5)"
   ]
  },
  {
   "cell_type": "code",
   "execution_count": 330,
   "metadata": {},
   "outputs": [],
   "source": [
    "inds = nlargest_indices(snr,5)"
   ]
  },
  {
   "cell_type": "code",
   "execution_count": 331,
   "metadata": {},
   "outputs": [
    {
     "data": {
      "text/plain": [
       "array([17.49664691, 17.34587891, 17.31872223, 17.34509123, 17.71146606])"
      ]
     },
     "execution_count": 331,
     "metadata": {},
     "output_type": "execute_result"
    }
   ],
   "source": [
    "snr[inds]"
   ]
  },
  {
   "cell_type": "code",
   "execution_count": 332,
   "metadata": {},
   "outputs": [
    {
     "data": {
      "text/plain": [
       "array([-66.48664691, -66.83587891, -66.87872223, -66.70509123,\n",
       "       -66.82146606])"
      ]
     },
     "execution_count": 332,
     "metadata": {},
     "output_type": "execute_result"
    }
   ],
   "source": [
    "noise[inds]"
   ]
  },
  {
   "cell_type": "code",
   "execution_count": 333,
   "metadata": {
    "scrolled": false
   },
   "outputs": [
    {
     "name": "stdout",
     "output_type": "stream",
     "text": [
      "SNR =  17.496646913977465\n",
      "Noise =  -66.48664691397747\n",
      "Pump Power =  -3.0  dBm\n",
      "Pump Frequency =  7.7  GHz\n",
      "\n",
      "SNR =  17.345878911371685\n",
      "Noise =  -66.83587891137168\n",
      "Pump Power =  -5.0  dBm\n",
      "Pump Frequency =  7.960000000000001  GHz\n",
      "\n",
      "SNR =  17.318722233102122\n",
      "Noise =  -66.87872223310212\n",
      "Pump Power =  -1.0  dBm\n",
      "Pump Frequency =  8.1  GHz\n",
      "\n",
      "SNR =  17.345091232076456\n",
      "Noise =  -66.70509123207646\n",
      "Pump Power =  -1.0  dBm\n",
      "Pump Frequency =  8.16  GHz\n",
      "\n",
      "SNR =  17.711466056112513\n",
      "Noise =  -66.82146605611251\n",
      "Pump Power =  -3.0  dBm\n",
      "Pump Frequency =  8.18  GHz\n",
      "\n"
     ]
    }
   ],
   "source": [
    "for i in range(len(ind1)):\n",
    "    print('SNR = ', snr[ind1[i]][ind2[i]])\n",
    "    print('Noise = ', noise[ind1[i]][ind2[i]])\n",
    "    print('Pump Power = ', power[ind1[i]][ind2[i]], ' dBm')\n",
    "    print('Pump Frequency = ', freq[ind1[i]][ind2[i]]*10**-9, ' GHz\\n')"
   ]
  },
  {
   "cell_type": "markdown",
   "metadata": {},
   "source": [
    "# TWPA frequency "
   ]
  },
  {
   "cell_type": "code",
   "execution_count": 406,
   "metadata": {},
   "outputs": [],
   "source": [
    "TWPAfreq1 = r\"G:\\Shared drives\\LFL\\Labber\\Data\\2022\\02\\Data_0225\\NBR07-9_SNR_TWPA_freq_sweep.hdf5\" #power 1 dBm\n",
    "TWPAfreq2 = r\"G:\\Shared drives\\LFL\\Labber\\Data\\2022\\02\\Data_0225\\NBR07-9_SNR_TWPA_freq_sweep_2.hdf5\"\n",
    "TWPAfreq3 = r\"G:\\Shared drives\\LFL\\Labber\\Data\\2022\\03\\Data_0301\\NBR07-9_SNR_TWPA_freq_275mK.hdf5\" #power set to -3 dBm\n",
    "TWPAfreq4 = r\"G:\\Shared drives\\LFL\\Labber\\Data\\2022\\03\\Data_0301\\NBR07-9_SNR_TWPA_freq_275mK_3.hdf5\" #power -2 dBm\n",
    "TWPAfreq5 = r\"G:\\Shared drives\\LFL\\Labber\\Data\\2022\\03\\Data_0302\\NBR07-9_SNR_TWPA_freq_275mK.hdf5\""
   ]
  },
  {
   "cell_type": "code",
   "execution_count": 407,
   "metadata": {},
   "outputs": [],
   "source": [
    "lf = Labber.LogFile(TWPAfreq5)\n",
    "sig = lf.getData(name = 'SA - Signal')\n",
    "# s21 = lf.getData(name = 'VNA - S21')\n",
    "linsig = dBm2Watt(sig)"
   ]
  },
  {
   "cell_type": "code",
   "execution_count": 408,
   "metadata": {},
   "outputs": [],
   "source": [
    "linsig = np.mean(linsig.reshape(201,3,401),axis = 1)"
   ]
  },
  {
   "cell_type": "code",
   "execution_count": 409,
   "metadata": {},
   "outputs": [],
   "source": [
    "SAxdata,SAydata = lf.getTraceXY(y_channel='SA - Signal')"
   ]
  },
  {
   "cell_type": "code",
   "execution_count": 410,
   "metadata": {},
   "outputs": [
    {
     "name": "stdout",
     "output_type": "stream",
     "text": [
      "(201, 3)\n"
     ]
    }
   ],
   "source": [
    "freq = lf.getData(name = '10002A05 - Frequency')\n",
    "print(freq.shape)\n",
    "freq = np.squeeze(freq)"
   ]
  },
  {
   "cell_type": "code",
   "execution_count": 411,
   "metadata": {},
   "outputs": [],
   "source": [
    "SNR = []\n",
    "MAX = []\n",
    "NOISE = []\n",
    "for i in range(len(freq)):\n",
    "    max_ind=np.argmax(linsig[i])\n",
    "    max_val=np.max(linsig[i])\n",
    "    mask = np.logical_or(SAxdata < SAxdata[max_ind]-10e3, SAxdata > SAxdata[max_ind]+10e3)\n",
    "    noise=linsig[i][mask]\n",
    "    avg_noise=np.mean(noise)\n",
    "    snr = Watt2dBm(max_val)-Watt2dBm(avg_noise)\n",
    "    SNR.append(snr)\n",
    "    MAX.append(Watt2dBm(max_val))\n",
    "    NOISE.append(Watt2dBm(avg_noise))"
   ]
  },
  {
   "cell_type": "code",
   "execution_count": 413,
   "metadata": {
    "scrolled": true
   },
   "outputs": [
    {
     "data": {
      "text/plain": [
       "<matplotlib.lines.Line2D at 0x1fc9426aaf0>"
      ]
     },
     "execution_count": 413,
     "metadata": {},
     "output_type": "execute_result"
    },
    {
     "data": {
      "image/png": "[encoded data removed]",
      "text/plain": [
       "<Figure size 432x288 with 1 Axes>"
      ]
     },
     "metadata": {
      "needs_background": "light"
     },
     "output_type": "display_data"
    }
   ],
   "source": [
    "#TWPAfreq5\n",
    "plt.plot(freq,SNR)\n",
    "plt.title('SNR')\n",
    "plt.axvline(7.83e9)"
   ]
  },
  {
   "cell_type": "markdown",
   "metadata": {},
   "source": [
    "# TWPA power"
   ]
  },
  {
   "cell_type": "code",
   "execution_count": 341,
   "metadata": {},
   "outputs": [],
   "source": [
    "TWPApower1 = r\"G:\\Shared drives\\LFL\\Labber\\Data\\2022\\02\\Data_0225\\NBR07-9_SNR_TWPA_power_sweep.hdf5\" # freq = 7.82 GHz\n",
    "TWPApower2 = r\"G:\\Shared drives\\LFL\\Labber\\Data\\2022\\03\\Data_0301\\NBR07-9_SNR_TWPA_power_275mK.hdf5\"\n"
   ]
  },
  {
   "cell_type": "code",
   "execution_count": 344,
   "metadata": {},
   "outputs": [],
   "source": [
    "lf = Labber.LogFile(TWPApower2)\n",
    "sig = lf.getData(name = 'SA - Signal')\n",
    "linsig = dBm2Watt(sig)"
   ]
  },
  {
   "cell_type": "code",
   "execution_count": 345,
   "metadata": {},
   "outputs": [],
   "source": [
    "linsig = np.mean(linsig.reshape(25,4,401),axis = 1)"
   ]
  },
  {
   "cell_type": "code",
   "execution_count": 346,
   "metadata": {},
   "outputs": [],
   "source": [
    "SAxdata,SAydata = lf.getTraceXY(y_channel='SA - Signal')"
   ]
  },
  {
   "cell_type": "code",
   "execution_count": 347,
   "metadata": {},
   "outputs": [
    {
     "name": "stdout",
     "output_type": "stream",
     "text": [
      "(25, 4)\n"
     ]
    }
   ],
   "source": [
    "power = lf.getData(name = '10002A05 - Power')\n",
    "print(power.shape)\n",
    "power = np.squeeze(power)"
   ]
  },
  {
   "cell_type": "code",
   "execution_count": 348,
   "metadata": {},
   "outputs": [],
   "source": [
    "SNR = []\n",
    "MAX = []\n",
    "NOISE = []\n",
    "for i in range(len(power)):\n",
    "    max_ind=np.argmax(linsig[i])\n",
    "    max_val=np.max(linsig[i])\n",
    "    mask = np.logical_or(SAxdata < SAxdata[max_ind]-10e3, SAxdata > SAxdata[max_ind]+10e3)\n",
    "    noise=linsig[i][mask]\n",
    "    avg_noise=np.mean(noise)\n",
    "    snr = Watt2dBm(max_val)-Watt2dBm(avg_noise)\n",
    "    SNR.append(snr)\n",
    "    MAX.append(Watt2dBm(max_val))\n",
    "    NOISE.append(Watt2dBm(avg_noise))"
   ]
  },
  {
   "cell_type": "code",
   "execution_count": 350,
   "metadata": {},
   "outputs": [
    {
     "data": {
      "text/plain": [
       "<matplotlib.lines.Line2D at 0x1fc922d6940>"
      ]
     },
     "execution_count": 350,
     "metadata": {},
     "output_type": "execute_result"
    },
    {
     "data": {
      "image/png": "[encoded data removed]",
      "text/plain": [
       "<Figure size 432x288 with 1 Axes>"
      ]
     },
     "metadata": {
      "needs_background": "light"
     },
     "output_type": "display_data"
    }
   ],
   "source": [
    "#TWPApower1\n",
    "plt.plot(power,SNR)\n",
    "plt.title('SNR')\n",
    "plt.axvline(-2)"
   ]
  },
  {
   "cell_type": "markdown",
   "metadata": {},
   "source": [
    "# SNR check both OFF"
   ]
  },
  {
   "cell_type": "code",
   "execution_count": 422,
   "metadata": {},
   "outputs": [],
   "source": [
    "bothOFF1 = r\"G:\\Shared drives\\LFL\\Labber\\Data\\2022\\02\\Data_0225\\NBR07-9_SNR_bothOFF.hdf5\"\n",
    "bothOFF2 = r\"G:\\Shared drives\\LFL\\Labber\\Data\\2022\\02\\Data_0225\\NBR07-9_SNR_bothOFF_2.hdf5\"\n",
    "bothOFF3 = r\"G:\\Shared drives\\LFL\\Labber\\Data\\2022\\03\\Data_0301\\NBR07-9_SNR_bothOFF_275mK.hdf5\"  #275mK DA set to 40\n",
    "bothOFF4 = r\"G:\\Shared drives\\LFL\\Labber\\Data\\2022\\03\\Data_0301\\NBR07-9_SNR_bothOFF_275mK_2.hdf5\"  #275mK and DA set to 15\n",
    "bothOFF5 = r\"G:\\Shared drives\\LFL\\Labber\\Data\\2022\\03\\Data_0301\\NBR07-9_SNR_bothOFF_275mK_3.hdf5\"\n",
    "bothOFF6 = r\"G:\\Shared drives\\LFL\\Labber\\Data\\2022\\03\\Data_0302\\NBR07-9_SNR_bothOFF_275mK.hdf5\"\n",
    "bothOFF7 = r\"G:\\Shared drives\\LFL\\Labber\\Data\\2022\\03\\Data_0302\\NBR07-9_SNR_bothOFF_backtobase.hdf5\""
   ]
  },
  {
   "cell_type": "code",
   "execution_count": 423,
   "metadata": {},
   "outputs": [],
   "source": [
    "lf = Labber.LogFile(bothOFF7)\n",
    "sig = lf.getData(name = 'SA - Signal')\n",
    "# s21 = lf.getData(name = 'VNA - S21')\n",
    "linsig = dBm2Watt(sig)\n",
    "linsig = np.mean(linsig,axis = 0)"
   ]
  },
  {
   "cell_type": "code",
   "execution_count": 424,
   "metadata": {},
   "outputs": [],
   "source": [
    "SAxdata,SAydata = lf.getTraceXY(y_channel='SA - Signal')"
   ]
  },
  {
   "cell_type": "code",
   "execution_count": 425,
   "metadata": {},
   "outputs": [
    {
     "name": "stdout",
     "output_type": "stream",
     "text": [
      "SNR =  14.436601119493517\n",
      "Signal =  -52.98149957187917\n",
      "Noise =  -67.41810069137269\n"
     ]
    }
   ],
   "source": [
    "max_ind=np.argmax(linsig)\n",
    "max_val=np.max(linsig)\n",
    "mask = np.logical_or(SAxdata < SAxdata[max_ind]-10e3, SAxdata > SAxdata[max_ind]+10e3)\n",
    "noise=linsig[mask]\n",
    "avg_noise=np.mean(noise)\n",
    "snr = Watt2dBm(max_val)-Watt2dBm(avg_noise)\n",
    "print(\"SNR = \", snr)\n",
    "print(\"Signal = \", Watt2dBm(max_val))\n",
    "print(\"Noise = \", Watt2dBm(avg_noise))"
   ]
  },
  {
   "cell_type": "markdown",
   "metadata": {},
   "source": [
    "# SNR check both ON"
   ]
  },
  {
   "cell_type": "code",
   "execution_count": 418,
   "metadata": {},
   "outputs": [],
   "source": [
    "bothON1 = r\"G:\\Shared drives\\LFL\\Labber\\Data\\2022\\02\\Data_0225\\NBR07-9_SNR_bothON.hdf5\"\n",
    "bothON2 = r\"G:\\Shared drives\\LFL\\Labber\\Data\\2022\\03\\Data_0301\\NBR07-9_SNR_bothON_275mK.hdf5\" #275mK DA set to 40\n",
    "bothON3 = r\"G:\\Shared drives\\LFL\\Labber\\Data\\2022\\03\\Data_0301\\NBR07-9_SNR_bothON_275mK_2.hdf5\"  #275mK and DA set to 15\n",
    "bothON4 = r\"G:\\Shared drives\\LFL\\Labber\\Data\\2022\\03\\Data_0301\\NBR07-9_SNR_bothON_275mK_3.hdf5\" #275mK DA set to 40\n",
    "bothON5 = r\"G:\\Shared drives\\LFL\\Labber\\Data\\2022\\03\\Data_0301\\NBR07-9_SNR_bothON_275mK_4.hdf5\"\n",
    "bothON6 = r\"G:\\Shared drives\\LFL\\Labber\\Data\\2022\\03\\Data_0302\\NBR07-9_SNR_bothON_275mK.hdf5\"\n",
    "bothON7 = r\"G:\\Shared drives\\LFL\\Labber\\Data\\2022\\03\\Data_0302\\NBR07-9_SNR_bothON_backtobase.hdf5\""
   ]
  },
  {
   "cell_type": "code",
   "execution_count": 419,
   "metadata": {},
   "outputs": [],
   "source": [
    "lf = Labber.LogFile(bothON7)\n",
    "sig = lf.getData(name = 'SA - Signal')\n",
    "# s21 = lf.getData(name = 'VNA - S21')\n",
    "linsig = dBm2Watt(sig)\n",
    "linsig = np.mean(linsig,axis = 0)"
   ]
  },
  {
   "cell_type": "code",
   "execution_count": 420,
   "metadata": {},
   "outputs": [],
   "source": [
    "SAxdata,SAydata = lf.getTraceXY(y_channel='SA - Signal')"
   ]
  },
  {
   "cell_type": "code",
   "execution_count": 421,
   "metadata": {},
   "outputs": [
    {
     "name": "stdout",
     "output_type": "stream",
     "text": [
      "SNR =  16.599430516723622\n",
      "Signal =  -45.11930097912358\n",
      "Noise =  -61.7187314958472\n"
     ]
    }
   ],
   "source": [
    "max_ind=np.argmax(linsig)\n",
    "max_val=np.max(linsig)\n",
    "mask = np.logical_or(SAxdata < SAxdata[max_ind]-10e3, SAxdata > SAxdata[max_ind]+10e3)\n",
    "noise=linsig[mask]\n",
    "avg_noise=np.mean(noise)\n",
    "snr = Watt2dBm(max_val)-Watt2dBm(avg_noise)\n",
    "print(\"SNR = \", snr)\n",
    "print(\"Signal = \", Watt2dBm(max_val))\n",
    "print(\"Noise = \", Watt2dBm(avg_noise))"
   ]
  },
  {
   "cell_type": "markdown",
   "metadata": {},
   "source": [
    "# SNR check JPA ON TWPA OFF"
   ]
  },
  {
   "cell_type": "code",
   "execution_count": 402,
   "metadata": {},
   "outputs": [],
   "source": [
    "jpaON1 = r\"G:\\Shared drives\\LFL\\Labber\\Data\\2022\\02\\Data_0224\\NBR07-9_JPA_SNR_on.hdf5\"\n",
    "jpaON2 = r\"G:\\Shared drives\\LFL\\Labber\\Data\\2022\\03\\Data_0302\\NBR07-9_SNR_JPAON_275mK.hdf5\"\n",
    "jpaON3 = r\"G:\\Shared drives\\LFL\\Labber\\Data\\2022\\03\\Data_0302\\NBR07-9_SNR_JPAON_275mK_2.hdf5\""
   ]
  },
  {
   "cell_type": "code",
   "execution_count": 403,
   "metadata": {},
   "outputs": [],
   "source": [
    "lf = Labber.LogFile(jpaON3)\n",
    "sig = lf.getData(name = 'SA - Signal')\n",
    "# s21 = lf.getData(name = 'VNA - S21')\n",
    "linsig = dBm2Watt(sig)\n",
    "linsig = np.mean(linsig,axis = 0)"
   ]
  },
  {
   "cell_type": "code",
   "execution_count": 404,
   "metadata": {},
   "outputs": [],
   "source": [
    "SAxdata,SAydata = lf.getTraceXY(y_channel='SA - Signal')"
   ]
  },
  {
   "cell_type": "code",
   "execution_count": 405,
   "metadata": {},
   "outputs": [
    {
     "name": "stdout",
     "output_type": "stream",
     "text": [
      "SNR =  17.17455799436182\n",
      "Signal =  -49.891363720367565\n",
      "Noise =  -67.06592171472938\n"
     ]
    }
   ],
   "source": [
    "max_ind=np.argmax(linsig)\n",
    "max_val=np.max(linsig)\n",
    "mask = np.logical_or(SAxdata < SAxdata[max_ind]-10e3, SAxdata > SAxdata[max_ind]+10e3)\n",
    "noise=linsig[mask]\n",
    "avg_noise=np.mean(noise)\n",
    "snr = Watt2dBm(max_val)-Watt2dBm(avg_noise)\n",
    "print(\"SNR = \", snr)\n",
    "print(\"Signal = \", Watt2dBm(max_val))\n",
    "print(\"Noise = \", Watt2dBm(avg_noise))"
   ]
  },
  {
   "cell_type": "markdown",
   "metadata": {},
   "source": [
    "# SNR check JPA OFF TWPA ON"
   ]
  },
  {
   "cell_type": "code",
   "execution_count": null,
   "metadata": {},
   "outputs": [],
   "source": [
    "twpaON1 = r\"G:\\Shared drives\\LFL\\Labber\\Data\\2022\\02\\Data_0214\\NBR07-8_SNR_JPAOFF_TWPAON.hdf5\""
   ]
  },
  {
   "cell_type": "code",
   "execution_count": null,
   "metadata": {},
   "outputs": [],
   "source": [
    "lf = Labber.LogFile(twpaON1)\n",
    "sig = lf.getData(name = 'SA - Signal')\n",
    "# s21 = lf.getData(name = 'VNA - S21')\n",
    "linsig = dBm2Watt(sig)\n",
    "linsig = np.mean(linsig,axis = 0)"
   ]
  },
  {
   "cell_type": "code",
   "execution_count": null,
   "metadata": {},
   "outputs": [],
   "source": [
    "SAxdata,SAydata = lf.getTraceXY(y_channel='SA - Signal')"
   ]
  },
  {
   "cell_type": "code",
   "execution_count": null,
   "metadata": {},
   "outputs": [],
   "source": [
    "max_ind=np.argmax(linsig)\n",
    "max_val=np.max(linsig)\n",
    "mask = np.logical_or(SAxdata < SAxdata[max_ind]-10e3, SAxdata > SAxdata[max_ind]+10e3)\n",
    "noise=linsig[mask]\n",
    "avg_noise=np.mean(noise)\n",
    "snr = Watt2dBm(max_val)-Watt2dBm(avg_noise)\n",
    "print(\"SNR = \", snr)\n",
    "print(\"Signal = \", Watt2dBm(max_val))\n",
    "print(\"Noise = \", Watt2dBm(avg_noise))"
   ]
  },
  {
   "cell_type": "code",
   "execution_count": null,
   "metadata": {},
   "outputs": [],
   "source": []
  }
 ],
 "metadata": {
  "hide_input": false,
  "kernelspec": {
   "display_name": "Python 3",
   "language": "python",
   "name": "python3"
  },
  "language_info": {
   "codemirror_mode": {
    "name": "ipython",
    "version": 3
   },
   "file_extension": ".py",
   "mimetype": "text/x-python",
   "name": "python",
   "nbconvert_exporter": "python",
   "pygments_lexer": "ipython3",
   "version": "3.8.5"
  },
  "latex_envs": {
   "LaTeX_envs_menu_present": true,
   "autoclose": false,
   "autocomplete": true,
   "bibliofile": "biblio.bib",
   "cite_by": "apalike",
   "current_citInitial": 1,
   "eqLabelWithNumbers": true,
   "eqNumInitial": 1,
   "hotkeys": {
    "equation": "Ctrl-E",
    "itemize": "Ctrl-I"
   },
   "labels_anchors": false,
   "latex_user_defs": false,
   "report_style_numbering": false,
   "user_envs_cfg": false
  },
  "toc": {
   "base_numbering": 1,
   "nav_menu": {},
   "number_sections": true,
   "sideBar": true,
   "skip_h1_title": false,
   "title_cell": "Table of Contents",
   "title_sidebar": "Contents",
   "toc_cell": false,
   "toc_position": {},
   "toc_section_display": true,
   "toc_window_display": false
  },
  "varInspector": {
   "cols": {
    "lenName": 16,
    "lenType": 16,
    "lenVar": 40
   },
   "kernels_config": {
    "python": {
     "delete_cmd_postfix": "",
     "delete_cmd_prefix": "del ",
     "library": "var_list.py",
     "varRefreshCmd": "print(var_dic_list())"
    },
    "r": {
     "delete_cmd_postfix": ") ",
     "delete_cmd_prefix": "rm(",
     "library": "var_list.r",
     "varRefreshCmd": "cat(var_dic_list()) "
    }
   },
   "types_to_exclude": [
    "module",
    "function",
    "builtin_function_or_method",
    "instance",
    "_Feature"
   ],
   "window_display": false
  }
 },
 "nbformat": 4,
 "nbformat_minor": 4
}
